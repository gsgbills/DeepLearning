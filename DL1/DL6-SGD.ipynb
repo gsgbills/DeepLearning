{
 "cells": [
  {
   "cell_type": "markdown",
   "metadata": {
    "toc": "true"
   },
   "source": [
    "<h1>Table of Contents<span class=\"tocSkip\"></span></h1>\n",
    "<div class=\"toc\" style=\"margin-top: 1em;\"><ul class=\"toc-item\"><li><span><a href=\"#Linear-Regression-problem\" data-toc-modified-id=\"Linear-Regression-problem-1\"><span class=\"toc-item-num\">1&nbsp;&nbsp;</span>Linear Regression problem</a></span></li><li><span><a href=\"#Gradient-Descent\" data-toc-modified-id=\"Gradient-Descent-2\"><span class=\"toc-item-num\">2&nbsp;&nbsp;</span>Gradient Descent</a></span></li><li><span><a href=\"#Gradient-Descent---Classification\" data-toc-modified-id=\"Gradient-Descent---Classification-3\"><span class=\"toc-item-num\">3&nbsp;&nbsp;</span>Gradient Descent - Classification</a></span></li><li><span><a href=\"#Gradient-descent-with-numpy\" data-toc-modified-id=\"Gradient-descent-with-numpy-4\"><span class=\"toc-item-num\">4&nbsp;&nbsp;</span>Gradient descent with numpy</a></span></li></ul></div>"
   ]
  },
  {
   "cell_type": "code",
   "execution_count": 1,
   "metadata": {},
   "outputs": [],
   "source": [
    "%matplotlib inline\n",
    "from fastai.learner import *"
   ]
  },
  {
   "cell_type": "markdown",
   "metadata": {},
   "source": [
    "**TODO: Convert this notebook to Pytorch 0.4**\n",
    "\n",
    "\n",
    "Review and explain Stochastic Gradient Descent (SGD), an **optimization** method commonly used in ANNs. \n",
    "We illustrate the concepts with concrete examples.\n",
    "\n",
    "- `Regression` — the target output is a real number or a whole vector of real numbers\n",
    "- `Classification` — the target output is a class label"
   ]
  },
  {
   "cell_type": "markdown",
   "metadata": {},
   "source": [
    "#  Linear Regression problem"
   ]
  },
  {
   "cell_type": "markdown",
   "metadata": {},
   "source": [
    "The goal of linear regression is to fit a line to a set of points.\n",
    "As simple as possible."
   ]
  },
  {
   "cell_type": "code",
   "execution_count": 2,
   "metadata": {},
   "outputs": [],
   "source": [
    "# Here we generate some fake data\n",
    "def lin(a,b,x): return a*x+b\n",
    "\n",
    "def gen_fake_data(n, a, b):\n",
    "    x = s = np.random.uniform(0,1,n) \n",
    "    y = lin(a,b,x) + 0.1 * np.random.normal(0,3,n)\n",
    "    return x, y\n",
    "\n",
    "x, y = gen_fake_data(50, 3., 8.)"
   ]
  },
  {
   "cell_type": "code",
   "execution_count": 3,
   "metadata": {},
   "outputs": [
    {
     "data": {
      "image/png": "[encoded data removed]",
      "text/plain": [
       "<matplotlib.figure.Figure at 0x7f93919efe10>"
      ]
     },
     "metadata": {},
     "output_type": "display_data"
    }
   ],
   "source": [
    "plt.scatter(x,y, s=8); plt.xlabel(\"x\"); plt.ylabel(\"y\"); "
   ]
  },
  {
   "cell_type": "markdown",
   "metadata": {},
   "source": [
    "We want to find **parameters** (weights) $a$ and $b$,  \n",
    "to minimize the *error* between the points and the line $a\\cdot x + b$. \n",
    "Note that $a$ and $b$ are unknown. <br>\n",
    "For this we need a *loss function*. \n",
    "For regression, the most common *loss function* is **Mean Squared Error (MSE)**. \n",
    "Below is a simple implementation of MSE."
   ]
  },
  {
   "cell_type": "code",
   "execution_count": 4,
   "metadata": {},
   "outputs": [],
   "source": [
    "def mse(y_hat, y): return ((y_hat - y) ** 2).mean()"
   ]
  },
  {
   "cell_type": "markdown",
   "metadata": {},
   "source": [
    "Suppose we believe $a = 10$ and $b = 5$.\n",
    "Then we can compute `y_hat` which is our *prediction* and then compute our error."
   ]
  },
  {
   "cell_type": "code",
   "execution_count": 5,
   "metadata": {},
   "outputs": [
    {
     "data": {
      "text/plain": [
       "4.0029985059372759"
      ]
     },
     "execution_count": 5,
     "metadata": {},
     "output_type": "execute_result"
    }
   ],
   "source": [
    "y_hat = lin(10,5,x)\n",
    "mse(y_hat, y)"
   ]
  },
  {
   "cell_type": "code",
   "execution_count": 7,
   "metadata": {},
   "outputs": [],
   "source": [
    "def mse_loss(a, b, x, y): return mse(lin(a,b,x), y)   # our loss function"
   ]
  },
  {
   "cell_type": "code",
   "execution_count": 8,
   "metadata": {},
   "outputs": [
    {
     "data": {
      "text/plain": [
       "4.0029985059372759"
      ]
     },
     "execution_count": 8,
     "metadata": {},
     "output_type": "execute_result"
    }
   ],
   "source": [
    "mse_loss(10, 5, x, y)"
   ]
  },
  {
   "cell_type": "markdown",
   "metadata": {},
   "source": [
    "So far we have specified the *model* (linear regression) and the *evaluation criteria* (or *loss function*). Now we need to handle *optimization*; that is, how do we find the best values for $a$ and $b$? How do we find the best *fitting* linear regression."
   ]
  },
  {
   "cell_type": "markdown",
   "metadata": {},
   "source": [
    "# Gradient Descent"
   ]
  },
  {
   "cell_type": "markdown",
   "metadata": {},
   "source": [
    "For a fixed dataset $x$ and $y$ `mse_loss(a,b)` is a function of $a$ and $b$. We would like to find the values of $a$ and $b$ that minimize that function.\n",
    "\n",
    "**Gradient descent** is an algorithm that minimizes functions. Given a function defined by a set of parameters, gradient descent starts with an initial set of parameter values and iteratively moves toward a set of parameter values that minimize the function. This iterative minimization is achieved by taking steps in the negative direction of the function gradient.\n",
    "\n",
    "Here is gradient descent implemented in [PyTorch](http://pytorch.org/)."
   ]
  },
  {
   "cell_type": "code",
   "execution_count": 10,
   "metadata": {},
   "outputs": [
    {
     "data": {
      "text/plain": [
       "((10000,), (10000,))"
      ]
     },
     "execution_count": 10,
     "metadata": {},
     "output_type": "execute_result"
    }
   ],
   "source": [
    "# generate some more data, 10K points\n",
    "x, y = gen_fake_data(10000, 3., 8.)\n",
    "x.shape, y.shape"
   ]
  },
  {
   "cell_type": "code",
   "execution_count": 11,
   "metadata": {},
   "outputs": [],
   "source": [
    "x,y = V(x),V(y)   #make them pytorch Variables so we get the derivatives."
   ]
  },
  {
   "cell_type": "code",
   "execution_count": 12,
   "metadata": {},
   "outputs": [
    {
     "data": {
      "text/plain": [
       "(Variable containing:\n",
       " -1.7212\n",
       " [torch.cuda.FloatTensor of size 1 (GPU 0)], Variable containing:\n",
       " -0.8693\n",
       " [torch.cuda.FloatTensor of size 1 (GPU 0)])"
      ]
     },
     "execution_count": 12,
     "metadata": {},
     "output_type": "execute_result"
    }
   ],
   "source": [
    "# Create random weights a and b, and wrap them in Variables.\n",
    "a = V(np.random.randn(1), requires_grad=True)\n",
    "b = V(np.random.randn(1), requires_grad=True)\n",
    "a,b"
   ]
  },
  {
   "cell_type": "markdown",
   "metadata": {},
   "source": [
    "Now set the learning rate, and lets do the (10000 epoch) Full Gradient Descent.\n",
    "(not SGD as each epoch will look at all of the data):\n",
    "- calculate the loss (a and b are set to random initially)\n",
    "- (every 1000 epochs), print out the loss\n",
    "- loss.backward() will calculate gradients for all variables with requires_grad=True and fill in .grad property\n",
    "update a to whatever it was minus LR * grad ( .data accesses a tensor inside of a variable)\n",
    "- when there are multiple loss functions or many output layers contributing to the gradient, PyTorch will add them together. So you need to tell when to set gradients back to zero (zero_() in the _ means that the variable is changed in-place).\n",
    "- The last 4 lines of code is what is wrapped in optim.SGD.step function"
   ]
  },
  {
   "cell_type": "code",
   "execution_count": 13,
   "metadata": {},
   "outputs": [
    {
     "name": "stdout",
     "output_type": "stream",
     "text": [
      "127.47213745117188\n",
      "0.9053255915641785\n",
      "0.09512176364660263\n",
      "0.08992057293653488\n",
      "0.0898762121796608\n",
      "0.08986758440732956\n",
      "0.08986146748065948\n",
      "0.08985679596662521\n",
      "0.08985290676355362\n",
      "0.0898497998714447\n"
     ]
    }
   ],
   "source": [
    "learning_rate = 1e-3\n",
    "for t in range(10000):   \n",
    "    # Forward pass: compute predicted y using operations on Variables\n",
    "    loss = mse_loss(a,b,x,y)   # loss is also a Variable, so we can later invoke .backward\n",
    "    if t % 1000 == 0: print(loss.data[0])  # from time to time\n",
    "    \n",
    "    # Computes the gradient of loss with respect to all Variables with requires_grad=True.\n",
    "    # After this call a.grad and b.grad will be Variables holding the gradient\n",
    "    # of the loss with respect to a and b respectively\n",
    "    loss.backward()\n",
    "    \n",
    "    # Update a and b using gradient descent; a.data and b.data are Tensors inside the variable,\n",
    "    # a.grad and b.grad are Variables and a.grad.data and b.grad.data are Tensors\n",
    "    a.data -= learning_rate * a.grad.data\n",
    "    b.data -= learning_rate * b.grad.data\n",
    "    \n",
    "    # Extra step in pytorch: Zero the gradients.   \n",
    "    #The _ at the end every function to a tensor in pytorch does it in place.\n",
    "    a.grad.data.zero_()\n",
    "    b.grad.data.zero_()    "
   ]
  },
  {
   "cell_type": "markdown",
   "metadata": {},
   "source": [
    "Nearly all of deep learning is powered by one very important algorithm: **stochastic gradient descent (SGD)**. SGD can be seeing as an approximation of **gradient descent** (GD). In GD you have to run through *all* the samples in your training set to do a single itaration. In SGD you use *only one* or *a subset*  of training samples to do the update for a parameter in a particular iteration. The subset use in every iteration is called a **batch** or **minibatch**."
   ]
  },
  {
   "cell_type": "markdown",
   "metadata": {},
   "source": [
    "# Gradient Descent - Classification"
   ]
  },
  {
   "cell_type": "markdown",
   "metadata": {},
   "source": [
    "For a fixed dataset $x$ and $y$ `mse_loss(a,b)` is a function of $a$ and $b$. We would like to find the values of $a$ and $b$ that minimize that function.\n",
    "\n",
    "**Gradient descent** is an algorithm that minimizes functions. Given a function defined by a set of parameters, gradient descent starts with an initial set of parameter values and iteratively moves toward a set of parameter values that minimize the function. This iterative minimization is achieved by taking steps in the negative direction of the function gradient.\n",
    "\n",
    "Here is gradient descent implemented in [PyTorch](http://pytorch.org/)."
   ]
  },
  {
   "cell_type": "code",
   "execution_count": 38,
   "metadata": {},
   "outputs": [],
   "source": [
    "def gen_fake_data2(n, a, b):\n",
    "    x = s = np.random.uniform(0,1,n) \n",
    "    y = lin(a,b,x) + 0.1 * np.random.normal(0,3,n)\n",
    "    return x, np.where(y>10, 1, 0).astype(np.float32)"
   ]
  },
  {
   "cell_type": "code",
   "execution_count": 44,
   "metadata": {},
   "outputs": [],
   "source": [
    "x,y = gen_fake_data2(10000, 3., 8.)\n",
    "x,y = V(x),V(y)"
   ]
  },
  {
   "cell_type": "code",
   "execution_count": 64,
   "metadata": {
    "collapsed": true
   },
   "outputs": [],
   "source": [
    "def nll(y_hat, y):\n",
    "    y_hat = torch.clamp(y_hat, 1e-5, 1-1e-5)\n",
    "    return (y*y_hat.log() + (1-y)*(1-y_hat).log()).mean()"
   ]
  },
  {
   "cell_type": "code",
   "execution_count": 65,
   "metadata": {
    "collapsed": true
   },
   "outputs": [],
   "source": [
    "a = V(np.random.randn(1), requires_grad=True)\n",
    "b = V(np.random.randn(1), requires_grad=True)"
   ]
  },
  {
   "cell_type": "code",
   "execution_count": 67,
   "metadata": {
    "collapsed": true
   },
   "outputs": [
    {
     "ename": "RuntimeError",
     "evalue": "bool value of Variable objects containing non-empty torch.ByteTensor is ambiguous",
     "output_type": "error",
     "traceback": [
      "\u001b[0;31m---------------------------------------------------------------------------\u001b[0m",
      "\u001b[0;31mAttributeError\u001b[0m                            Traceback (most recent call last)",
      "\u001b[0;32m~/anaconda3/lib/python3.6/site-packages/numpy/core/fromnumeric.py\u001b[0m in \u001b[0;36m_wrapfunc\u001b[0;34m(obj, method, *args, **kwds)\u001b[0m\n\u001b[1;32m     56\u001b[0m     \u001b[0;32mtry\u001b[0m\u001b[0;34m:\u001b[0m\u001b[0;34m\u001b[0m\u001b[0m\n\u001b[0;32m---> 57\u001b[0;31m         \u001b[0;32mreturn\u001b[0m \u001b[0mgetattr\u001b[0m\u001b[0;34m(\u001b[0m\u001b[0mobj\u001b[0m\u001b[0;34m,\u001b[0m \u001b[0mmethod\u001b[0m\u001b[0;34m)\u001b[0m\u001b[0;34m(\u001b[0m\u001b[0;34m*\u001b[0m\u001b[0margs\u001b[0m\u001b[0;34m,\u001b[0m \u001b[0;34m**\u001b[0m\u001b[0mkwds\u001b[0m\u001b[0;34m)\u001b[0m\u001b[0;34m\u001b[0m\u001b[0m\n\u001b[0m\u001b[1;32m     58\u001b[0m \u001b[0;34m\u001b[0m\u001b[0m\n",
      "\u001b[0;32m~/anaconda3/lib/python3.6/site-packages/torch/autograd/variable.py\u001b[0m in \u001b[0;36m__getattr__\u001b[0;34m(self, name)\u001b[0m\n\u001b[1;32m     64\u001b[0m             \u001b[0;32mreturn\u001b[0m \u001b[0mgetattr\u001b[0m\u001b[0;34m(\u001b[0m\u001b[0mself\u001b[0m\u001b[0;34m.\u001b[0m\u001b[0mdata\u001b[0m\u001b[0;34m,\u001b[0m \u001b[0mname\u001b[0m\u001b[0;34m)\u001b[0m\u001b[0;34m\u001b[0m\u001b[0m\n\u001b[0;32m---> 65\u001b[0;31m         \u001b[0;32mreturn\u001b[0m \u001b[0mobject\u001b[0m\u001b[0;34m.\u001b[0m\u001b[0m__getattribute__\u001b[0m\u001b[0;34m(\u001b[0m\u001b[0mself\u001b[0m\u001b[0;34m,\u001b[0m \u001b[0mname\u001b[0m\u001b[0;34m)\u001b[0m\u001b[0;34m\u001b[0m\u001b[0m\n\u001b[0m\u001b[1;32m     66\u001b[0m \u001b[0;34m\u001b[0m\u001b[0m\n",
      "\u001b[0;31mAttributeError\u001b[0m: 'Variable' object has no attribute 'clip'",
      "\nDuring handling of the above exception, another exception occurred:\n",
      "\u001b[0;31mRuntimeError\u001b[0m                              Traceback (most recent call last)",
      "\u001b[0;32m<ipython-input-67-b1668cd3a12f>\u001b[0m in \u001b[0;36m<module>\u001b[0;34m()\u001b[0m\n\u001b[1;32m      3\u001b[0m     \u001b[0mp\u001b[0m \u001b[0;34m=\u001b[0m \u001b[0;34m(\u001b[0m\u001b[0;34m-\u001b[0m\u001b[0mlin\u001b[0m\u001b[0;34m(\u001b[0m\u001b[0ma\u001b[0m\u001b[0;34m,\u001b[0m\u001b[0mb\u001b[0m\u001b[0;34m,\u001b[0m\u001b[0mx\u001b[0m\u001b[0;34m)\u001b[0m\u001b[0;34m)\u001b[0m\u001b[0;34m.\u001b[0m\u001b[0mexp\u001b[0m\u001b[0;34m(\u001b[0m\u001b[0;34m)\u001b[0m\u001b[0;34m\u001b[0m\u001b[0m\n\u001b[1;32m      4\u001b[0m     \u001b[0my_hat\u001b[0m \u001b[0;34m=\u001b[0m \u001b[0;36m1\u001b[0m\u001b[0;34m/\u001b[0m\u001b[0;34m(\u001b[0m\u001b[0;36m1\u001b[0m\u001b[0;34m+\u001b[0m\u001b[0mp\u001b[0m\u001b[0;34m)\u001b[0m\u001b[0;34m\u001b[0m\u001b[0m\n\u001b[0;32m----> 5\u001b[0;31m     \u001b[0mloss\u001b[0m \u001b[0;34m=\u001b[0m \u001b[0mnll\u001b[0m\u001b[0;34m(\u001b[0m\u001b[0my_hat\u001b[0m\u001b[0;34m,\u001b[0m\u001b[0my\u001b[0m\u001b[0;34m)\u001b[0m\u001b[0;34m\u001b[0m\u001b[0m\n\u001b[0m\u001b[1;32m      6\u001b[0m     \u001b[0;32mif\u001b[0m \u001b[0mt\u001b[0m \u001b[0;34m%\u001b[0m \u001b[0;36m1000\u001b[0m \u001b[0;34m==\u001b[0m \u001b[0;36m0\u001b[0m\u001b[0;34m:\u001b[0m\u001b[0;34m\u001b[0m\u001b[0m\n\u001b[1;32m      7\u001b[0m         \u001b[0mprint\u001b[0m\u001b[0;34m(\u001b[0m\u001b[0mloss\u001b[0m\u001b[0;34m.\u001b[0m\u001b[0mdata\u001b[0m\u001b[0;34m[\u001b[0m\u001b[0;36m0\u001b[0m\u001b[0;34m]\u001b[0m\u001b[0;34m,\u001b[0m \u001b[0mnp\u001b[0m\u001b[0;34m.\u001b[0m\u001b[0mmean\u001b[0m\u001b[0;34m(\u001b[0m\u001b[0mto_np\u001b[0m\u001b[0;34m(\u001b[0m\u001b[0my\u001b[0m\u001b[0;34m)\u001b[0m\u001b[0;34m==\u001b[0m\u001b[0;34m(\u001b[0m\u001b[0mto_np\u001b[0m\u001b[0;34m(\u001b[0m\u001b[0my_hat\u001b[0m\u001b[0;34m)\u001b[0m\u001b[0;34m>\u001b[0m\u001b[0;36m0.5\u001b[0m\u001b[0;34m)\u001b[0m\u001b[0;34m)\u001b[0m\u001b[0;34m)\u001b[0m\u001b[0;34m\u001b[0m\u001b[0m\n",
      "\u001b[0;32m<ipython-input-64-fbf65a879f37>\u001b[0m in \u001b[0;36mnll\u001b[0;34m(y_hat, y)\u001b[0m\n\u001b[1;32m      1\u001b[0m \u001b[0;32mdef\u001b[0m \u001b[0mnll\u001b[0m\u001b[0;34m(\u001b[0m\u001b[0my_hat\u001b[0m\u001b[0;34m,\u001b[0m \u001b[0my\u001b[0m\u001b[0;34m)\u001b[0m\u001b[0;34m:\u001b[0m\u001b[0;34m\u001b[0m\u001b[0m\n\u001b[0;32m----> 2\u001b[0;31m     \u001b[0my_hat\u001b[0m \u001b[0;34m=\u001b[0m \u001b[0mnp\u001b[0m\u001b[0;34m.\u001b[0m\u001b[0mclip\u001b[0m\u001b[0;34m(\u001b[0m\u001b[0my_hat\u001b[0m\u001b[0;34m,\u001b[0m \u001b[0;36m1e-5\u001b[0m\u001b[0;34m,\u001b[0m \u001b[0;36m1\u001b[0m\u001b[0;34m-\u001b[0m\u001b[0;36m1e-5\u001b[0m\u001b[0;34m)\u001b[0m\u001b[0;34m\u001b[0m\u001b[0m\n\u001b[0m\u001b[1;32m      3\u001b[0m     \u001b[0;32mreturn\u001b[0m \u001b[0;34m(\u001b[0m\u001b[0my\u001b[0m\u001b[0;34m*\u001b[0m\u001b[0my_hat\u001b[0m\u001b[0;34m.\u001b[0m\u001b[0mlog\u001b[0m\u001b[0;34m(\u001b[0m\u001b[0;34m)\u001b[0m \u001b[0;34m+\u001b[0m \u001b[0;34m(\u001b[0m\u001b[0;36m1\u001b[0m\u001b[0;34m-\u001b[0m\u001b[0my\u001b[0m\u001b[0;34m)\u001b[0m\u001b[0;34m*\u001b[0m\u001b[0;34m(\u001b[0m\u001b[0;36m1\u001b[0m\u001b[0;34m-\u001b[0m\u001b[0my_hat\u001b[0m\u001b[0;34m)\u001b[0m\u001b[0;34m.\u001b[0m\u001b[0mlog\u001b[0m\u001b[0;34m(\u001b[0m\u001b[0;34m)\u001b[0m\u001b[0;34m)\u001b[0m\u001b[0;34m.\u001b[0m\u001b[0mmean\u001b[0m\u001b[0;34m(\u001b[0m\u001b[0;34m)\u001b[0m\u001b[0;34m\u001b[0m\u001b[0m\n",
      "\u001b[0;32m~/anaconda3/lib/python3.6/site-packages/numpy/core/fromnumeric.py\u001b[0m in \u001b[0;36mclip\u001b[0;34m(a, a_min, a_max, out)\u001b[0m\n\u001b[1;32m   1705\u001b[0m \u001b[0;34m\u001b[0m\u001b[0m\n\u001b[1;32m   1706\u001b[0m     \"\"\"\n\u001b[0;32m-> 1707\u001b[0;31m     \u001b[0;32mreturn\u001b[0m \u001b[0m_wrapfunc\u001b[0m\u001b[0;34m(\u001b[0m\u001b[0ma\u001b[0m\u001b[0;34m,\u001b[0m \u001b[0;34m'clip'\u001b[0m\u001b[0;34m,\u001b[0m \u001b[0ma_min\u001b[0m\u001b[0;34m,\u001b[0m \u001b[0ma_max\u001b[0m\u001b[0;34m,\u001b[0m \u001b[0mout\u001b[0m\u001b[0;34m=\u001b[0m\u001b[0mout\u001b[0m\u001b[0;34m)\u001b[0m\u001b[0;34m\u001b[0m\u001b[0m\n\u001b[0m\u001b[1;32m   1708\u001b[0m \u001b[0;34m\u001b[0m\u001b[0m\n\u001b[1;32m   1709\u001b[0m \u001b[0;34m\u001b[0m\u001b[0m\n",
      "\u001b[0;32m~/anaconda3/lib/python3.6/site-packages/numpy/core/fromnumeric.py\u001b[0m in \u001b[0;36m_wrapfunc\u001b[0;34m(obj, method, *args, **kwds)\u001b[0m\n\u001b[1;32m     65\u001b[0m     \u001b[0;31m# a downstream library like 'pandas'.\u001b[0m\u001b[0;34m\u001b[0m\u001b[0;34m\u001b[0m\u001b[0m\n\u001b[1;32m     66\u001b[0m     \u001b[0;32mexcept\u001b[0m \u001b[0;34m(\u001b[0m\u001b[0mAttributeError\u001b[0m\u001b[0;34m,\u001b[0m \u001b[0mTypeError\u001b[0m\u001b[0;34m)\u001b[0m\u001b[0;34m:\u001b[0m\u001b[0;34m\u001b[0m\u001b[0m\n\u001b[0;32m---> 67\u001b[0;31m         \u001b[0;32mreturn\u001b[0m \u001b[0m_wrapit\u001b[0m\u001b[0;34m(\u001b[0m\u001b[0mobj\u001b[0m\u001b[0;34m,\u001b[0m \u001b[0mmethod\u001b[0m\u001b[0;34m,\u001b[0m \u001b[0;34m*\u001b[0m\u001b[0margs\u001b[0m\u001b[0;34m,\u001b[0m \u001b[0;34m**\u001b[0m\u001b[0mkwds\u001b[0m\u001b[0;34m)\u001b[0m\u001b[0;34m\u001b[0m\u001b[0m\n\u001b[0m\u001b[1;32m     68\u001b[0m \u001b[0;34m\u001b[0m\u001b[0m\n\u001b[1;32m     69\u001b[0m \u001b[0;34m\u001b[0m\u001b[0m\n",
      "\u001b[0;32m~/anaconda3/lib/python3.6/site-packages/numpy/core/fromnumeric.py\u001b[0m in \u001b[0;36m_wrapit\u001b[0;34m(obj, method, *args, **kwds)\u001b[0m\n\u001b[1;32m     45\u001b[0m     \u001b[0;32mexcept\u001b[0m \u001b[0mAttributeError\u001b[0m\u001b[0;34m:\u001b[0m\u001b[0;34m\u001b[0m\u001b[0m\n\u001b[1;32m     46\u001b[0m         \u001b[0mwrap\u001b[0m \u001b[0;34m=\u001b[0m \u001b[0;32mNone\u001b[0m\u001b[0;34m\u001b[0m\u001b[0m\n\u001b[0;32m---> 47\u001b[0;31m     \u001b[0mresult\u001b[0m \u001b[0;34m=\u001b[0m \u001b[0mgetattr\u001b[0m\u001b[0;34m(\u001b[0m\u001b[0masarray\u001b[0m\u001b[0;34m(\u001b[0m\u001b[0mobj\u001b[0m\u001b[0;34m)\u001b[0m\u001b[0;34m,\u001b[0m \u001b[0mmethod\u001b[0m\u001b[0;34m)\u001b[0m\u001b[0;34m(\u001b[0m\u001b[0;34m*\u001b[0m\u001b[0margs\u001b[0m\u001b[0;34m,\u001b[0m \u001b[0;34m**\u001b[0m\u001b[0mkwds\u001b[0m\u001b[0;34m)\u001b[0m\u001b[0;34m\u001b[0m\u001b[0m\n\u001b[0m\u001b[1;32m     48\u001b[0m     \u001b[0;32mif\u001b[0m \u001b[0mwrap\u001b[0m\u001b[0;34m:\u001b[0m\u001b[0;34m\u001b[0m\u001b[0m\n\u001b[1;32m     49\u001b[0m         \u001b[0;32mif\u001b[0m \u001b[0;32mnot\u001b[0m \u001b[0misinstance\u001b[0m\u001b[0;34m(\u001b[0m\u001b[0mresult\u001b[0m\u001b[0;34m,\u001b[0m \u001b[0mmu\u001b[0m\u001b[0;34m.\u001b[0m\u001b[0mndarray\u001b[0m\u001b[0;34m)\u001b[0m\u001b[0;34m:\u001b[0m\u001b[0;34m\u001b[0m\u001b[0m\n",
      "\u001b[0;32m~/anaconda3/lib/python3.6/site-packages/torch/autograd/variable.py\u001b[0m in \u001b[0;36m__bool__\u001b[0;34m(self)\u001b[0m\n\u001b[1;32m    121\u001b[0m             \u001b[0;32mreturn\u001b[0m \u001b[0;32mFalse\u001b[0m\u001b[0;34m\u001b[0m\u001b[0m\n\u001b[1;32m    122\u001b[0m         raise RuntimeError(\"bool value of Variable objects containing non-empty \" +\n\u001b[0;32m--> 123\u001b[0;31m                            torch.typename(self.data) + \" is ambiguous\")\n\u001b[0m\u001b[1;32m    124\u001b[0m \u001b[0;34m\u001b[0m\u001b[0m\n\u001b[1;32m    125\u001b[0m     \u001b[0m__nonzero__\u001b[0m \u001b[0;34m=\u001b[0m \u001b[0m__bool__\u001b[0m\u001b[0;34m\u001b[0m\u001b[0m\n",
      "\u001b[0;31mRuntimeError\u001b[0m: bool value of Variable objects containing non-empty torch.ByteTensor is ambiguous"
     ]
    }
   ],
   "source": [
    "learning_rate = 1e-2\n",
    "for t in range(3000):\n",
    "    p = (-lin(a,b,x)).exp()\n",
    "    y_hat = 1/(1+p)\n",
    "    loss = nll(y_hat,y)\n",
    "    if t % 1000 == 0:\n",
    "        print(loss.data[0], np.mean(to_np(y)==(to_np(y_hat)>0.5)))\n",
    "#         print(y_hat)\n",
    "    \n",
    "    loss.backward()\n",
    "    a.data -= learning_rate * a.grad.data\n",
    "    b.data -= learning_rate * b.grad.data\n",
    "    a.grad.data.zero_()\n",
    "    b.grad.data.zero_()    "
   ]
  },
  {
   "cell_type": "markdown",
   "metadata": {},
   "source": [
    "Nearly all DL is powered by **Stochastic Gradient Descent (SGD)**, an approximation of **Gradient Descent** (GD).<br>\n",
    "- In GD we run through *all* the samples in the training set to do a single itaration. \n",
    "- In SGD we use *only one* or *a subset*  of training samples to do the update for a parameter in a particular iteration. The subset used in every iteration is called a **batch** or **minibatch**."
   ]
  },
  {
   "cell_type": "markdown",
   "metadata": {},
   "source": [
    "# Gradient descent with numpy\n",
    "Now lets do it without Pytorch, so we do need to do the calculus..."
   ]
  },
  {
   "cell_type": "code",
   "execution_count": 14,
   "metadata": {},
   "outputs": [],
   "source": [
    "from matplotlib import rcParams, animation, rc\n",
    "from ipywidgets import interact, interactive, fixed\n",
    "from ipywidgets.widgets import *\n",
    "rc('animation', html='html5')\n",
    "rcParams['figure.figsize'] = 3, 3"
   ]
  },
  {
   "cell_type": "code",
   "execution_count": 15,
   "metadata": {},
   "outputs": [],
   "source": [
    "x, y = gen_fake_data(50, 3., 8.)"
   ]
  },
  {
   "cell_type": "code",
   "execution_count": 16,
   "metadata": {},
   "outputs": [
    {
     "data": {
      "text/plain": [
       "85.406482968176974"
      ]
     },
     "execution_count": 16,
     "metadata": {},
     "output_type": "execute_result"
    }
   ],
   "source": [
    "a_guess,b_guess = -1., 1.\n",
    "mse_loss(a_guess, b_guess, x, y)"
   ]
  },
  {
   "cell_type": "markdown",
   "metadata": {},
   "source": [
    "Create an update without pytorch.\n",
    "The prediction is linear `lin()`\n",
    "and now we need to compute the derivatives, dydb and dyda"
   ]
  },
  {
   "cell_type": "code",
   "execution_count": 17,
   "metadata": {},
   "outputs": [],
   "source": [
    "lr=0.01\n",
    "def upd():\n",
    "    global a_guess, b_guess\n",
    "    y_pred = lin(a_guess, b_guess, x)\n",
    "    dydb = 2 * (y_pred - y)\n",
    "    dyda = x*dydb\n",
    "    a_guess -= lr*dyda.mean()\n",
    "    b_guess -= lr*dydb.mean()"
   ]
  },
  {
   "cell_type": "markdown",
   "metadata": {},
   "source": [
    "Lets create an animation that shows how it works..."
   ]
  },
  {
   "cell_type": "code",
   "execution_count": 18,
   "metadata": {},
   "outputs": [
    {
     "data": {
      "text/html": [
       "<video width=\"500\" height=\"400\" controls autoplay loop>\n",
       "  <source type=\"video/mp4\" src=\"data:video/mp4;base64,AAAAHGZ0eXBNNFYgAAACAGlzb21pc28yYXZjMQAAAAhmcmVlAACMyW1kYXQAAAALBgAHgMXBABX5\n",
       "QIAAAAAIBgEEAAAIEIAAACeIZbgEDf/6YFJ/sKhEvVg/vP854yHB3is3AvyikP8TzAAAAwAAAwAD\n",
       "gEw3mUDjtHWwm0RgaS2FYNgAACmYCogU5hCypj+4z2ooiL0wHn+ELNnrspB3EYkCoVoMFAET33c1\n",
       "7jtD2bObN2SWqODpmWbRqbu8zbAQOyqvEIr06+2LcbH3jQa2ec9NutXhVh2FIAEzjsQ7w7/nkMOO\n",
       "+CKrXcBOEzVb4qWwIXKam8j4WDg58LoeGAu57ng6pWlNtoflCnEkZerDwyMmBZ506K5Oads+PrP8\n",
       "818bJEjO9PFuOc6YnstAcBd8PUaVoJBVWLwzXHr4NTPBcUV7qEBpQ75gyvKagRY2UBgiwUuqSbJH\n",
       "B0+eNHQYQng4h6ptJojPowF/oeE05pFSjnQQPqxCj8x9xmqF6uMO4pCvXa5y8TOn5W6387xN+AYQ\n",
       "SQyAKtWZXEz4X0f9kf4M3Mlxq+cl6vzb8VUI+gw3G55XZLs+dAwg/0r+GOLr+pxkB4Pu2rCS0ALt\n",
       "fsRoA0e4r06QE5rvbQc/ezneXybfxc/tIpPhmJOAIvdyoKn/Zx61v+eEtpkuhnYE9gGK/w7D3GXa\n",
       "ZH0a9wN4Q7gcIqfTeP/sO64ZjtOo4zRF5MCBLUnV05taaTUVqWoyjpI9NMgB20zSEbu/7Ih1uBtq\n",
       "dIyV8gBU4yGL7xQxVY4tv2AVajxfrcwdZoomr/ORMkDglD5PpEm8dSvsewI39+gZyLz9CSMGGxRK\n",
       "DKjhyDuVx+NslrUJD8DCRPIlU9jdU1y8psR83hr0uuu04RPLeWrbQhiklKSAmWgbH3kqfRo2bhkB\n",
       "4KkyOO5TeI5khg0oefmXVD0Ta5ifPpuoDKeOQ16E6sOIEzmukz7QxrCrsZFXxAAnllfCOtZ+tX7l\n",
       "M4jveA4UUhoiiI3iwz0fg6ABy6t4safGuT8YpEazad6Zkd2GoCWkrBQBxmgLLfiIY6ZEOXIhnydy\n",
       "msqkIQQDk3EZAvC6QZ6ILltbmqvLersUAizKPszObeO97zocClQJ3isSIlLjGjneDmDHpdbAEoTS\n",
       "x9diAsHJDjiRTMp6GUf/ur8RIpE+hFYKwEWLcT40bwjHKVN3VH48PeVD6+Rw+K5TqiR5avUtP7IT\n",
       "WxEwXsRKd3EQPp/BPr/wO7vmsolbdyj6RVsY7Nl3KoijLmXnkvuct06dckUPE43qpVkBADHnqYpP\n",
       "2XhvmCCfloiAZ8r3WcqeIjgdC25dVRXxpd0eXLwISHbVJk1mmeJ4xcHhcDfNkPtqZhreqmWglM0C\n",
       "pCS661mr7shb8z+TjZKki6WbJGVjpEtdUG3mHWvrzMZizsAGG4qPp4q+WFdcM9f/+y7/0dcdmJ2J\n",
       "Y1MF2k87tmDoLvoNl1d+Xoy0IwXYe1qGsArtUTMhuXpKjlYCfQGlUHcKTdbSkVqZrRaJeCnBn9PQ\n",
       "V6/88knCIIn6J7uKNwc+1jGJBhd4tzsDI2WPNyncR/teO8ATxNjUbCX4J1EUC1TuQF0Q98bazBPH\n",
       "LeaaT91857nBdTYg35t9+iwpudf1L6laLA3hG9B0aqvsj+Sm4nE2SuRsE2vjzAknO4O7Ts6cl+WA\n",
       "zCEp1G6BSh0XeZLcnnW6nPS5oaYrJTGOK+ijL6fITPEQ9V6KCPVm17ue4E+poNuvEdfLf+RliXqC\n",
       "OkYlomtjfFa4SGsr9BotE82M6qttE9XzP03PS7f5JU/bo+XohgTPLg26KTAjS02Ik9iedsswlVJA\n",
       "w1TluUtcRykX/x7qGd2ACPsbFsIym3XolWBNdI70HQjqaVIBgG6ln0JraMVTvC4Oz37FL4v8Au0r\n",
       "p7DqjSc4O65atqZn5iaNWkYPRm7TJPgUF2mZcb8nvYKniTfv3IL54O8YvFObKGBIDbB9Ck2K7gaO\n",
       "jYzuP//1ROzQtPIwlbDTp3H8b+ixjw2+kHEl5bsft4DmdGQrm7MhDSmIulMwf+GFRuffWK0S4vL7\n",
       "a67MM1vvs6sX4CJeCouaMfhZhWdLQ9rvNVO4xkgcNICLAK+R/L2YSjZBFh491ou4pp+QRs4Mhr1+\n",
       "FmBOFUZlWEhFrXKonuDI9T1BXLkHH6U7qf0OrmEsKOAioZPjDA0CrmgpAnDBic0aA9popQwhGT5I\n",
       "bzfP0BvD1+aZRcUj1aygS6N6UNNhVI/6MJasLbNKDd7QaYH+JhroH12Odd/zqZRK3mS0pFBZ2ihQ\n",
       "VFO6I5zCUA+bvpWAsuJA1CpZXkzdlkICNO39mUwqhIRd/tGMbwElLowxb6QF6gGOIcuLKK3mRb7N\n",
       "R4PAQnJs7PfItyIZovX2qoqNy07kv9u4X6+5ArhaWsjX1IiVBiL9R9nLwIEdnLZDP1N2dPbsKlnR\n",
       "LHKu50snRbULLZL3vkxvMyose/GtiRX7ZIW4noHMZfFlZAUXBVfmvkqI77BnqEcbpVSzwmwLvO8K\n",
       "S486jyp+EjcNGknJyzaWlrwJaV8orDDwjtpnpQFrpbJA1xYFT+xFsEcUIJfyt0pJa7+BWVUifbeo\n",
       "X8UWyVUe51fgzaglQgpiCJEbk7WO8rZ9gK7z/2uz9teJeVn5luyGcqm/Bqv0nGzpTgCtQjOOSxRy\n",
       "yFVyAiYnsIQIzJEi3iDSK3xEFKu5w+lUrYWYzveh7ZZgdUVrQ8PP25aN+HrV0cPGbanmGktRXV2r\n",
       "YZ0RF3xFRVrW4Ap5uS8PPsd46NIZXZ81cINmqf6qjYA8kLv34volc/3B0iPzuPmEF0q5LVv2yCPw\n",
       "zgC4KnYHuzYyL+1CFOZLhHkAok84pYfiZpWaMXz5MUz52FJvsJuTOvq9Khoi91Wrm4U0QjqL3+ab\n",
       "2AJjjNyhqbkr91YaJxRDriM+PFJPzRfLENOgwvEzt4BAriBvbS4pu6Ilb0Ct4cK3qOtQCpZudvNj\n",
       "YIfHI4a5jDEASHQV+6a57jHKUxvH4fzQFjDzYqMkBDVfjtT7VnnsiffZRfEtjhJ1+mSKcZnKrUCR\n",
       "ROAJrRfJ3tVnhcWUVnMC733LxX5Fe6hAaUQE7j7OwWk4Tzgs9xGeDXkVH6iUh90TeNnVUugU0dLz\n",
       "NThsX/nxjOG5LNh+O7yg86X+vHWN5xAC8kLCp+ANv3BXFVLNLmQKogfmrUbsQwDQ8q2lsXUBEUpw\n",
       "qOmBiwweAHOY4OXZugtVSoZp04MdYThBvlca3TdTytDbp1REoaleGopPIUGpjkX4xmwToE6MPuJb\n",
       "Pr1R4brwOm/uLoRF0IVu817Kc3+OalIHQx19MLfTGbJrhvXEKmRrTLijcEvUgAGn1l+BT2QtKkOJ\n",
       "OYRmf49IRR0Rs6PrMcp4JUefzJ90DrnC8yi84uy+0mbOOUYDeXT8M48wTacePZHH45P2vbIzV+dq\n",
       "6NP+wkVIhqXffznjToOj7gdlindLaaMdO9PlSHJ4zmwtQRn+9GzDynJM1zVsw/VyhFOneZ21PpXp\n",
       "lAGuVw4A1jHEME+JC0c/Je3zb9X2GP0Upn7AIKBuAxtDblcuYcfjzS9EHiM736Rgoq+O+SYekNQE\n",
       "HDcrArL9zr5n7Dje0R4fUhACh1l/h3iTQhhX8l6yftksFupNURA6XQy7gZP96XrKa3n9jW5+WCaS\n",
       "B+bxK3ft7Ag92/ssMTX+inq5/rHSyTtX8e7om7YMuZ4e77igtQE5PdNVN2fmnIH7150FRGuHHzld\n",
       "/9lNGfikEol5RaHqoKCPUlk/SYtbDlWB0dDddgv1QZoRkBhn2X9B43JlGV8+1QoKMywN0UbDxhJJ\n",
       "jzRQyCdWuPdhwROITDAKb3Yn1RWDb8N9R48QmGz10PQy831RAOicGAAQEW/f//dcFDdlnf/BAYZi\n",
       "nntfpKMlH0UyCnsuxbFeLx3XA2bwJKEtwg0uCGfW+yg6Nt/CAOpX2+PN/xF4n8yBTZS8oGiGyjf1\n",
       "SUnU9JbzcEQf/7xUmdQtmZz4ATh4Fve0IW27zO5gdYHvFzc/VZBUrx84vXSuV7rb5fNVvSOMyWMu\n",
       "N1E2NYXrBwr03DLpgdVpbalqflHj1h9O0ERtiSYpyankdUCwj613vGiCobUbOo2YQK6gcHzQ0DIM\n",
       "GVpLS8simo/iz36I9C1dYeSzejxtpbQxnI8jVD/1ThFBO15r8MDE0NMc5hrmzNDRz02/2PWDWvzR\n",
       "U2BpueOtQW3iOZpTgNFzxOx90AiUeeJ26IvcOYnoIfz3BbabJJkWI8Z6k5Z+egbdrar8MMmNInHw\n",
       "qONJNCNa4J0+ZKTBl0CKjGzh4L/AfC0Gt6bjr4MZCd9AqTNc591+fxXToxj/liBWtmOM3KG5WxGP\n",
       "InyTcZEVBImow7tMIMbN+A7gqNjaa8mGFp3Esz8ko8BomjGQd0jDHzb1gPhzE12zOV0h2NqlJnT8\n",
       "MvrhjKYnkUrVSFTA6M4l8YJeellCX++thI3gcpSF+Uts0dyALYS/liY+USvOrVocDKLv//bBQZqs\n",
       "xjj1t4zUhipC7JrCw0TVIJ4naOxBBKihNzbv/NlsPkHOm0xyMDfte6ndWbq/WYRO3Fde+GDIsbJ2\n",
       "J9ueU7FCcF9ejFDufKZU+eW89cyt5//jvaPhBLm+mqUL3rcdgpTs4W3XxClnyuL0Lh6XvrCI3SPl\n",
       "U1e0I8QVSm5dDoQdMOV6uN+iVp5Ex8dlTHq4rSiNvTSnmbOnHZK/M1i74lrTJFeno2MeR+e7KBxy\n",
       "NW/e0zGh8AeBGy9ECkIs8/qW4KVu4hXcfh17nBf4eZslyhAPzbZcMtNOr1OIof0Y3qtDuJlp/Il4\n",
       "ZnakKARj3qQI9IpSrIyK9xQgw59jx/fa2Sr1RqOhBMA7pwRpHXKZDsCD26Wf08GPCyNJuCEBEK+j\n",
       "3xfaClpZPnrf6+2iiVFtvgQQrcSU/0XrAolyhDs/uB4J+KMDgkiiaM3YMaHs3kiPPQ/vFTeVgz9a\n",
       "DNX07Cg0h0gabvXzuWqBpjiVVe7T4dkcL2X48tTd2ygpit7WREenNUdjSUP3hUHEremQTLTNIWA6\n",
       "s4eIVY6mBHj///9WRjaEromuylvYNY+sFnBzZYHCfZq4ZG6lCVYQYHiri8AEI9cvRoffiJGufi5S\n",
       "YOEbWrncZKW35oJLwB0ePmqd2AbX3iQbG90JmEDo/bgI47dTjvBXY4ViXOLmKzUbvvuGIINhlYL8\n",
       "drcxF2OllOT4r7Iy4kSSZ0W9WhdHh2axuwyJt7hVJMKrPksNxVd2SubT+2yECfNkUZj9m46/2vMa\n",
       "NyX+hfh4CuF7NrhHjpDM3+X1mI2ZJ4HMG9hYjGITr1FgB7QFx49oIaFJgxsg4ZXu8NcwiFRPJ4/z\n",
       "I7fz5o/4TfLP2Tz1JSwSDCiYvMHwsOop/P2VzbLP9kGDXt0pGJH/zBX02yeHoUNyhE9yK/YM9yIn\n",
       "GXEw+bmJmc5f/G/e7vHsQUvkYVTT9kB0CuPRbC3J4ykakMKOyPPYd5GL8r4eLpBPTYqHHiJK61t3\n",
       "r8hK2idhNZCWz4wYZa/D0a/5zOgJCAgmjtaQ1phxVA6YMTXM1h3xyssjQaRaHVHTHpzE5F5Ng21h\n",
       "1KKy4WL6L6aWj91Hskcztza/myaxhMsNiQI7cUlEvv6SFAf8vLmfkphX4FaxqN/0ZY7KzTn7eY/F\n",
       "xu1sVI4Z+uhxxqtJtqoMtwAbRiHaeH+XOg/hRFJISYpfD7A22DS+tlXxQ8+qRDiSl6QXyrY8LpOj\n",
       "7EsvdD1utrwuf60OF4X+gOoRhWtRxVZhH0bf6SdPkZ/S2kQ3zSEzcJYPqlDUNYrJeP0D/QFINitz\n",
       "I8JpqJNqDRy5yD/0mBise1o8vC1cyvmN/q5Qpggg6xEc6fAI60hZArrzzd1VGx5L+Hchr3/U9K9B\n",
       "vSnosDACG+/Q+7a3rDxAvlHcUBpSNPvxNSotNhJCuCrQLbPRErJm57Srxe2B5NofICxDa3/ilOIJ\n",
       "zN/KDveiaX4cV5c8DpGmAeHe/LDM4DXckM5kXfBaJIAefZ4xRra2q6nNvN9Cpzv893vCr/m8yWIK\n",
       "/4SsWkSknpKKkJ/capataF3gztrHEAxl6i2ftPaCvVa/UoRvSrpjUF1h/09T6OvGHlMB8qKPNATV\n",
       "uSpvHWrEYQ6BjxKyowpxGBG+XU4RBR6h0OjvrwsmTpf/keLdzc7hvsXIUB5m36U1h6r/w72NRHmk\n",
       "7QIi0b6EdEtghgZRwApJSfUvtXw/WTxF50lzs41KHvGtt63FpwRkH/i07k3E/x5u+ZpscL9FEt9E\n",
       "SsyCvEF+hvjo7VHLfML52hwC1+NniPdbZOMF1ranl2aOHmausMaz5xJRObAB8DSOBwgLSS9Fsigg\n",
       "6tE3JEEbk87MiYu1ejW1PX5eQdgooOEPn40tdSz4kyTpuuxIuxaacr3z2VJodwM8zwzqCWqN+Idh\n",
       "QEkA31NVxLjDTB5ZDg5rhfBorO/NXZVgxgynN/xaejNoeX33FdG2mBd/jvqvcnnHe02hZUu5STDH\n",
       "GWb3UYUaROgBDYjx0VVm236TelehG8TMhFC/+LFVC6cfr1ia7gXaIK7YwgtSXUxER7pHiINXUXVV\n",
       "XTlyWPXIKyI2vLScZpBe5tlwF6q4+NegG+Ag6wVb54zwBtd70zbGiNBwuuwUBbb6WzJHUt/lF2wk\n",
       "ed8I9LM4EC0AxCaAntqqkApaL2AIfMv+Dv+u3tX1Q+9IJcpq3NFVoAzDxotzi7TbzRSw4IqCuhbM\n",
       "4R17A1g2xm5pqTfO1ObJc8Mbe5FxP57gBBT9qHk7aSCXFx1k7Pzy7r/xT9XGBswyIIKRnK44ckrL\n",
       "zfnxeW3IB2IyteWk1W99+OyyMXWEozGM7QbWRwlQ8Lj1e91zMkXVLis/TTWKRS5W2Fm/Ufavm9GC\n",
       "g3ezxsAN8txfwFb8TKlzdTON4PxlTCeO0qcz2j8bm326az+cL/r1w8Xuw+Vp1axIncsntWoYWrd/\n",
       "AYe/iO1+5DLclyUXI1OTX0KHfg0ypzlUVNoezJ5DY4vN0hPfZaZ+RArIUMje9yDfnIiWbhF3DUce\n",
       "tcgWpwf3e6Cgl+G+cQv0BVMfvYHyRqi0uI2/wuf3n9MvxOWZQ3JBifhBTgL4GVjyQNtibqhnsTqQ\n",
       "5C3r66aTzrSV8nfbipUE4ej/ndDH8dCmULzE5WZ13GBy2p923zW6uKUKz/4An5TIlRt40REiPmNk\n",
       "KMtuphCh6b8VIv7/Kb8eyej8MBd51qP/Pymlik5l6etkQsTlOVOjYAGmfFHS90Vm0noEHXH0tSJm\n",
       "5o0s5HuTTgwOQIPZE9ZbOClt0QDCcq851IT/mZyG1G99SF+OTCZ1v8p5K11BuOk+hOJUb5YXlX0a\n",
       "Z9a/dk+b8kGzwZqPgLkfDEVqWiLM3CaB0Y//iEhXY6UIzx/mZTqWkD18JFOrqAJv2U7OHEtGBK2s\n",
       "fpXs4cuDr59fyf6YN0NM3XCC0pN4LTIFyEpi/0HA1DmwQ8vn6HrOiM7Js4u6AZffo/NEs1cSTkTs\n",
       "gBuXAIwL4y3VLuIwtwwX+z1fMCQnimJzxYjNrynBIpBOCU47h5xeqAZHOYUYjfT4CxpSf1paDTYu\n",
       "RYdDFjQynoQ10m3X7F1J/aBWaRraOBs+B/jR9pug7cBbISrYaBpJ7U9f/NiSFM83x2Tum+q/myLE\n",
       "iQJkoiYqp+PQkU98lI/xzBjE61tcE6Lj6dh3jpTJYDMNKHWwr/nyM5613uZxl7S+pof/Nts54XXz\n",
       "Fs7vZtFdhVRX+K8zuQALWHu8BLkzB4+XpE6UT3GyUmOvCO+nhsZp8a79b8itjcMc1emOZLCR4mI3\n",
       "Pk70v3HE18U7dEdzKBf0f1h30nRWGRtzbyPeBYYKvl56y944Mgl66nWhgdaHfuiKFL4IkF1L+rJh\n",
       "sp0XlvLQzIf/9LwkfOy977Ty7/hlxW5z/6+tqcfuCByuuZWcROnZhmpMPLwcbD1leHbB++iDOPYT\n",
       "fR6SvgTcK0p49/lK11YKESF/HPjqAWkPIZq3Q4KuBa22d53Hg5N/2N8Hd5NTsbseUxdHHfS6zzIw\n",
       "hjmKbye8e5vJfIdn5BEaNXkxXe9Q4D6AvcAVmTbmK0NiYTZDVcslH3VeMd9aJhb+I0+a2YxmgbFh\n",
       "YwreH2/DnKASUoOLe0Wu52AalzodTrCmXZmBJZ4Vzqc8Iq2J0CnJUMZwfjBSSASga1dQocY3cVX0\n",
       "EbTnS41AFnigHDPG7f1gTdsMbrRdMzapptl00JHtINtebJKz1JhkeMRQtR7H2p+CzpYgMgB8yrAq\n",
       "g7qrgFlwof5v4wouFiTwWElzM4qbD8qn3dLGJ1/T2MLZCsy8PqFPM1oqb0MriFQXopJPeJXFIkQP\n",
       "iK4Yj4uLf/+W7N/////kjqD/akKFtOAwq06D+2KzPkcxd4XSmh8mhgztbvWHpTLJ2IKkK2vk+pIa\n",
       "wTxf+gR4kew4FteLcxq41jyc792d1rwLkCHt/U1pGcppPES+Amfu25i2Bod8+uqA+anymYbfbfZD\n",
       "NBNJWmwXMrhc1ibZKc1MWzT9oD/V+gTy1RO/GmBWn+8MkNdflI7NLZHCMeF0MSVZrXJV73oY9w+r\n",
       "Z+X/txh9QfYZffMPRzKP/oxD01lnv4J/wUrX9KzkRedqOfeh3YikZJWzTC7sxlKgUWYhGbKKbxSV\n",
       "qoj/5xpaLm91LZIZ3/JQrKH1eOwyKU5k45kKVVXGurbKIZPMQeUF9HIj8sNjlYIEnfwsERFgLbcg\n",
       "41uCH0kmhHw9p48uPIW0Qhs5w4vu5AMgf5UFqbM1oXxrgOLAOG/y3Xf//9ELI3ed9l8wve4Iu2hS\n",
       "hx4/PEb35vGQIk6v2JfZBt0ngJS2XkwA2IqcMdLP/yhAroK1KqTZs9U+yyPEWO5iMajixxuqAWCq\n",
       "ztwx0UXa9tKHLRKkdZTIPqhu0ds9Z34ygwUxUZtp/RzCz8FfqNSswy9BNr4iJ/Ao6UzK7cTLi9k8\n",
       "PVZnuiOFRk7N1iwoacA34IKcgNuipu/6GBvtpXte5cFyHMtuQmiGDKkadnx1DCa4qgrUqS55trlt\n",
       "mvUBbuUmt2MqYYqjk2YaAtX8TqxeMQkKAJYwf/q/eyOt2Kw+w8gD+HTPikrDv96zx4aqtc6KvgQV\n",
       "FgK2Jey3yV8QtWIl7llmcSjV2ezQSB6iV4hilshkCOZanT3mRgOuZU4OLYfaJ28p0BM1Oipwibed\n",
       "fM+KWvhcY4iv/uYBxEJExk06S+YcEfV2X/PVdIEmK94X013ta43cqwcaVSE9EKREORltxxUZ8y9/\n",
       "1Rnx9OHKWrisVbx+oV3eJ/b9CtlWvTQO4FgsbXjyx+1POFrCIyQUuxWVRP8F2WHWLE7A+gf+tbis\n",
       "zjkhiNgHUe3wpauxTAWsRSBNFFUje67/ZqjavzOjsoE0k6OF1J2LAQyIVPtdL19H+9XMsoS/moR3\n",
       "ZLL4fC+Khe0MQabWwHyYhjj82eAZ3TKLxuETWe9m2AIQhX6krGKk9vfGrGlWWYXd+q+J1sgY7HnH\n",
       "4PwmaOjiZOJIYK1xKW++BFvdnWb2sbqm1VxYVCM6c2criud4eOLFN+ku9c0Do3YGEZM+Lvh2QeGe\n",
       "G5glKyZQlfUtzbz+NW6uoqEsfvgy4T4wAyHtCP0iTZLiEUKwYC+t+ttlHcpofm5PMlfl/PTfzQyg\n",
       "yPuPms5nY2ZOrguTW9zXIs3zpBHmwK7leL/g27y0yT85X5WmHbhjpSQLa816DdQ3pU8RF+PJXqrs\n",
       "C5JVm9zTzFv2UoNMqY3+dIRR/PMi63XrXrMOub0T95bY2bzHwdvS2avGr8goIPgU3kg1rZEQwyYQ\n",
       "vcdaIGNvDOj6oeoLsN6ITB8m5ZmuVFeHLyk0xP1A5ss+4aohd32IixUoxtYZ6LpboHCsRMC/kIpN\n",
       "Me0oI3ygvDqad/NUYqH9D7wjY+ZQqK2V7M8Fj1VJd4rH+S73apXhMfRemJWxLrPQ52jJXYfm/bKA\n",
       "53W5SykyYzFuPWICffIe/cqdD9Igc+hvfnZZXhJVlwjxXl2Xf1yrmdSfbnfzR3ctHsbraT+sx2lz\n",
       "OdBeiPLst9Oydd59rGFCcjqrBUlKzy6KXPPZdttRceTrAOjIFGArK+GPmOgwgorAVarAHmKPaRBa\n",
       "P2rjxHu5pu2w4tuTHjUMP5vAHZamTIc7I7qM/HhMXhCJUw+474kvMFsxWZl6ycTYlvn0H0jcOYTV\n",
       "Q1uJ9ggSbwV5Th/B8cuxUDtBiECcvZupGhDJ7AXFh8dOfQPiPRHZby21F3BsxNgMnI+RQtS7YGmJ\n",
       "F/oMbt5YACj5X9zwvA60mwFBTth/e3l1nepArUtzWuWwJEHnUjjdvyJST//WVVosHTnbdgE4riVp\n",
       "zpAOh54/k2gB1z/NkKw2cRe/ObsMz6WQZdlY3Te+wKzn5JjuEfyCDf4b4vYe3vJaCpn5HV9Rc2lG\n",
       "7iJK1ily4jbVdwBIIV3vd3+NxMFnMqYdg4xTpy8sfAuaNiq6SBY8gpgYgzG7ImD4cEO2+afH7jp6\n",
       "jG6UzXQqWAJz/32pmO2MT/nR8/nIMmXHtY+AZIKXJ1K22Reaadq9UjCR9SwYtcNjs08eGz2pBo5H\n",
       "s13FxNIpMyUIlOS7k1oQ54FwxDaO5Hdkz7/7UtpoJuBoXDH7qmuL/cvDS79tx3XpG7HRTegZv6kB\n",
       "raRVabGvFGSWVYmVLv4VgzIH54aIFMpzTcCLC+3MD/aSYftB+B/gAOF5oBAUBeTob245RGpdFjNI\n",
       "CG0QE1EO7Efeqhk2zZ2MQOuIp4BOSAZ5WwtwbfMU1yEfYcd3wGf53kwWwWOWO9nGBg8/9urWPrIb\n",
       "zhlwUFLS5wO3qskVJXHsoV89wzwHPgMITDT+YePUPYZ3j2O+mlQRyrzTyXAkag2Hf21oJsRqZ/Wz\n",
       "ypeM2AuflCXRrEwYLvHyr3DPf7/8cdk7Bw4AAAMAHb4R6YnW/6Dr1rJ7B7ME68r9fCBPGJ8DXMmA\n",
       "Yxkm6INgLJ9zYHicPnvGE6HmEupupYziiIpb9UlC5QsloPPBdDQeHYN07hkHNg0gpkOsVU1jStlM\n",
       "fkEbODIa9D8JHapwwz3usX12UxoHUf/igK25xyEaUL3PxOW5rEPpsLS9jOufZ2p3BLXLVOxnERsz\n",
       "WVwT1wBmwUrtz1p426glfFY7ztqsqg6SJCOsL8bboY65rW+kXd/ji6gfKMliZ6C///1E6ADp8JWA\n",
       "Y02g0qZQVVPN3JZXKbi9A5woA8RP8n0aas6MWMcY5elOBaskGFG7zc5DNsNh07f8tJk6SDEvXtwe\n",
       "RJp24qXwdCEPoblECO4JzLmueqnlSEIgPHxKuUK31kOUpnrQj8N0ReDBW9hdT0gMd2dnq+0zNXc0\n",
       "niIL4u18EmKd4er/VHoz6gpWViHKpR011O9JjdnnhHdzQgo9c5CVtM5hWttKyOFE/puyEGfodJWj\n",
       "ZUUDytH0PjnsY8j/oCb0tdCDCZHkffqluHLmFD+Q+S3kgy/jsedxodrWmApo0RSJ0FkJlKQL+LQp\n",
       "DEahP7f3jUTLUbqiivcX/e9mPwD6E9YTnbg5oJ7U4UmHCbVH7xeCzkPE5Wcy7EA+utw07ksGxZ2m\n",
       "s+9HmcOmEWg8g6xEQA9/syjxpxwodoYxSnG5gTcduXkClRAPBUDqOSzupMYsuBJM1TMtGL8a7NQQ\n",
       "8zGckSHJ0QAE3JqYdRJBUS24OPeAMGp0X4044UO0MD4GPEvCDo8UhHItO/dbKtywoYL/t0OUPRJ6\n",
       "HomWzMLJN4x8oQwaVBAXhs+UpXBtfvPgfF1U1OeUT9bLJ8gBAMY/3KBU7h6B16JSkKqIcRv7ERSC\n",
       "QOqI0qCTSe7r2rSDLF6SpnhRmPtMcf/bPiGQHaA7/u4eLnYrM0wJWt5XiXwCt4z8kGp4p62E28be\n",
       "s52+GCGKnimORgtPfiHv+rHiRtoE1Voxge+0bvTJ5wNQZkT+5PeL/7FLMnUR0uMRphio7SHEIh2t\n",
       "thRCEW3mETt5NXDSF0nhCdDPXAodZQbBM4cdH+GuMx31KwSQA+tOk+7+RRTdR5nARVszFF9qEj4J\n",
       "1jCLBes4SpsCxzXRlwD8Z8cTk2Dhnm+Xa2mHbubpDNO6HwnQ5zMyNAd9L/MFnuds8zCsb8MLADO2\n",
       "CD3H4UT5nuQT0IbqmHhi6TkEuTZEy/bgrajusKlqm+X5ixbiF058+O1WJlltTnpvLTbkVqoRPx38\n",
       "hkLR7CBy6HBNEHUX/+q0M4Ml+tiD8uv+gw9YMSCFKpFCiEU99ge59d2Njdwp6G51prlvz4dCMW/o\n",
       "oRJp/Y/HkOSiWnTnzkVKdD5UtO3pvNs4GgkvKSOr65gUKt+qpc5cSS/KVNAyMls59NO/vAX2N5HL\n",
       "RIS14agqLepJLLnAXL02ddcKYyw/k4ygicXsKm4UL+iX6N4RKLz/SFKjhs9hd7tfSqG6xzsQ8FjA\n",
       "xAlL5VcqdBpA+qwYWGxacrzzdo1BwJ/ebdrg+pDWaIOiDBeKdLIpJ8SQHfbS2203axwL8JZYR4bV\n",
       "xwRgpDjj1BUfcNLqORaOSqqmKgHhchi00SEO5cdaO2dpr8GPjxEW4rQxjrOC/KGkRm8DgjCXYe1S\n",
       "/Zwf292op77tM1V8rthJD+SUv9zHtQxt+dWUVyceEuVG97VENxVAY7O5j2gMpchtrBU2ht3oiGFM\n",
       "tgScJFGzFudDFejKLRyRCO8+ZxF8z2EFDc5M4V/NMjtI2FyWR3CyjMyczxr5REuKfxDPLUBRWuvC\n",
       "SB6Z+gXU0PiBCeWV+8UJKaxaSpMrQtDVHMi+g5emePex55rOtFJzTZkEnsgwpPLXZuc3BTb78QWO\n",
       "PTbeJxfu3BVCymWD8h98bUOBdZquY9XQy4/bVqw4HU0Y+8cDVa0FLjVN0F2YAb1giBi63S5fuOxH\n",
       "KVcaHdcHxORz1PQJP/ZbkChmcJy9eSMQmnsGpC/k8ugFHOLshDXLdsEI7VW2wjt805Nz1yDaIoxd\n",
       "EBBYYDviqCucvGwp47nknUE471Rx61Q/KygcDbgUlLd82FCPY95hwFfftKp+QMwEDP0+zpt6sHsZ\n",
       "MWSYpr3bKV5iYcpM4zG8s9R/aVmEEVvMPiqy8iz1oz/qVGYovt38vQgCHuwkTq1FUqW7Idp1gNVw\n",
       "PH/xF93O2DB7OkrfCn9evqJmimplY14RamUDU6MZqp1pGMWLTRkw8m7v412JPCyRqhCT9jSTdCwl\n",
       "6hKs1L2gY+5Qz9wINqBvoPkBnhouofCTkwRqU5nXaFyNj8lqaVH81UCzsQQccF7uE683fWI0OeIE\n",
       "GPWGv16CPhwSUvUYnq39TtgrFKofFhv02FKu4qT3Dw6L07rOb+afF9N2ZTvqSpx3vXBlHb3dtoI1\n",
       "+BjhRDRSWCo3AIvSHu5ZY7OH7z6jREOEGHQucpp5U0okerZr2mwdTEt0Ef41ScTsy8QKfArPZu/0\n",
       "MszXeNHTY7VRQ0QRVra9ZkzXuxlsY0i0P1QZOSZIsXRzQPj4HFY16VxoFC1GAvsZHJe466K+FPN8\n",
       "w1qkaznVOAmQ60MLm3kIb3rrOm6Cep9Im25YTcfUYhI0MUlRZzMma92ttHwhHOfSoxRR/Izi0ttQ\n",
       "3WdQFaAL0Hgiq1KuOSXMl70m4MAyorTuQMkSZLEwjWlEhin478qhWZilCI7QoRsHWUrWRJUP4ctI\n",
       "kv1538WW31OjjixsufwUGnsaMae6Ei2K/sLqCQbv1mp6M8eKPzXmkrWu3xSkoAADGgAAAAgGAQQA\n",
       "AggQgAAAC2xh4CId//6MsAVZLANGL4gN3kLxh5YTqF3xB+zBcw0t2gpoQECCKwHYtm9Or7JqxI4R\n",
       "/C2WtbkOJR79VxR+presDdCFMHGdByLNyBHvSwSmXamhHAA9DO/obiAPAhBCdcb5xNN+Cbw+WnWY\n",
       "tsomJm0vF4O11AaIdY5ZxVCtR1d/5Eh9jroLQe3bPGv+O71qGNsrkMHM9z3s6TzAeAlfTvgK9QK/\n",
       "6sf7xdAJ33DJTgKUdKEoT3Px+nlcF6rG7IOO9RNg4SZbbVq/rr7vEcerpfa5XhhciElLlZ5QrRRy\n",
       "7LE7asicPhNfXpP4rEwsnNAzIfR++KOd84RQxhp/+Ppu0iCCNHJcnsLEUCeMl3aFpEl//CMoKBzJ\n",
       "CRX34MH1puxdocFQiL44on383CBitVwMI7zi3sHM6oHi6jnweaSIUUfJllWqAjM3YVa8Ju5idSXD\n",
       "Q+DqPJubdx+vgyIBFM+7d4teC0qlH7y7lWZ3z0ZaymIRwNJaMYQ5tP9wvprA4fi/6yDOT/XyeVNL\n",
       "A3xEJx09KzFc9a9seSPpaO24/bkldAOadIrS+G+vyFBdbIlZpm6062KdUq6Q1gPj1CFNRvAV1Nbg\n",
       "+88gEJ4OWTHwhgl9LSePXWuffgTC9+lZPAA2asOGgHzdXWRRRj6AZJs0dnU1LwRmpRTIaDGHRttk\n",
       "0pASYG83dxGXuJvljMItcIM99ez9+ovb+FlE2/pU6K5C54NFt+NTAPDgxQZfX/hzh3XG8d53Yohl\n",
       "wRVlnCIe/v0YIPT9rrISxF3KDgA3NCWn95W8zBZezaBzNaXjQ6gnpyvNTFRFDX+D23i1ycU7sYVK\n",
       "6k3sh7ksokX89cN2WgIq8qmp9gLIHQFoZKW7N5wJWgzgxRl3gamaBqMe22UQO561YX2C1zE2rZg/\n",
       "rm4Apwh8Ha1c7HzogjPZkyYIy/V+xCfnAm1oLN8VcHYKUSv3EwX1vnGtnShPGK1H5I0LcQnE2Ips\n",
       "bBERqbbt6fytg9HN4C+u1sQ89y5KyNhMXUr2iVVcve8WK9AmiD/7SwId7VPMsRNbKUvNTZ4dQG5l\n",
       "A0MOCiwkKNsIxhREwZ4Oy179vNr8qGxv1IYyCBJ2GpngXUiNm7Owffy8vXkI+Bp0Lo691/pQAd1Z\n",
       "69/+UMj3HgI4lUzkZ3v5qOw5aG9cHN/fBXiNh4UAdAeTrBbfnm4mqI3+zamhYoS1pftnTMxgcBjb\n",
       "9oK2xTOyqmCWBl+nZoDT7l/LEoYeZMryxgBu3qEFg/GQ/OfAXZxpvSCip5EZYzcrJwULAvq7jZt0\n",
       "kfE4y7ofSSlgolxnBh3RrPo69W9vIHUkFS0HPsxWntqHAyK4s7Cfi97ldVHCjCUmqyoeaBCIJqzb\n",
       "A6JQUmm45/QbJ6l6FYgbE+RWFyaj3ht02Hc1PsOjoh7gdoRXf3LNNM0DYg6I7y+tjjHndIM/XwVQ\n",
       "jBUACtWk4OZsWws0pNkBCb5X2iaAqKKueSwf/+wmHo73w7Vj7C8DjwPTETdLLejIOD8d2lQn7U3L\n",
       "fendVM93KJUWNgT5I5ruVuOSIqLk8tWqL13JcwWnFBv+LO4bCMGhjwVAOXITZvCbLERWdUPBAt8z\n",
       "A6t8euhOCG1PmEOMD40KrYxmS2h7YH3O9xSfwLn3qGf/vIyNFZJid5L8gZa+n8/5B2p3hakmzeY5\n",
       "lxUEC4JvAy1bOJHLEUCldeID0FXcjcLD9pQPe7b69fgs+VLQbJvRs47wTSw7eSLogNTl7MURBjbX\n",
       "ttaOgfCAYWyFUuQ8RX5y1bVVQ98H9ETt6pT4TVtGVhbb6vvuh95ipc4G0MI1V1Gae0rR3//o1jNy\n",
       "lg3CTJnWHd8O3eI5Unm+Re4vU3hBY4q9pkfAd0C3a1abcMAYVT4wDOp7Q1AjBXKml33FAMtBfH99\n",
       "k6fhXiEMOM7Bga4JFwMrW4+x9P/ZIYx8i2OkrxA5gNEYj6vkmx1PPKzMSqvuhgcqsG9AfQOUOmr4\n",
       "4UD4A0rlt3qupf1uaG9/QMsazjKMgYNjIT9OkxzDHZsPlNoM/q7cKgQ8+283NWGc3DnGDxYs1GyE\n",
       "1XS74GCIwGBBfPLH9au+j3r7H5L3hSqOT45QYIZaTZoCB11gAD45Hohy3gro3orcpHkOo5Ryl1EI\n",
       "JNZ09ree2zp/ZzTuwGJbk4q4JIXsmszvy2ru5gDhZHBwkD+O3RdOeh6sqaLa5MURPQOsqB0QDLoV\n",
       "PA0MuqERrW8Nn/rLyWf2wnN9kyfqpJG1yhBl1v99lkYVWw9wAu3mUTjRdkjsgfvGevbPP/0QJQIe\n",
       "kBo2ICmzN+mZXvOcQ9VrqIijLg97BS+w+DGd5TAMq2mtuTyfw5AlEwL5kNPOZ2U2vKnQfEeAVDz/\n",
       "d92BcYLiFDEaRdGsAvvhu/igQLJ8QeeJ4b3HGxSrjWGJyDbBBbL1NQFAWCI7mGXSyOm5S9zj5X/O\n",
       "sld4EkV5l3bKoyhROH3gs43X73DiOYRd4uLpCAsTTpn4bASdzJQGkpeTAYtVIi9vqgJpGYRa/CwR\n",
       "IHvXUZutzT008lUJXg4SGo+024VKaduFA2G9HS82eYkziKemBtVALmpiVmgdk1hn9DjRR90C/rAy\n",
       "AEJ2lQacFPZUn9MI1LS76SYb8LCkFkDPZVFNe9UbNVRde/2hAqXCK0YDvn+8Ey97gIKlQ2C3rpir\n",
       "9HNK37Oarpm9lzZqPJ+3St3nC3oKhhE/32xIUQsWI4LN/lPXgjn2C95ZA0+WY+wtnIUk/g3z56r7\n",
       "Rh5AgiKpa11gKB7gtxewnCEUZeC3lXCQCuXHujK+fu2QN8NuNzbhc5c2ZaUi9/QB7HtrFPvbECeY\n",
       "7FUm9z9CqfuseyE3TJ3rzFOe9igca5z7NGQooW7YOanuBZivgQoCMS4RgTtgZH07qPm649/5xIad\n",
       "5MgPCf5nXpbAu4ISoNWu9enNf1aW0KB3eT2dd4kyDr0EFi9efcFI/oBCmh1kPiV+YuJn6gBOfz9+\n",
       "O9z6Ump8Ewi5NDl3DsBXpea+l7nAbqrAPQopgGy8d1jD342143aCXw901OL/JyOqyLX0boEw18rt\n",
       "5C9d3aFvh76oq+Mt+hg1MQfOv/lileaCflMzKC4/yLLm2gkmFGwYIfCVueoJL6BCSsemsXQhbIWA\n",
       "+EqUtoJDvxScCYI0P8BgTS3/Eqohq7nNDv4a2l5DeNduIBHaF7MfZSnii4U2QPNkYMYeJjbQnRdj\n",
       "K4kowyNn2tz775zFu08t8GMmjaona88MocV5hGWx/Q944uQ47TVSgnWVzfZjuLtZrYUItmDcikzQ\n",
       "kDCiEtVJ3pAnOqhrtwi4aZvZUUKuMq0kmDRGNidYvg4sopZRFlKkgf1QwiRT+46uiDLNzPSfkPUP\n",
       "/PUydX6s1F94H05matR+/iKcOs4eYHZbrpBRf2HVS4vb0OrIVQkzH3YcbwX4lNVfmTagrGzx+PyX\n",
       "WhEw49ZPPfDezkL5WarLRY3YVT357sPB2clZwDKN6h4m5/Vd+epHlRL/N/YiaW7ISnHW9cVfp4t7\n",
       "tJfolNXGzkEz48C8+RdqbfIiRGk7bzna7maT+zvcClV1/rtIlYeHk2muMFm063I0HwKjfFJ4albp\n",
       "vs2DfSJlJRKtXsI1HIVKNvZxGuMvO06lxrnCpBDjADz6GLPO32I1fhKPBQGFN+qrGUq/jKJaoObj\n",
       "qhOBAZCxBxM1TVGAgk3ptj6y4t11P8WZscA+4OKyvT0YpjKJAj23IvneJbTzvZPMN/ovW6adInl9\n",
       "Y9pQrMChdv4Ma0UkHCxl1QVTx1TItQfppWTP7w1Fd5cI8mHxUNMU+ZHVmvuaOO+hY96avYpD06D9\n",
       "g5s6D1d0p6vaSOEynFgDDksU1Vi/HaCPMa/CHwAeK9pu/54QAOSMilJRs//////uY2mLaPl+Jmye\n",
       "ZKESv9i7gT7qCSoov2j5ggxE/rY9+Bm34AAAAAgGAQQABAgQgAAADjth4EId//6MsABIEjHT7j7W\n",
       "xdJTRPbt7TyDHqYK67JERR9RmFf2GjuOyXAo2T77NzFU34vSckSlMgTvDK0iOnga/b41QWAnzj1x\n",
       "k+Zf61Rx2BlJgxPSZSXEFKqG+Z79Ut5dx60lg7Lw8/rEW49vub9p6Un5e3OgsvDDgv5rhXWMpSse\n",
       "hZ0BCDUelkk3Ahs67eLlsEF4w2N3aZBwS8V7QHyCHSXxACcDdmbqmWf+qScI5wr+BG2ggsk1s203\n",
       "MfwPzO/M/RlST/UBgpq9DVRZYLseDwTKl9AnhDkh9Ce5HMSkoCjlIIQjtSwaJGxFq3XoHUvIPDrt\n",
       "wccebq3E9QgOWjvEYxrfBeszuXM1BHqe5rMzC5h8pCaV2qLAoRAjq+7zaQ5m6utlgyTCVKqSdFuf\n",
       "eALyB/1PqKeZlplDB+jypR7pJ9y+SB/+2iMuLVQBRX//ExXIcCBEtZg2wlwL2VmKK0jBqthP0SeL\n",
       "N0dCbPHYslCKUbZGsTPuB735XSo5J6LJp9qsFtGEBDkKZTnExAf3xjxhUFaROrBu+EskmmsA4eqD\n",
       "tEwqEkQh+tU9kZkJtfmAqS11iMXRDofr0Hn55ySMLcub1i9hXYZngbU7Crsk8gjCdPE97WaoqWnY\n",
       "MRIJJ7X57WAW9WRKBzINLA0hnX8TUNvGojTQX9aLkREuspCPRnAoTOwy7K35KTtFG04oBaVy3ave\n",
       "iAgLjLyGgepCcRUDCq/JOPyg9j51D3WwEBImpYzWKGpubbTrfJDXvvC6nNUz6iMDR1KNhtovwJU7\n",
       "++SVOegvavXtfEmUDlv1aHHW/gFcbF0GzR7hQrdF4wXfi5JpVrf6p1wEX+SJSvSWu6h9MAsDecJH\n",
       "wTnWeYklIsfq2BkrnvYr3xLdnbT+R4WQc3AC+rTmnuLuHtVDW4nJ1wezmAKHuDpnmRppzjU206aE\n",
       "+EcOhBS8MlMnfg4YTexUAyOZnoYZI9wiz5k3/OaGlJx0OvSkwXHiThxN6/rmTe8bSEpF825MQvKC\n",
       "3oK4pGxtGceV0fzp8pEDSSzlsRRAstwMWgdAH4/I1ZlrSqVMWVLk02AMS7Clid8nsG4Q+UJhWv3i\n",
       "XOPTP8mICBt7c7K3nL/ogQtd3zE0f48FPqm3hThMge/oXRmZYk+GGGy66vnbNYtLRuUfa9nB9+YI\n",
       "2ONw8UVuhb9RRXdKgEFGu5u0HEOGif//eZTqxqyM4SbqwpRBA6ROJYM+XbaH7J0XkbkxQVF2yKVO\n",
       "sK18nu57P46///sHNbeKyUrM9T3qc9l9GnsYobS61UGxrGuCWUQA0K1gE+oFncsH8QFuhdpwKk9H\n",
       "SdQo8jVNAAM2yZr8mg4j+0doTGzmFmt7bssc9QXpTNhXAxyrzoDWw97oR9kQtL6EPTC7ayOxSbru\n",
       "xrxJ9llE28ItaleDVEeJAvkQd0bK64yOdNLqnffDn0zopGHtQ5SGjuBrhnCv2OdIzfR1fUAplcjt\n",
       "6sZcE9ATFtiQqAbVAhxBgjWt51Psz9s7xBG//dd1sQp04KRD5RldcX1Ynk46lBJtIaDYP0tUAGgo\n",
       "7A3Idd8clNgaFhxmG6FNS5f/06BaSdn9ZPX666ujxUiKrIfNXFQSV2GA/5DrzDIZ4hw9XsXTZiq8\n",
       "LH7WMjtv/63UqzmgDFqoPCwjzrD0czjqnGzBfF0luU4V35uYjw7BJBl1Vzh/9v79i3sJjy40EATb\n",
       "L3+Hp48w7eDZVYesqWYIvb3dCObZ4D2frdeY/1AzmAq6DknQEdvOS21O2qxjEVZcAe/qfX8YWdvw\n",
       "81vsjZExXIz/9HUk/puaSru/XDRIfRbLvcys08hydfUyVUz884UNlJBhNjpn1imW3FqPuvQNs3Cu\n",
       "MIdMFCxIu6I2I0xXRHT0M1xmjO5UdkKTYzap19YeRuyIQJfgmzzR2GOi5A3oEWRkuZv//xMenyT5\n",
       "JNCCwwr79fOWcEEbDRn1znB3r3W9iHgRQQt17IQNzzz7eN+FMdVZsEvdT2opFBxwvtXOi4w8iThY\n",
       "2ZT8fV5pXT4eeRIdLILM4+vkDMuyE/hEhtwAC5pTSPUxixq2Wl4bSPHRSKGhrKIUkJ8iLfWl6P0a\n",
       "V6X2/kOeNDf4+fMfkLkoOOmKDvqFcBXZS6Tn3hNkkeAnLmA+9Bu5maiscOWEMVqXcrl032LH5Plr\n",
       "g4ktNxUf6RRb7zt//VP+bzIiWbog6iSYo4B0hUOW2R8i0k/0cqXXJWX/dcyp7g696wDSW1r0YC7Z\n",
       "v3De8INPuieVJMzDwnBNsFu3gCMAATfFDxJ8FkQKlCo+y/kTd4f+nqmcNBSIGITdfC36QErUstK1\n",
       "1oZ89sv47BHSILJLzvRx0phVxSxVvYNq9n4rZEtgp9czlC5VAYaOl7dR42prJOZIAN+UiI7wrYw+\n",
       "PHAoNfyKSEa/hyA71eFsUC0ELSkq98kQTvX/xlZKxAbOo7PURQmwEpEG7TpbEZUc0GGWs6cirlqU\n",
       "JH1Si1Z3oMsg9KUf+ZSNDMlEN+w6ArsIeerJVtHLbAZB/R98Plmng41iCP3Lbf15b36tA7Qc4E3b\n",
       "IRSR5+9+3c8aThCzw+ieayySFFO/+eIXj/VamHX6BDtdSW8X6dcBCxmJ8EK3Fbz5xKrfSSwY6Pgm\n",
       "UC98XMDy+4SQHwtXgje+4dgU0fL1a5Vg6e6GWEMVkqgywnhFRWKCapQ7KPjgdy0xZ9CSovZF0y0+\n",
       "Cpi0hVL9AR4HxfQLV2MiXtCzXKbS3sUu6sHRpGMzNgQcyc/uvtcILSqscoUgKL2I1H97dBVRqGni\n",
       "EQwT2QgiGKDu6oLM5xjIgoSRiDwuT/4cmq3rdeZXUQlIa8YJNZpdmDUw3glRt0cftapVQUioKKv8\n",
       "zbsca2oSU2bfCwixCNMkqYQ+VGwAnH9tp9nVIROShqheFtBUoZv7C71VVFhru6oIc/tWKvAPPRay\n",
       "tMQHgm+eiROcC+x///////+0dUKVl4IXjEyjpGrpYzbshxXkiW38K1ekHA+ukZ/VVfAo661f0qy2\n",
       "tlFMiKgY5rXGrLJx4t/6Q1gA+fpxPcWM4L62d70kv6Wou9hT0TUUdsMuXgazZauV+BpKnWr5SC+5\n",
       "ZfQnbod+sSZF/C8jDsULYg8KMI2GN1VaA20ljGTTLKpuE+fhzki7Uvpnvr+XwbnCuly5b8HZCivC\n",
       "v4fKnH//6BZYTpR3k0L9aC4mLza4ZLtwPFZkrsnaPZrEvaXm/FHc1+rcmoS6beXm5HvPTq2wH4sx\n",
       "G+0U6i1fp74oeEBfKiCA5DDj1ddWZ7XLV4iyUVHte1PdUPCgc/SrmnDObyHfKrvQDbgLl3hrRb9g\n",
       "6w0o9BhJ/4RK7Y/FjJf0NX/1zqDcuxsOikljRgIpwYaQs/cEfuCmY/q1nGlwXbRW0VtlP6gaY4Rr\n",
       "zZ5qYtglMIYgtaqSoKYE72WHBOmDsHh5pJD3McJKp8SdwhA6sPCcTEJkSUdwZkU3MnTFTPzK1v7R\n",
       "RPJvFm/OqtLWsY7ALwv9SpWsZ0rQlFt+ZQW3sQ9LdjuvuGyZzWMP6UXYav9RICMw6bS8zA/QGcIs\n",
       "FQQizKcZFHZmiiCCGcxlMEiX8XkPOoxzJab8ttEJXqpxZjNBxGUQXfNz/wg7xAzHRjNMrJy2o9cy\n",
       "irt8fYbryd+TYd3JUmQ1Vzhfs29AYLck/KiGR/nqGjvNw/5YEeKlKoSFd6fN2GB7IqsXMZIHctzk\n",
       "a5Ip4Cw1gHy/C1Q900DgYqMsOymGkR9H5q5tUp1jU3Zhe3K9y7EYfpaWJ6Lrs8lABV7GuLUtlqY3\n",
       "hNrAiPcsnbTrjAFMiU7hdaDbJruOX+YgPn+HK38Ab1ltxDgE4PtN3FtRXWqhAx9OmcqiujrYGSB9\n",
       "d6XwqA5lx3O9J/wUj5iWXXCh16ckuevGnc7TWs4ottFWlCPVQOmDeHEHgjiai8eJo5vlT3QG6gnI\n",
       "uWBygGKPPK/S8soKVAIlI+idqiwZGtl/3wuvZfAXrm81NQuQjXv4tm71NIy0Gbwnna5axz3O1ftv\n",
       "QCA5Rg6ZR9XfOOLQ/eiREh/LZbItl+CmXgJumKT/2c2OaS5iSQy4KTBgKYpoRLwV612u0+WBa5x2\n",
       "CfPKE3Y2DyBJ9CqAtzxNKIq/MA8C8NgtgL5qy1+gN0nhg3G2YzKRZoaHSfJaSKCTcxsmXg16OvjK\n",
       "ubTKRXrsyBPSnPzABo9FVAwNXpVcXb7LwabuRgevwRz+SN/d8YQJud08+wwzb8dvlc3sG6i1gv1H\n",
       "8OfbbHB3opxT9i74TOPsyKGmQrTk38q1WhrqnElCgxWrCx4E2W+HMWepwNtEt40OhJZXIOWJ//xv\n",
       "/0rftpYzFPCm97//z/OSWI1JkWoFE5/6XoMxmyKV5W744u3BSTAtgZ1gK9+WGGcp2xIv6A7DKqVS\n",
       "A/869qomaEb/bXpWBKRjbAVqxiG8Y6/IYRTtXDSmZLdwXqroJIeaUQHORrvX5F9haYqsbyiP/0n+\n",
       "i9yggq0FqD+fm5r7QnUjfv81PpOEoKMWkRFnDe9R3HF9vt+6nPVhrMm9UZ+xZl/+8cYsdg+pNXmw\n",
       "PAqr8rqX1VaeK15H+x4WZXJ5GRn9qKdurxJkfFiunA1p8W9M3rzfg6YuB/Jx9E9sStCAFVTWw+Ak\n",
       "N//bCO9oJOtYTbi7ad6jqADtZnEBgM45NJ7mSOyU+2HfbqVFoxukuaGJ8Hvt78jITqvDeLXq2lCs\n",
       "mLdHzKn/z4k1sBNOLInxZagx9W+tSbMT1mx2udVdHwNMUFPUBAnfj3+QuENLf36JLqMAkMJ9zznM\n",
       "Faasbjm+vw7XwtBl9F979RpEXm0zh6mSWnIzgB7jG8Bo8k7AVJP4DJIbPk0dcw717lSicVWfcRVe\n",
       "wJriqXN7hNpJwQL/umo2hMdLkzgAwcgyFcABu9llGonFcWFmAAAACAYBBAAGCBCAAAAKh2HgYh3/\n",
       "/oywAJgh6Q1efHTcmox2r6Ic8uHicHB/+H2IgKJnkh3T+h0o5ZbuZW3YJEuu37OPgl3k50v5NHSt\n",
       "1rW3FWqyzaQTDRCq1V6m4EhU+QarALeN1BUp8w+oGQQo/7ni1eLoT1pWhfZz/+ynVp+Zn8opvxkB\n",
       "SY6zkd68c3kcHlsms3NyO+y94W/mFgqFfYGyjF/8Y9yXL5P8u7v4HaHTA7T1jQQi/QjWQwAlFu3h\n",
       "1JsxBiuW7cVbjOuZM+FYKo678cATRJr/1BljO2ivnmvkU0aVD9MASfvQQRzlDXSs/nrt8UUYoW8p\n",
       "7wW3OZngm7P77ARqS05ZP2L1W4wfPYn9WkyTtGkF15Wd+K5ccJixosrOF60MzF54842y8IuGxl+U\n",
       "L3jEAsMrOWFGymJKpfyhNkdkUMEb8bmi9GEJv5FfbcDtZzgHunncAex7tB9WyuekRZNU4XIB3Ba0\n",
       "oqcp3uxpCL/HlTvYBM+WixnT3Lazdq5n9CM+NQsjwHoCceytV7OnKtkN/rV/Eq94m2670/pyZBK0\n",
       "TDxEc7HMw1vnKf5SV07Kf80dTQtc9qGwrcSlaMkQTs7gSb93lYAWcu2xB+I2qzTIBpOBtbSOMJ2d\n",
       "4H06HD1YpPuXV2c0j2AJDVCuzhn/uOCMR3ulTgOPsyIj2z4gSf4hM09e1FPQBiH4csmsIknC86qX\n",
       "9gSytIivydXIR5xfC9eLUOIXeHbZzorModIBAAfqogf2oYVaU0w3IwhQXjyrSP6zGlYz5MxzYgKT\n",
       "NCo/5RILSRJUkAyq79GJIJ3wkKsYZMBs5gIFdcIi8Gv5Ru7YPvEEEO7S3eN2v9pyA2Or8kcGXAIb\n",
       "N/Ql8WIPa/R2YE5DndUqGt3ZBRY8VdixkJ0n0DQNbE4sYJ4OgI7BoBgNtVKaAz25tYdVYuw2ovW3\n",
       "TB5DG0VMW8WHuGSEcsRc70TLpbN8mgY5bgNIH5uSea/GNPptRgCqAWFP//3vfNJC5ZbDx0lo2Ymv\n",
       "9ByWL1mvtoemysbXMT/vQq6TxWUo+/E8j3C4dI+hLFkVoB0uqsqNiejjg6ocTi1lHK4qHINpcSi5\n",
       "YbHvpAgU3Tnq1DXMneMHzF4g+IeXfLuK2ioOdI6+R5IJ+DrKpTfICj7bvcSOr6k0JIXQiBhGYAsc\n",
       "r7liQz1CP9ir7QY1IlkOos1JI2d80FkFSUE+89FDEhCCUSN3jAU1XX4debUClyAO82nVvlZQa/Gb\n",
       "9u/zLLkBQFR4gyNXWUIMnqTL0UsTFqN1QVNRv0Xs8TpkNEm+0ODefL6dbjMI+YrL6RLPlndNVO+x\n",
       "UeNdfovYz1Ugep3eIeKX/+E3hk+yrsx+u3/t2MdnQrfORVg22ZZ5UgP5hqViWkTCFDZ1zEwV1fjY\n",
       "B6Jz6BjTnih7FN8JEgLtFRVQr9d3c0fYO6JfIe/s3RBEJW6wq6Cd2RC0xrzrJ1v4RAa3NcE/4rHr\n",
       "2KMWy+O58TObWasazrHv//ezztdkF9oRdDpECgwc6/I/hzylvZwZKntp45jZ5Ro+SPzz6Zq/Ngoy\n",
       "kSQpuo0J1K7YFNZN1VqViloUQwwQazV9f08dXtF6KMlE9gGmRnbYM7r3c+87xXMcl+nhH/Mf2uVu\n",
       "z7ImQUAtcjX/dx8QvH//mt76XPKfX9aiDDV9t5INKOLjr2r1+9LnX9qCRfzSz5z4kEK4MZLHbX6X\n",
       "EUfvL7oMnTZiwvoJvHIh+fU8X9U5w3SRnzvlUyr8MayIIWBcJMV0gsZLa1E3dZTGVyypJZglMsY4\n",
       "4sqfGaoRFVq/DypwpXz62K+euQroTn5b32xRUuCHPi7v2gkG0ZPHK5VV46ZUDMvkMksO7T1+fCyy\n",
       "KIyrgiYVsKAgDbdR+BGWIgZhI/S1380CNUHgrT3wI0DCWALyi8Orf1+Dmx/8X/zZt1Z6EPQJjYvF\n",
       "olqqd9BlEBaRTk0xUeaoZimgO2VOhOathRHGcn60l7bTMiJ5l+qT77q3rufIOQj4fMnc4IqEQDOk\n",
       "HalUHypWK50gh1m0i4vSyXeWJ+isuLjNwNT0h0C+HS/rSq7CVN5qElB17OykGFUlxP9gNb+0v1W/\n",
       "FB54LUHyBSf+MeGsyx6o95x448m1dH1H79UdttxkakPcwQoqhq3C3B////i8dyV3VNFfmm9Zwh8C\n",
       "8lxOYUJQTot7PAb9CNir/yIzYWLxnoaW8kTkbqugbRENA+pOL3qkIpMpCJnjOrXmEDMr3ng0zwrm\n",
       "noIGQfplsEDljEdeUixfuD1hdLPCyQqGAhlLZ3L6apf/YyUUpaMOo2+S+VcOXqRP9y082RAVRi0U\n",
       "CQyQdJ1VEhdFacSJHejwdbqWuSjnnT5B0X1ypIvtnEwajLBhd1jjCCP7D2MzWcIovNy/+8hrAJbk\n",
       "Aexqv6cCgt5Dzv5jZv7I5Vo8LOZr///////+IIfsjKEfP/sKC09GKumK30i6+p+8KUnjdzILTHy8\n",
       "656I8l6/bv4RzrSufg0e162R25RJ4IFc/Ywfbzw4YUs91fDp2n6KtTATQ3UNfQowb0Q22JZ3vGxT\n",
       "rj5LSDuCYwnixh46G27IWN2ciT29pd+jHIJu20tCt3sL91/vGf7kVZ9hqhf7z5/LcwG8JeqQTbx1\n",
       "QjyA9vGzFOkwUi9PaJxALuoH8bAId42nWQge6Qg/c9lbCNZFBE4+3F/l/9uZl5h/+F2Kp3oLIP8o\n",
       "ciVIdG/F+f6QdPn7RfxTaMmmgdVW6Jm0LqPW40dW2wanMHqsCJEtssrNhvH/EpeH3/lp6Wr1IJWD\n",
       "GqWxlsvUO3oP7H9JDI6drIYQ01RiE3fA2/1xgns8G4zqngxz7Iz6FBUkZ+iXvQaDte7zbAHXwRAh\n",
       "Xuf/+hFWHJzKbJ2400vnqB6cH2A9QeP6KrKjTSq37NjFtbGzmhKI8X6jdlndMJodp5Om6LRMfOHN\n",
       "isnbq+Aqn0Q8s24UOmMWp+eKxyDisrq5uNqGtHAczroVDb9hMb+FqpFakYXd1BMlVWjmL7H5LYsE\n",
       "5m+YEzhxf+QZBvii77jfSH+ThQlHc/+DliJW+gR5leYGhqIGU/vXKw7GuO2lwqi7lFgRU9KvsJFG\n",
       "mqni8HXfe3kIdwb6vcAhdYiGk3ZYOo5J1oVAgAfxtfNqWjS0TuGIJvFQfm9fR2epfRkjt+lBrrK0\n",
       "8fD+KS07VrVjk/EIiMFxD4E+bU0jbRMGhW5up0UtxBSUwINHC/ku4wIdcUFF8rlAl+siz4/k1YZy\n",
       "thn7ZEIxNRpGpxzxHpHpBR1MAeEW3OH3qRF0BpQ+VTSH//suPJiKywZCqlo9g/hUiD6x0jhERLFW\n",
       "vNUzQ80euFmugEUfe3t7kRdwLlXByJgX+Tk/owqzOZvwpW/mklQ4hQ3uQYDQUFMe42uI4zP7PYQt\n",
       "d8iJn+Elrvw6ROF7TUcKhTYCdSubN6qs6HvnpEzMnp9Pvwrq7rHXymfHCHZjalnIgGz1kepRWvXA\n",
       "tumoWbio682OeeDPYrFk9U6KxuB9hNzyTpnG1pRu9Qiu3vOKkWNlCq2RCg4y1vrCo9mFmdcC/fmm\n",
       "bhQ//72dUGMDoybvKB0JwsDDdnmI4/sjkHKcoOw67T1Lkqa+lMx9EL37sC7vLMR6c/bL+iUhHggH\n",
       "W2UtbIeo95AAyoAAAAAIBgEEAAgIEIAAAAtfYeCCHf/+jLAAnCWghqWWK3TS/5Oos3x6OOKnYdgT\n",
       "GoWzT/S12Yf/1QvK1KNVsz1VwN7/MJ54YLBS9+HSqUi5FbFP8xI5q3YVgTZEKd9+kUgWVg4NL33I\n",
       "7XxAk1ODgLVVMSe0+kjV5zBK6kE3ew0t1WhMpwBNVXJYmSdOTrQyaF26FhCRt2Zgsl8VZZpb/OJ4\n",
       "Bw7CXGvodEDll0e2roC1YdHXERXI6rlxMlH/Hxn6XqqphcEwqm0zPovovkD8nip3C6NbCwLDh6us\n",
       "YQ6IRq746ymYrZJp7BL38Rl2dgn/fzQQLYKy9hA8G5VlBg/Ayf2gi95yQMXaaG3KQs8s9ECBlnNd\n",
       "AdZK/hEMYx4DRqxclIY/FR0qAIj8dx3KlldPmZICXkMBGlriCzdKJG1gVIn/OVpJ/iPKeTIhDDqR\n",
       "KvwnBhZJQ7RXG8/DGZsMsslfIBXYGsEIPoCXQYUKgNHVbgsD2K6llEpQthvAes9M/vpY/2QJDmw5\n",
       "eclJX3TLJiC5gRwVTF64ut2Fyi5HvCXV4oVSvSYsVTqdgDZciRtKaAFyyGKNHGxy0wKiWzRE284t\n",
       "/nbePm80emtgaPK+XXE1y67A7EavWC6InMupO3BY3vj9TC0A32j9QKRmXTSYUWsJH4RVtPrwrhXN\n",
       "uJ1CY4HWYVF3G1idPbLvW2WTD7A9fY1gcsTYOU+FYMHOlLuahjje0n5g97WyQQqmiYE4oQ0Y1t//\n",
       "//rQtZaPoBz4C6AAkds/d1moVs0l/wI0x/+JIo51D/VWiv5lKYcKqF/m+6qQ3yuC7izhhQUQBGgU\n",
       "0/wODaDgi9aY/Tz7x6k/BvEHFzcOw1irMBHFS/EDteIZ5j60PhSYNjx+FF5ViFeycpSX3UekRkjS\n",
       "uDTRQVqi6OYSjYAFDPXNf/n6UM58ZN8MFEhl38v6QcC0Wbk3XkAbXRm/GS/6c60r77P2lP/yzt6u\n",
       "HmCThpIgmOa92l0p9c38YTg/SjxHpG7fcnrgCkjpOjvjx0zSWp0yoDrELXblTI389UOfars3AbQp\n",
       "izZLSX1fKY5voqdTYuNb/FhJhWeUDDeTslVCm0y2wPj+Ge1HHD9TWQgEMvANrlJ46NBV/6uWRzSM\n",
       "O9aWKRq68Jr8GGJOdYy5njxpRHPwL2uisQ6rvtO1d8F/w0TLQBejrEqlNnM/IzfbFHuNWqXQbQ+q\n",
       "eF+bLcHPdpPT7v8CJJBXwLnmkHHYQ98HXuV0b1M5x6zNc7wYNQv61wa1yBifAlvc9+HiYAul3hNe\n",
       "BuvH+R7PRMDB+PYlVd3Vaci/STym9nz0GLLZerph6S4GeKwoHK+ykLb1SVBTI1Q5HS3bXsP0uQqo\n",
       "RIxOLDrJWQCkQ5DAAVq0T9t+jFqTKVJ7cRMREp7iQMVpF2hkDNE0F4TFMQUokzmQYnWEfTmTBXcR\n",
       "lP3PLLByi0AKupD5M+EqwMrY905dCzMj6K9iLSaQCLMiLHMR6npIIXyEM97CdF3lj42zSoRUDuw+\n",
       "5GiadjoT5J2hEK////9uRLriGDTARjsefKmEJXzqfxopamslWXudItlI73BjNze8SqTYhriot3pT\n",
       "Y2LB+flcgM1IeRMf0M+a0tkWV24RlZXyuS9QPCZo33ayW24VhlsQhLyyQoj0JfSSokHGvl2QgMjE\n",
       "RA34jjw9keQQ/vsgMcPiyjFRfhUPyHijdYnh2E6TSVDWzFQbDxRyc5U/1DX9TgWqSIJnecIT0vRg\n",
       "V6S/0a6BeGl9GSerb9U6z5QBBuUWKpt76LuCmK2xScX9i2hgL08FF5IaSi7t5uQON+fJcZABGY/P\n",
       "//H104QXobABqHDjyOMRLxgjFw8JN1uHfwgin+0jvYwCuksAmP4XxKHpQ+iQFD26EAezFP////6l\n",
       "mcUPf7rJ7sIdZe+1abmZe1vkdfJx4cnNig2E1XmKzhDm08jLbZcVzVYNz0KXgEJiz+3NZGf4F1vh\n",
       "lr+U+P06pL4hURI3HNMRFAoShb+BJBwEipAc3j90/hqqnZLEobr/mU4TsGJ2QA/ZxD8TUFP3P7bR\n",
       "LsVTLGuP0+VSwFFAAT9DhvP0ndmii3Ur/yfr9FCIoBqz5vV9pzpV4bQNrpckXbZgxhuTTGwmsTnm\n",
       "s8jNM1kU7EtqFpCujRRSDdRdcMw/U/5fE0fr8KZZDVt3DowOyah2f7xaSyMnfQXKPatOrrZx3gjh\n",
       "9+X2Z3UzzREyJuhJBFBUjam46czt5a4xCMwkfxXSlE9EU+PmTKEUwhDz3rNoeGKAgzr5hecgejjm\n",
       "lId/znQ3dzALkBB9oEF475gJhAMnRICf6QKcmBqFhr2S0W4ig61B/sxcPP6g4GSVpbqi600V0bOW\n",
       "ve4YRVwR1ywhkZE3/r69JhktXTnDCgunpl1urBmEElZ4gnrZAZn///9LQ///XFBYhHcExwHzOVqs\n",
       "Wt8Fyn/f5istPsJBjuXOn6v3jG8y7L5VQlstAQXjUfZqw2K8nOH/kDnw7JtYhwZ04vM2ypdklVCP\n",
       "1aNO3ObQ6oFV9HdDDEouMgHV730qB2nf5n2+hBdG5tB0fJvn+xEGj4W8L6Jrl8tKkK/vWNJihP/4\n",
       "eAbXTvZhDU5NmHzMwBMU3YggHKCuosugJDYfZtKi06jDjGPdqRxE2S50EVgkMs1DiteAkYOAMehH\n",
       "V36fzs8C/oEZsZYHHBYxWQhIutfckN02QcIt3esQf5rWwIj0jWJcDQHu7QYkUGc4p294qxYcXxXM\n",
       "oUgPUxavfM+yQilqsYogFq/4nQagfu+0wVOMH0bR05A6G1QD3YjmfACKYkFy7+rilGWOX8yhSqK2\n",
       "CMYxEGzAbo3pSWMWHzMZleLLCgSc3O8DLH3rnYhq7c+boOQBP2strng9Zv/////SgXmjzpEISSNf\n",
       "V3bEW3NUreIDU1HP05nd6E044kisPchdIM4aB1VJH7xaQKuozgKxFxc23IH6kaCM+hWBe3s0uA9J\n",
       "5d/VxGNm+t+3uCNMi/+n0SHOcMgyGvrssxLL5owZ6JZiyi9cBTAGKYW8Gs2HodFMg836eZ2CxCZV\n",
       "4T+yLVHvsXIbQ690CkjmWBI5rxTW6DGjQjUU5IrCrfC+AMQS15sPXXfHWUHocfxPtDmq9sdKWWBL\n",
       "/e5NcNzUta1L/TsHcK1FF1f3nsExlQw0/HpQerOIjsgW2/CrHkn287ksCJgxd7S6ymlYWVdZ9r7a\n",
       "40kpVZb5TZBDqU1VNL6N1BEs8U6b03CVEIVBQXNtrmPLFXVxdBRPT8Xp3Ox6t+ZRMV5bEAhRPAH1\n",
       "08Ho9alT8ywUWjVL9oK6nobbJoTTW4YVLyT7Q/E4HEdkIJXnbKPJh9rmA+lTXpX7Z7Kaor/eHjfF\n",
       "EsQKmKjiuZV+/xN6WSqQrue/+/tXDgljR2gbJIMwA4PuFbP////87f//dYjn5tw3MMvDrU7dz3yC\n",
       "Ad3//6t6z+ApCSzcuGdxItKznrkOfWEkNacc4yUAyG1E9DUpMAYFphm8NTMi1Vw5CCwMHVQrTbWH\n",
       "COfoJihazCv3HOTguIa4825pBRq6ZPOT2TPXmoAEFddsIXcRY3zSAKDpTwDoMCgkkrFzPrKHhGHs\n",
       "n4QfyRC2uWob1033WW3zZgFv69iipU69MbUQGeLU8m4lbrcfON3jb+v6atnnmRLyl0TFzcks8kaE\n",
       "oXYmFicLIKgnz1+74fX5oiyhtU0fkc0WCVLRAD9SHaDMAyUW7f9xKi08f/9oyGrLvaemrVobTC/S\n",
       "REVWd/SEvJi+mlP/5+ZC7HgNNNBedwwinBxZ0p6DGT/86ybnuK4FQO37s7KFLHsxjn+tOgdvQzL7\n",
       "/AFSCOR5haKDqtEISH4AraW0CP2uQ2NBXQqJ1pzLqCZGQvdym+wQN/9c7C15QTXAjtkrP4EZIun4\n",
       "G3fr2ygHWu8bEUP8+oCZeaXI+rQd+nss6+XmAgAFNAAAAAgGAQQACggQgAAAChth4KId//6MsACg\n",
       "ehBKMe/moPu964TL36SFs32DVaN1JMpKh18UBavOUybNcd5FaoglLeq6P4tI+eStMJdfIg8dzwcb\n",
       "v3ycliADl7R6l/W2eeP/x54Qey7I7yb5Fh9u+eoslSNABcV38NJjghVtPNKaHVQNqadW8PcaPHLX\n",
       "Td4aFy6dXqwLKC7oIqK/jKd+dmjy5RL7zId41s+9mit66blHf1q3U/qph3LNbTk/t4xKH2LaX/Le\n",
       "CnaI0gXeXLzYQCxR3PFAum5vRdd0SD/89uoER/DxR4lTyXGhrscU4n+6NZQmHO+8n0Sv+mF+1mz5\n",
       "9naeQJ7RK7VoV8cw53PQViy7FYwTY+vX6PiGn9EXVMgwvMc4/aXH8YFsBRhMhvNR3cQFSMUTZQEh\n",
       "6tQ2shp9VLde4YU/W4cpNWqQw6s2tnUhjBmtGEXTfek1ctXmQZ8D1NqH64P4WdRGwhWjQzmAIkzV\n",
       "olrF7F8xMpMxRubGCpFsGP20aCypQmCy/tsZoEdXfVY4dsWN5WoVYWxmUohkmHYdh4Ehg1uMyA3h\n",
       "B6FbnG9RAiEIo/W/6WGXjaAB+bRIuk+E0GxOGWydDqX4pXyEioIPtgWM91LIPj956CQ0U4Tf4LyL\n",
       "n2Kp772+fEijmmIjVfE6dNFsf1tok60GeiWzHfoUp19BRRB669XT8lHce+QAjwmmyMuwI6Nl6Tqe\n",
       "D99Ij/DcPCAdgsKrvh6Ia2mi4UScSS55KkFinLcr5NImd8FSSMqH1fGu6oKTFxeTNPNsIThdOS24\n",
       "hX9cv4JwV97uNENGaijLDTdogjlF39o8DF8zciaq6l0CLFzamHGRx8PjGTWrirTjBMuza39sJ+a9\n",
       "tu/pyj3LmftcqK+0DI/tFUGlnN6ovehMu39D+BmaBt1cOWl0g2kTUwLZPAF2x5B0MiZbIwGtu+5h\n",
       "RgEKI7ZxYp1xsKViCpdbtXnd4aVK/CFicaEKkgHeeQbMLaM58DfX+WWWIWpf2vAi71kM9esq6q6m\n",
       "7+NR6AHLH2kW4jNVq7Osq2/F5YJ+oCdAyxUP4IqR2KD5DcmqJ5KSYnLn+QHk+SQ1fc62mEivkH0Z\n",
       "I/L7uqNPWfH/g8RTbdJwFXx/PsVCldX3TBiruIAaUqWZDPZxE29EEXtRTB1wgh2FFH7pD9XvlOyS\n",
       "WSqi6troOvtd1OGg2GZQbQhsk0XxHHUDB2zXknmTTMiNs8J0K2SlpP7pbwMd1lKu1dq/k9gPYKVX\n",
       "53Gh0CoZNQC6OLc5KyGEUXlEoiW8czyd8zFNdo8p+C/HQQvtDFj3HpoZNMpBsFKr1hwfTGdykDqZ\n",
       "ILiHuU/pyBjP/1rFg88SYqYgA+dWEvylURgx8ck9W3Ji1HL3uLCUTSL5jGANZnIajZbNcOM39TzX\n",
       "rSgCaIJwZ8nYRTJ4g0r2HDMBTa73gnc9f/8j96c/2IwA7+KdkopkJKd9wD9vq1MGfXmNYCJx/pWY\n",
       "kLowkWjmMIcxtAIEZcBECzE6kWkdATnzaP/8BkIVnQ2Jl1j+vLc+qIdA87Gqv540fMdkEZhK/sIh\n",
       "//+acRYvdlJu+80hB91ayyU/+8hiSRcPt/4Iu1dIQ6glF/NQT666WzRZGRNKhWOwwE+ELKv1awbj\n",
       "JPHFcXwSlkKOjCVlyPV1ux+u2h6Sw7tbmASqx8JYAcM1/Yz++cPJgFUNTXGAkDrH/+P0PaL02CLq\n",
       "05ToZeOilESGcJmTmEcNtNJlYcAuG9ydY7Y3ikQ2+LLwvoISmjy+wdgG5BQ1RDl0c1nFBn9hcBu/\n",
       "Q0RODo0a9IN5IzYfQmbGdWLjFtfjJTE0JiD////dahTNSWnhLTbvhkQOgCMP+uUE7YNQsajTj9ck\n",
       "ajIeMJeNViYtb4////rU49vwYj6Gx2recTkKISUM996JmSuEM36tK0ADYXWl+cpn3u3YSQ09fOkZ\n",
       "BmgAcPkat3zwXKRS35UVxNBEaa6p2dcz7b7rPe1kFDwh1QnriFur+CivWi3OZoWy1vlnxLZggeHH\n",
       "jOIuNTghP4D4Hel7Mjh/7NdAkNd/XAskNow9+wtIMAaaJ3GtJofsP0OxpwBQWsHscSS2NE+p1Wmx\n",
       "4TgZ50WVNjpkvdBPgybmHByaITsIBiV/grv+Y07jaVoKgcdkb5fUEwFWpV3tQPSWPwjEj69OJuJ3\n",
       "GqxrS3vBLKVBvUP/C1T/TtbiSAl0aqhNYX1rAkP35tDWThpEgfaG++yfREE2vD4jgso8FscVtiFa\n",
       "p5JJzCyGSzXyweN3uCeTulpCckQ0er+G9gBSXsvgWlIiwuWWwyiamo2+ok6ljlJ+lSV8RSHq6381\n",
       "PXDH4ft8yNwxVkQGGFrhG/890TwcURHOjxadjWW0MYiRbfd3SGZBIheJ7OwtDnvrMP2lD0dMB9rR\n",
       "0CdJVi2jfqNLzUbXVj1ghs55BrgxfJF3ftl8BmbglZn3EvqaPOkfN5cf0pta3WisjMNO3sv6R1fs\n",
       "Y7NRrkZket9SfKtffNAnOPObNgPPC9/IPXwseQxGpWxUaoS/WYRjIixeffYJdvi17THW/EXV/dR/\n",
       "26OCYYPRbk8ikvgrwJ36ActO83sBeK2wOkdXvJQJeOsBw2Oko8oxYPvBF2cCtSHu23vNdDidqgkG\n",
       "N+L6/gZp71MHmOYTBaQPlh94D1+UKnr4q7Slv72W/PCYTwD93VftY4tMYxV/e7XURfZw5H0JJkAS\n",
       "05LkaaVUn6SPnqfoHv128gMypF0thfh1nm7R9oOltAy3h5H/hr7uf+MtSD5v9MtYxE1SB80CbqtS\n",
       "mq5K+c3vPyKoPMljhLRR4zYYUVO+XNtK0xwo7xSz1woI5T4wEG3/VjNIt/QwN3QBPFUbJBwItoew\n",
       "iGxVC9XZgT7CbNwWMf1hzdQYl8vaAbh/7ijLmOogKGyphY4J0Mr4vxh4Ob2iBMI5wMx8SkkWTfu+\n",
       "Ejdsjv8WRRx2ZrYuvh0qwynKPbAOkUiqwvxgJrVz3v3H8KwbO0FbbEslF7Mf/6CmENvTf5cukBpJ\n",
       "Q0P3KGzc2R9NTghhReGnUwEbeEkKI+0ZnPoaiLtAIEPj+ntPs9GX8SlViX8QyTLiiFf0+guOZVt/\n",
       "//ZyvJ2zlkzfuIbd92s0znM2EZUFlavch4JzRasV6/sOvt8NCgXIF8HHmQdJevNEA8/aUC4zCKTL\n",
       "LXEdTtTIgz9813Ge0UXom0LzHOkeS2HiVN9H55GuJV8EbJfBuoA5yvYD6HmWkHQkt1RTWu/WYEq2\n",
       "r8kl7BfV9gBTwRNhWGH6+XWSjcKqpwEVimOYgoX1DEvosUM0fBrLe1/5wZG3YkWozocohHK+zFvm\n",
       "Ah/iaHm3iIk87pHJFLnsAG9uZ4m7A4vVlBr0jFMi7sGkvfX6kzf8rO9WZ5uU8DJ7cuc/JrS2BJLd\n",
       "UoYW0FK4tvIDL2Zcp5WDnM6cil5G//+DzwiSuI/NJQBY51xUg6mc+yOe+1FgCNDb8Vr12spxunRx\n",
       "+9bjlMCzssRaAATsAAAACAYBBAAMCBCAAAAI12Hgwh3//oywAKDmr0k+WewSs58uRr/npKcqaX0F\n",
       "VepbV8mEzxvZsE23GGoEIvfSOP/t9xzWNpVzwrOg2XfTWbFkLgry+zjEFB09jCZYMdFM45YDbU+C\n",
       "nh5q7HSp8aCFW6kcKX86XMp6rrW3VGy3/uPGMRarnKWVasgrCRt7nnK5V6+E/fU9YNMA528ClXWb\n",
       "33QRAKtaogkVm7pxT7tOUVUaxG9THaOt9Uj8lq6rD6UCNZRyalsejYPCq5N6MGyTYNwB5s/wbxa7\n",
       "iYdp8Od3JoyIaySmGHV74rZikQjyOq3MpoUjQgn8i7M31qHHMrGgnM9XOs1DMSn/XRlrF6+U6IBS\n",
       "Yk18u8wn1UEGeHUhu0JnNOWBR6edVgx7yazeeSJsY73MFsl53U3HjdykaACAXag71fZTJJpf+3Eb\n",
       "n5haPwRQZw+rsFRR3E0V7/wVgMaCj25gNtsDfN+UxqC7BSz28lcf1l6/vRya694pCsLGDRrF3GHn\n",
       "9IlwNchM9BDe2njaN5NBFR4vF+q6oyxxwA3yHrhPevktukIFYBQxmEB3cWmVesvgNue1cby3h01k\n",
       "1m/Mg5GtNaILxQmtI5hDpjFA3BZGUBgsmJ4FO3kzwcaeW4Mg1moCzAgNhc3IQeG2EgHF4b/RC8l9\n",
       "YkrEcYr9aFyJm7Zg156kW1dZLQEwPsRckZeumA/WYYTTb+roMDGN8/XfVlss9IGaID81pxm4egVn\n",
       "Sg2FfavmiAk+pbKAwqCh40IpIC+tWxwMgxln9iHZpODp4ci3DJ9fSQSHk9rsxzTn9Wh7g6LtJyLk\n",
       "XWBMGhYgAO2kwHuHG66tldpev+sEyAra369Tedi30/g6hXCPKJoe5KLrVo6orXOmLoLxoCf3XbcI\n",
       "/UhBMdMbeuJFvT+a8VzJqfdw6ZQ6JzqlzftMr4qf8HV5o4XVen2tkp1BXUXN1klGDxTJN2c7dkD3\n",
       "H7tybd2QK6uX4NLhW6o3hlJtASdZfXE67cy01yEHokraPte6zcJPif+mWbZU7qSBrVCEJ/R/lcCj\n",
       "6mElySF6stqP7Z96pvxtdL26gvMFQ+Uqe+qTznC9+p6q017XDfpEAQZsIVRRlisrSKLMVK36Eo01\n",
       "7LQ5NYpSzB26qd66SRG3PBqovUYce3OX3/n/g210LT5zdMpk3V+J3jft58Di75I9N5rKK/+2wzRv\n",
       "fdRMtchMU+g79vveY+Sur+ueatPxgvxKII5QaNb2GR9ifTrK0Eq652hzmOezwpG2edyOdgAsEjy2\n",
       "uq5CAqtR1A6llH4pIymlP6byrlAFcEMGoijOzVsAst6shZQLjwca+wASbrr53wiw/PIOerdWNd/q\n",
       "PvLH2upJCb6gLppq8LIOP+ADEVWu1/7qNUeCc5oUnBaehBe+tWFO7W0iySHK/sZxBZSUxo6qLwCG\n",
       "Bt+cCtq/UccqDAM58EPyqVRwd00wCW1wF1f+ZCH5dM6khX7WIxGcsWecU9+G0fbDiCPYsMmFPkok\n",
       "CtVc7WJ7Pvyx6K2KVvGTj1Yqv6kawN98LcNr4bTwxiTI/PUT99OVlY5X8hU8Pnxzp22V6W4d7xPG\n",
       "3SXQKeBYdHfnVbHADVCkcj0dpzthgzktks4aIuY4MPLUZeZLD7/urR6IHAQv/AMlx3Y8V4MfUjXB\n",
       "P3BJAs/7lVfLzzclgg38GeUxijFEP4WDQx/Yo2MRKT5SQO5LQ7fKUqlS6jeEx7aUo6bJvuXCXwBZ\n",
       "F8j6d1bjdELoNdd3cqbfuWNnMTLnOv/8gkjjnccfCLNUcWhIBNG5gU2fiB+EV4ocKs013TOHWguj\n",
       "NzBmSm3P4sBZHfojXYt0dso51grk0Vui6QsfLUmI7Y3VKaXXPEwIUUgh99Cp5vLhjcJkIYBkGJhn\n",
       "LhyYoQDHj2N/lh2IUVHLR2yPFJMpCfdlpwVv1PKJxX+/zzGakbKLTjp20r//lpAuNMepKjJ4+hAH\n",
       "o5NFfPFPUFCsuBSRBuArlU2YHS0WkdQqLf85LpX7QSehIfjCk610jkCVIHe7HEUrZVMiM4NaKRUS\n",
       "ZFZeEloA1NUs3/Yx7wVjSL2H+FwnamdUbutPebKOv6exS8Dn3Ve2DPjIVmM5/V3bHvaebAJ5gAoK\n",
       "DSFVE51KtS4BVhNn1/bAlyeO7OL9LiYgNGQRmZXMDBgSJ8hv3HvIAShfU1viwkkFGcsNJXTMDdr0\n",
       "3RvdlePD3c5fF8nL7Rx5DqZRf3ydff/7120Czbso1lFSvhH2YnkB3fNil291nv9kMPZ4bw4KFZP/\n",
       "//4AQq0cARlV4vFFPl448vVQcuSyt9Y5tb5kWb4gj7vwa1vTkjk/h3TSifxiwgKiWnubl36ZKpjg\n",
       "rxft9K7ToLY8kXzZIf+1bgvYOsG0BfVzj9oYaLX09Mu57NVgYoRuSRbb+HaNb9oa3qQzToHXYT2/\n",
       "al/1aF2U7UYc9eAuAHE6NFpsslsA1zg95FmTp/vSWEeSF1WlOexKuCGbEQpKAN77vhAGoL9ig+5X\n",
       "CHRdz1F35cGdlVUsNPa8k69Kc2wSf3trMhDMbR1TOZ7MYMOoHg2TJWUn0XfhWWAOC0lT5l0bADkN\n",
       "gB4zCVjxC2WZDaYQ706hrZFxrvuz6UD9fRFZZTO1c7Ah0VEaaDqB9UYMBiA4MekAPEDs4ILDgnj8\n",
       "fzW355muzdPv/vXQL3eTLN/igqhTSEAEFIybA33JoIZ7MXVVZelWsZdl/wlK1EiWki4m7//+JwkB\n",
       "Evb7n4BlmfZTTxNtxDvkCMe4XK6wimKQbJXM8/9erT5KecA1LW7EJ6/r87P2GeQwdt5/7wNOmSTm\n",
       "2FXNgrV1vi+6sf7vQRSj4ss76nkcouNCSAoVGMDpPh5Ibk/r8AvIcxoZiXR4zoFsEA8VE5n7jsgm\n",
       "KvSnqxTd8ZALqMBwGhHMxC8i03ew8hdTptPAHpqHwx1/bV/+S+G49yAp1Jn8e6505LKOgt/VsWlV\n",
       "RibRITB2dcTDIW+A1mhBy0Ou0r6G3m+ViIsQ9kwGIMRUXn1FQwGC8VFQy+WKABrfMHPaER2lOW2Y\n",
       "IAiFO96s/ZwABZwAAAAIBgEEAA4IEIAAAAfdYeDiHf/+jLAAoOXyKu3E7o+FRYeJqiRaepthsvZ8\n",
       "kZXO70yy4IuvFRt7BRsazPkHMAgoaxV9vs9NzerS5o/Dz7jSfnnfbw2a3iBHuqRaoO/kCePUVqAu\n",
       "ZaNWGklbBiPN0OOQjI8zmi6y1vGGE7wHi7057A3ZGKnOAQ9vJY9GTUOoY6Hn/S2q2OhffjvqJFa9\n",
       "T68snwUyQKYKk8hhpKZ1qDorJEXuomlRZ4Xs7z4QdHtcBJn4fORPzWM0YANUuW/7HQZ+po3+Ea9I\n",
       "M0fYQCs6oE7BKGEMjjSAxDA5lgypozCn6job6SG1hOA76i6frMC+PWBlhxegiauGr6aasAIWFt+d\n",
       "ZDtKa03Xza7EVPrUPqf/9j+7IMpd7tY+/aKgNMZSXuNpLRSIl1mloz2657GOdsFdVM9rAdXH35dB\n",
       "H8b/yZGGWWCsKQCspKuRkcEP3r5dsCLhtNHFB8BfyB7sn6Ca325cRqw+RJJbDd9326md1KXotDVh\n",
       "bMDLmC0j74Wc8dVhXEpPXH90kfpZHrM3pmpQg4d9tZGmdvgpRcQVrHcPcC42qTHOqMigz6+jICj7\n",
       "rZYpf7WIRMOclah2Qgf4IuAhJn+pQmX//2ld8fSEBCI7qQeAsBtw//PYArT//gB8AGHpJ0Ke6yPD\n",
       "lOScR/AbrqEZGG6tAV1SmtTu4FQrDCe9hdubVq9/xmpoAGpA5deDxBuFA25KF/9aec//IQgeGi+v\n",
       "86v/YhfBPjyPTurqiSSPGA5VOZ//5nwezs0jSkhdkpnn306ITFbIKxPKN+302YyFQuCtQKj6NthD\n",
       "cvxz8mGFSyuPhATwhbwIMuAXOcL6VuZcJOUS7Ehhv0G4mZcT6KHPrWWvrTWXE5dcXChoQQayrGPQ\n",
       "yALaB1J8MKLzVzFjeoHhz3Sdmlq3VqLsNX/ilosbDvxVXAWGvxa+ZnbeeXa3eN8E///6yj/vvaZ/\n",
       "XqMc6yTqb6KwIfFFRS+NOgCKzuxxJWD8UU9J6uwKFLMXxSGXQGWr0gYLnR/vvmFbpw+uM4r31Tw7\n",
       "8UONNZrqRUAA0+dmDHchXNK88c3S/S5cHXPqEtECKUHFJzuVAf47mXYozJgRvUJ+Qg5yW0LklGC/\n",
       "U+aTKsMen7SHZJ+N/ahxRw/xqeQC4M49yFwFcUnXSjvUAyyWkCsuN5m84sf+F8+a5yKrjnAb8KhO\n",
       "SvCVkTh2Za0aZFS1sXFVnlzluWBDHka8T6FNth6Xd5lVho7N6X8aqcVq//9mwJjRD4X/LUoLgbvI\n",
       "TfFgrZq/vDF66P///9qj+Mf+x4N3v29jmmUbDHyD23WOZPWswG+FDaTvN+A822i49Yr9lX11NbOp\n",
       "MJB4qR6KX4zUbTZihpm+oJ+Ku0RAb4D/P+HPjDohv7xI33UMdGxJtAZkp9VQbVlcjNN3B3/wNivO\n",
       "oEZM/fKDf8M8IibV0kCtNYF3RzOP6+tkll/ySpuc+kKdObiEje+FKlMPRxT8JjBmLLlLsrN1+kjQ\n",
       "ogKZz6Ug5mm+WKLdfhTE7w46r0jzjXl/yUxu9CIWoG9h6Z5//o6ELCxZ8qvrVTxKMd288GMLH1vY\n",
       "L8mBhkBOMKshP/zlv//wa0isj7FlDaqcxybYFt962SDyWybyVBbDliUbxjmRn/IUwFAlXpbl8nj5\n",
       "hrugIYCDs0p6neaWiyAjMQx1UZeFbCBfkOFVeRUFkHRhzoivlZZbpIlZUbDq9Gd5ITEPSXE6yxdC\n",
       "nQyv0STY19ewdxXIEP70wEBhPhrXWim7YGA8By7GA8VAv+zVAtUf10wZGzxayzn20Mswc9tAuLt7\n",
       "9P/CJggCXKFnRLGdsSwvNAu/QnbCztkXaMc6Gs7VVhVaTv+3kteu7N8wQSY2L6NR02xnDpgW61H8\n",
       "170C4DVSgRDzj/gRyIRlMROjmfF3Jutk/214lymXc13kFmWiP8tMspinE3tlAmsNn/U4qzjLItm1\n",
       "76PKZKCkkQUOOoIBrW5KM4t15SUVQLg3uB60bRBvZWl1pbU/ge/bivUwz7jXvF/2Y3T0khF7gTUn\n",
       "E+47J5Uk3hpb3edFdyDKdhm57BTplKSy5brGgrq8skwSz6nToNe8c7zkhENAeFH3sYu8g6p6Ei4r\n",
       "xba0ldaJaBjKBl3Rr1AKNzY7m4NIkyIdJ5qjrIueFygceiTI+BamOl9AEs4fGeOwh1qUMxANLCzV\n",
       "hZe+zzMKyd2LKF8REuiQb+rIIG/m3ppDB6IvTzu8vd2HzvryTZtttadARl6lPqDoZluVti7+BKPa\n",
       "gzeABm83mVUsNHlLjTJAmh///8EzWJXhD4Xv/yYpxrKNDCN7KsLJBwSUw+Rjt1bYp4tkL2XaDPs0\n",
       "o6Xr6lAgs8F19LYuu9VSCSl6GMimApI7D1Aajf/uD6w9Fe6jY/d/XmxmdQlM9aW/aK6DQQ1Y5t3t\n",
       "OtxbnQKTN6IPOKnh82xrdA7MsDDElotBldteLg9h9UHW8sY8OmbG43/RWVj2NkkSCF9RQO7z9+1K\n",
       "fhC5Yi4+vyFV+HSxySqPLKe+FHaNCfKCfvtBjccSSqpiNKMUrlymApuRqtPiev//0/v++B7cBhEI\n",
       "2PnXkpN/7eTNgU4bu9ygfuMShZMFooXsSGmyV9DE8A4laW8T2M4oeoOXepliLlVoeu2MKOqq7syq\n",
       "19t9KmxngTPafkalkonLCoyoJqpnimMAhNqLSBLlIM+aa4otYaYFSv5AAC0gAAAACAYBBAAQCBCA\n",
       "AAAGT2HhAh3//oywAKDoUVhLjz2AppjNiR8UHP/DvV+QF4Yd4/HHEUhooLTyzLqFvrcun0mm2b9H\n",
       "0/nrPWWG9O6p8CgXRJPDuEx3fAYA7xcDMX6a9ew+DqPn1x3IRN9JwMKTxdvwg+fDSjwzv1BW2g2d\n",
       "DvEjpg35eO02YVpljFeQpOSaJzlOB8f9rg5LW3AN2E2Y5deTLcKGbNTK3go1T5M3C+Nw8DiMpCP3\n",
       "JUNhgZ/xUwHl9MWwaflfe9IrmLNqsY3kNXYvCI+Y711V9h5u5mEyRVwE9LvO5WgGUCqFicime150\n",
       "cJfkrNKkqpTiMClcudzrpueRZHSrYv14MvAY4gkDx+eX/9TxJG5YD/QRLIOTyhk8RlaraAzNg3kN\n",
       "Z18nLlg2cM3UtKdjNhbsDXhHqCA6DB7Svfl/w6FpbErhNhGxDs1NNFBie6zzhldDGsYSuQuL8pgu\n",
       "+i98fYeM/bLub9XTWdMemtj5QtuXkN5g2BRpH9/3xqdidzZlHKgWqyfhBXxYmOtwVNcBb90Rhzcd\n",
       "wukTboOx6DUcOu9XFyuR/5d+dIJGwcnuF2c8zN/X9pH1rnFSvU+j7C1Id5k73ulUgFE32TWsJqT2\n",
       "OZ670CXSbXEoD/TGuzGJZevVfBsvS//+nJ1Mv8v3lZedgTC2nqkyhjZsiFY9kXLcI/9AxOBdu2WA\n",
       "UhP6ew90ISWDRcg5WNa//fU1kXBISfS/4BIQxvfW65LOPI4MVWwyd/K6zT7bBz4Dz8693vgK1hLl\n",
       "UVAZ2/EnhPWxlWHzCxH//N+w0xJ1wK/wsV+0MThfev9gmfY3WaLu4Pgb1JW+1hlLrmGnUMDaGa7k\n",
       "bLv9utN2rTAuiHvg4ASY6V6QGXdesIDsefqjftbTgcgQ3qoY7V7UJuJDTnBVZmAI1LTBsE6q5TkA\n",
       "4t8rzF4E0/HDcNDKcjw47ql+er/59pHlMiWh9skhb7Q+6GQqZg/6rwnFeDws4qL1HMjfTqJ3NO3L\n",
       "LNnIgED0/d+moUU5uvhxM5/L1NrnDPDvxlhJ1LpJhENfE39QTGEHRMOJHlJ/VDyVU4dGIaWKkNXA\n",
       "8dZHnxKUvreF74MpuOunsASRoMt+e7zsdFiZ7B99ubigvr4ZI9um5mJS8ron4f///8hLoMAl0PQX\n",
       "aJffNvi43aLjuORzvaO2yrGNNWww04aPSVl/ogmHwFswqPV1pUWGBYFOpxAMZ52TKdl8m4Mvm0xB\n",
       "MX+fL6rewiLyjAwTbSQ32C9zTzJQ5U7T/IVE2nZB9+radiglmgPGNLZ+w7jrYtCUwgwHK5Nh2ZIn\n",
       "cmaLNYeYtZgRSCSeM3alVJClmqkt5+XLRJS+wCfEgLqVSPhRmLtviCsrUfYxS9o3eELfBqNyfFZG\n",
       "RDLcxp7Ve7N/nFJgOLHUUH4H9MkqA9OSxIbiz2D///ArhnKlmTQQ2mvdduCTM3lDEG+3+AcsvkOU\n",
       "d9myP5qpKQ0F9qTQf2Q4P0e77QK8DTAv3AuMhs3GJF/yOvBjACEblGcvwKBE4CHqcpb3NmtAhcwH\n",
       "800//LYpsldtTEKXa2N/F/P1pgEgQSARMKZxZdCAgg2wDe4SiQiyOwGLs1/VqVUpamTN3N83XExn\n",
       "1ueNJOs8OkuD0tOXqRe4EReQSbMgoDlh3cG4viDVCfEZoydwDwbtRS1wBCpCF73/dPLNdXBhGuMQ\n",
       "HEJTGh0dLMzFCIL+iAEBf//90oJ75ZKrWHDAmAFcnyZjTDNZi0++NQuBqyUEF4GYubgKo+RlSbYm\n",
       "G9568yx3L2JkJW3GTG2CYBdckzmMwEZR5EY1CU3FxVoJHF90VmkGIUFHoFctWUkQG5NtRQ32V17p\n",
       "C25BxmCVpahOSabWsiC19srdWMZnaRFHWy5NcH5yqbyukdEdyW+g6s8fbh0tDq4f9R4h93Svukvw\n",
       "2QlZHtY1WSj35IVBFeZrl/16kfs2AsAlo/dVXKiSyQzmI/6H7ARhL4MHEPjjKTjHb4//T9u5a6YW\n",
       "wbMjTYMNyHICpIZsZM6sXC+/PNgp8/9ru8Dt2C8FRRnEFxC7yR8tt+z0G+whJfRgHk2g7yDQIwde\n",
       "Fw2XIdtEpxt971xrEpniMKbmOmF11xqijlGjyi5xBBqSGY6WW4zJgWolsL+Om9u6LCd2enSxqxMS\n",
       "yPD/hrn8snvK0sRn8lTzj9tCqKAAJeAAAAAIBgEEABIIEIAAAAUFYeEiHf/+jLAAoD132/qAUfoM\n",
       "9aP7rrKRgMyCcdS4AeVKduBvxrrJUhsubnOtku/BRTp8WFy1fsSf70GjjlIvwB9oTVpDZPK8yVZo\n",
       "eAs6HO9JqUpaGk498tjC8fcsvq+/S/vuhFCzMKQ2k2lfqhzPXUTk1nEH27FnklRX3E3N2d25Khhf\n",
       "GoVq0fBwbm7OGQ6l3KwEWuKIhH6ek+UwuuoRUuIkVg3DveJaqr88F6h/QnXWfteOgfxmrp16K4cJ\n",
       "h6aJiywNwzi1PfPYnTvHTnb7+gE5TdIIXmfp1iDXyzDHuuA8apFzgycErRD3LsISoR9dt5AWwNi/\n",
       "JPqa0qcwA9TgTRnW3x4nQHWH+uzuNYBbyO2LYSkrrA9PGp1tK/S1YCNCJ/jsP9WBUU38nUMdmL8N\n",
       "tvO+cLA7xsSZGZc1TJH9vM2O9e07focbwQ59CwxmkOTfb4hqY13wvAnOPjgVEWoHn4mVgvgt0Ntl\n",
       "dtzyaXIIqxWAV0CfOiDDQVdnPRHHNu2n3dQE9m/VUwKYBdeRmIeCU2gTpw/fYcZsC7Sg5Ig3ea4G\n",
       "ZbYlykK//yBIPP4oQrdVWVZJCbsbw+lv1vi2fk/oFNEZbg/4iuT4XbhkdNPUEHGKsyZQ5ZaD4BRw\n",
       "YqEUEXcmd69MhIoT5gv+6I3SMLJeD3pERFaeyg9U4rZJ5oAIXuM1LprVbzdAHlJgfvjRn9ft+Qhl\n",
       "oMg8eZPBB4smM5wUibpAlB2vn7pvTVzX//98RvvkdWUGJHA8sVmLNTcNf7q2BXvs9FGUA/bgIVP3\n",
       "XaCKPKCDmTBierDJVxkPzvDJJkLI2qdp6jQWIeTA2MM6x4YWwqen/JozToj5rDES4bnc4NmqT35K\n",
       "xVYbhnvewg//9fox7hTOHabRaLVTbVfccV+WII7bh1UaTDz19pd5DMwv9ItgoIr4uLrxyFGwbY2l\n",
       "MKuiWODHhN5UHcKDBTRMtGa+MTqcpJDAvIBSC0Q1I5Fn//7AX/7Zm//joeyxGCd+/DBWAuHo4Z8O\n",
       "T0aoaaLhPiQnN7G5AIWQcNLAzHhrbtwhGvrFzB/xC1vl1yo5YTLWel4ucWU+ubFGUbG7wtz6T5n9\n",
       "oUgr/+yy/32/BNOr3ay9haA6u+k0F1VwwoRS7+2esQSzeWgKfB/bnz7rYLZGbnP8HB1p3Idq9BsN\n",
       "CkyIn28YtaAcJARr9DiKu6AiGPTPfJgJYq8cUtDArdrFiqo1k3b0VrUGBJ/vcsGz6qZNC+bbDHPf\n",
       "Pizh5yUUl2iAdzd2hjTnwAmLPZag1u9xv///0wN2vRwSa2UnnZUOQBYExMLVuUhqQ+T7M0R1Yh0K\n",
       "ji5GGdVVvD1viQ19AMLyErdtbxPwCAUcA02wa6dU/Yb+YNGZAlXaJrFB9pgtwqo3Uxe9KTQ1qtGP\n",
       "9p+ukgeaWMh3QLWOxnr5AzlFsC85D/Dk5j0lyjtvh6r55blcnduxjmKA928qsxZ8PczPnzvl2u4G\n",
       "Noqu5Mm8i4cgqv+8STae1n1qV5njxmzwGPwEEODpbZeNYXRbNonwetq3dtt1szUWfK26ib586PR3\n",
       "8kucJeSbWd7F9CGGGtGTiy9PP5ey7F7DM8ZEBuMl/LQxI8lbD6pvku8k+ss9DalgvnnIwxdVjyi6\n",
       "NGRigSyalTIOdK7e1gQgSoN877Vbksj8RQcoaUL9xEt2k7pr2li1oH/XuUGf+H25MYuUoALCTYhH\n",
       "G6YtGFCzNSENYABQQAAAAAgGAQQAFAgQgAAAA2Zh4UId//6MsACgPXfLaob9cJlsL1MD4CtIVzmR\n",
       "9OoJt340wz/gXTz4dVupqpmF38MjlVc5dXI/7ESi1QOexX3Q6gZNrduEfmgFJqeg9cPrtpwm/yKo\n",
       "R0WWOd0ParUWMDqXuWl26qu7EvLn19J+NZ/i4o8mKc3kZaF8WYl2Rk98+SKOFCZtTn/ZLnwNbl6O\n",
       "KsEUIUFoZIfKeBr5p1nNlfft4HY/Qr/kGycpIX76yKoUDpGcWfePjqr2ePrccfL5lE4P0or2+ajc\n",
       "yB4yjF5khKCO0UXk+9Iy+cQxSTtlK3U9PJra13jwwkBYrafEsncsOTvaz+zRTEYAvJZREH/V+Hn2\n",
       "um8fG5AHn4+w3k6l7f65AHeG1ABguzdf0AGlUrbF75uvajWzlYr0RvbWgJOYAZTeX3Q/KyES/UBV\n",
       "+vwEoO9IF0h1nS9+7gDK6eph1QrE5PY43bjGDMTBX15kwy5vZFTsW+nrAWCWA2U0R/v/zhluhJSW\n",
       "UipLnkT4nnKQ5g5RK15Evsf5YaTP6AXoB7Z0EY+QYLn13gSFuxQP5QZhDq31J9DrC82sHMnR5U5Q\n",
       "MekMZG9T4RI7HKxnnKlyWpyTg77teLeIRomS0FgSVRQYy/MbkFh/yc0Smml2gqNc8m85MwYewd3B\n",
       "VFg0AfVCUl2guipXx68liI4HLAyhI1ynFpaaV1ago6ulBfthFt1rJB38lCGjV4v/rhdEqGHHFNkx\n",
       "4wl6FPx8yocm4mWgjv4TNBK9R5rMGNSuhNg3Yi3I+dvTbr3gbysYdpnf94TX//zdmXQyIcVqAzIA\n",
       "y39nr1T2uPx9p44+ZwoE6iR2c7jW8lOeb+IhvioHtt0OYzTtgf3/yBnTA351SsjS606jgWXokQbX\n",
       "rvAXBwl+1B/meNi6nX/RPRxIzief0vHMqqn/+EfQY59/WKbR33X4SFnwgIT1pHBgcWuZS10xcQgQ\n",
       "7VGazpfKfBaZE3ApHNfW9oq+9//REoI2iu2l2zIHYkFyWITcKvV+zBs2Mjbfo7HjvmY7nJ3R4Nk+\n",
       "QHmPyH5dlzPafSWYb4JtmiXV4v7g+2iDPTf4XDslQCfpPZ2/5bA2z3KBQACrr8MnR5uB+yy3sI7x\n",
       "PjddxF7b944Hvw9lGjkxfhxVaMeo/5zA52lBSoM+4Nc/knMKT0URmQAA44AAAAAIBgEEABYIEIAA\n",
       "AAI0YeFiHf/+jLAAoN3YNShLgjWlUB12+UKxZJ+1WELjaAlcinNtAyadSaKGglAzkofo1GTNAzXF\n",
       "OhNDMlM2z3steYGPGwKC5m6FyxQtTIogmXVmXfjrP0EZkJKBrdDc9OJmcKktQnUpP11Gfx7tKEe5\n",
       "E2e68+L8imOa4n1KiK1BYaJM9J9rzz67aCfOKWzG3HoYqRAHCh2aZDKimi59U/4SYlsx5iC4BEy3\n",
       "J9KglQxcxFrWmrTBenCoMnYdxS5FWeZ63DH3dzNSfxBrC7/FeoUZIlFw9Mm4reNPDCgOIx4DvWEn\n",
       "8MxWgJFX+NNHGAknNRloXplCJJpfULY3qr3oLbePQjRdzTg5OfwfH71xUyO6vLFgJ7e+xBH+rQ4n\n",
       "/+aZ5bA6fBxAyYvhYVpJp44nsL8kun+LkKt31zzWsFlr1IEMwILIgc33qB60vkv8vuH5/+G8SiDc\n",
       "1ubjjMcIXx3EzVI7RSPAlrTTtUo0lzqmJJV78zqGZd2P7AYREPUog80tLOEjdM4cSbyvYn5lCusV\n",
       "ukEeLo6+j/yHeG9aTh/NcWaD83tYNJDBVW+pmBpYgQaIPMZmwQdi0H0znl44DKRAYTvSjpJJR1fb\n",
       "xfPu9zjFd79fT0/CMyDccRg39cogQEVfRJw8808d7fbDhmeZll/3NxTwy9r91I6fKlePjsgf16iz\n",
       "1UefBvMPjavpM5yvVPiNtp1HI+ueltZF50NG8SSokxjClhhMofefgqvYeW33Brp4ue3tAALuAAAA\n",
       "CAYBBAAYCBCAAAABUmHhgh3//oywAKCBmqA5QY8Cb0d3o9GO3h8GmueVG6iU/bteeFY2SHsyygzd\n",
       "+lo02lVVd//6+OaJSkeCxxYDdAAQ5wD9NirY6jVsB3H6Qwp5tTtq5URahqsfiGDh/Ji0fyyUMgkc\n",
       "ir8I5llFSqVhMF+IoUAGBKJRwHT8qd/Yjv/KGHkvACNCp8f40h4QrIcqYD1dI50va8KQlToigd+x\n",
       "OYG0gLEPyCrfUIFPmLvfQ9SOeSfgeKj87ap+dn0jS5w0o3RJsCavN0n10RE9Q5/QAfVgJEgHkb9x\n",
       "7h7w/2ZihGZnHmKlJNk1nEQdo1TB6MFKZscZ5UXdRIooeuxtM6N02YQtq5nIsA4huDyo+eCP7iX5\n",
       "biPdzJW//iYYxTiKRHGfrUTjB7+lhEcYfy8ulFXPcfmqrNCHrPAzhtWn8JgbGWmH4XkeMsCrdW3f\n",
       "vN2/WJoIIAIOAAAACAYBBAAaCBCAAAAA/GHhoh3//oywAKCBoe3bZ4gA2vMoI6TqeW8o8fd9WdNr\n",
       "KH9nSnjwmPudOc25nZKDSmnZ07UNi9r1Fc/sNo36bXxIFaLQTDX+liYSSC/skuqslRm7/0D3t2zv\n",
       "McCDckAdQgAjdFuvBidJZMpx3Mj0ObFpAPdPZePDWkZqOMf/z1funrJECYwgItTyPBz3UsSCFxQj\n",
       "H7JrIsPN9qo7Q2CIH445mduYwJNRQfsEWPJu2R7c7aQlxDQCFEIvaLA0v/uHhoWpzo6gcxvJ3wTQ\n",
       "Uwb8upfZB+JZrgTnIplrjtJvZ3UA7a+JLM7GpzzZ5lSJeKK9pZE6xqi7teIkBBABBwAAAAgGAQQA\n",
       "HAgQgAAAAMBh4cId//6MsACggaHPAYQ/GIIFe25vHJT35cnvDVAdTaxK4J68J+GEwDsOwWnvS3UD\n",
       "ivVijKi1el9a1h8UkpR47BXX4Wi5WP6OZLCqvE1M1+BY+TFWSWlw0UULZvTTPb/brGHsi0Jm+FwP\n",
       "DMeZwVRbbBKeIFG+gNOybRJDZAgvHXKmnim3SsREnii5GeSPvUExZ4YeHq9qoGe43VRt9jHt/klH\n",
       "0uD/PJrrUJ21sqkcBzh95AVvynH4yRCka5gAmYAAAAAIBgEEAB4IEIAAAADNYeHiHf/+jLAAoH6n\n",
       "dLwmJxxV2tj2Vj9j3flIzxlqlcouDuSSXtcuVenLQ5341CI3CJwp3bh6KOR2kEJCMylt2hwIbG6q\n",
       "k4C4KElhnK65icRgvVwGZoEZET+HDnuKdhbCcXK8tHwBOdA0Tuul7t1Dqva+/X+4d8UbzDluQDnS\n",
       "vfwzw6/B+dUror5XG/8ifDIR00g61MuWeK5Ok5nvIyuaDF28WShhoCc/j1aOCQxfa9hzOVv5Qae5\n",
       "Hryb2lOtLl/XQHtX5NH01gwrpAAC2gAAAAgGAQQAIAgQgAAAAMdh4gId//6MsACgfqSrQFlUStUl\n",
       "OUUPSXEK/X6ZEUl0mD+lmxTqbcYI59dNw2fHASv95MPK1R0Srtv/potypQUCK9XtdvD0dyblvLLb\n",
       "rBwB1hXMZ7HpmT0Grc3i+4KprwjIzPuJ6P4gG8+e2YTakjahGhmuvNHZqD3bM2XrNU+S+iiDW3vo\n",
       "w8mUMmxZbZZ9zf6/evlLzM3yxr2uMHjcn4V/TnUprPt1zZG1YMZGR3Xv9OsjgmavceF9CoP2h6LZ\n",
       "pegyfgxwAAwIAAAACAYBBAAiCBCAAAAAwmHiIh3//oywAKCBnjT+NOTbe5IC1jnOm35PIuNYpvL7\n",
       "Et6QH7ws6++28mPs1m4grJuaUlrinDWRbXBrpA+WpNZLlQcRcEpSTbbNzzPfoH3G8lpt32ZZY9CQ\n",
       "otfwTt0kxfxnnf0dmqiKqRDNiPNVqzCYtYJinSALglQSyAAstibcFaPDmOgFlA7O4kUvb7YA1UJ1\n",
       "tcPni1QZtcyoMFjkShDJkczvktZtCCgyqVZaMe6TeLHQsDWuA2MoKb6JjVnQABdwAAAACAYBBAAk\n",
       "CBCAAAACamHiQh///p4QAVAAmdWGX4coXtUYI8a7yu0JR2+Y+OhIQCBzoE9LzJ5SLnn/9oN39M98\n",
       "eP8Wza1QmCR0aMXtA5BL5a0rWYcl2ln146FP6SNdJ1ui8LWhHVHYWRRlM60QHtwFF9gwpfpc+Qs3\n",
       "oFdh9jb7kXUwAuJ0GHzPnfDGI+w/0pIZB2gZWsoh6yKoz/XsL84c71WtxCoZafWd+6L9DYmEFy4u\n",
       "2OF4UCjKUOiGmeDW0EuNBu9XTVdvIDqUydlw2dwl+V3gWl4TDiI3B3FidY/lL1vKsfGh91gVOEsC\n",
       "dn8D6YCNPxBdRA/QWosbB+C67yyORELxVJ/+Uk5ZIb251A05VgRGaJPho5yYZiT2mTXOlW5YzzAD\n",
       "ejtQ5VoJFAog5Gm0td5lp+D/5ASiZkZxJvL1yAIHkn1GQelz14vna74uUkXbZudtX3oPhjOoOeyT\n",
       "qbij4rmropV9/EV6XK+pTLUHcQIXBQKsSYocldnNYK1IQtZMDC6UHHJD2yazP4yJuGH6LCHylhbS\n",
       "8LAU7hKG40FhYQh24SQUAQMxXHF6kFyy8kLtQCAi8dlkSGUZTfl3FgFvXg+DBpn9qXI2IgoByDOl\n",
       "814I1UUA/tP7iydEzS/yUjcvR9mwehnjDwXI3fhADupQWgwzCRhlQ9bYv+DCpNH/b2ZRgd2O3Z+s\n",
       "5Rx3BOINMeLw17N05VSLA9E43iVA3GLjHiI1ps1xd+dPkF8VVjTdD4gokaTtyr8ZViAGTKIFVoZn\n",
       "zqhV5wan65sDLVcwu0FaDFoiUvao19j3gkwkDi+KS/9uryfP2K/LxM4XS3SaPBn5xUnhl7f3VAAA\n",
       "AAgGAQQAJggQgAAAANJh4mIf//6eEACe/R+eKiKjqL14j6VurBy/XBVv03RfGORKgzJfLQhbR2Yr\n",
       "qjqar8vP2K921VHBFHSmpTL7m9KjUB4PPrPnQiB7RdHR4k54obp1r4SPZCHmSg9fzDhgZoh/vAjf\n",
       "Y72MHAHnOUY3Em+s+sxg5DdAjFoDTozQuIkSyP0rdaiAV62CpaURn4oTrhpAUfKuKzZM6vs0BnrV\n",
       "uKIovBcf4qCZ2uUIgC2BH8M2qKfPDg5fb8ImzCCHMJUT0sSi8+DqM8HplMuzT3UesU+AOOAAAAN3\n",
       "bW9vdgAAAGxtdmhkAAAAAAAAAAAAAAAAAAAD6AAAB9AAAQAAAQAAAAAAAAAAAAAAAAEAAAAAAAAA\n",
       "AAAAAAAAAAABAAAAAAAAAAAAAAAAAABAAAAAAAAAAAAAAAAAAAAAAAAAAAAAAAAAAAAAAAAAAgAA\n",
       "AqF0cmFrAAAAXHRraGQAAAADAAAAAAAAAAAAAAABAAAAAAAAB9AAAAAAAAAAAAAAAAAAAAAAAAEA\n",
       "AAAAAAAAAAAAAAAAAAABAAAAAAAAAAAAAAAAAABAAAAAAfQAAAGQAAAAAAAkZWR0cwAAABxlbHN0\n",
       "AAAAAAAAAAEAAAfQAAAAAAABAAAAAAIZbWRpYQAAACBtZGhkAAAAAAAAAAAAAAAAAAAoAAAAUABV\n",
       "xAAAAAAALWhkbHIAAAAAAAAAAHZpZGUAAAAAAAAAAAAAAABWaWRlb0hhbmRsZXIAAAABxG1pbmYA\n",
       "AAAUdm1oZAAAAAEAAAAAAAAAAAAAACRkaW5mAAAAHGRyZWYAAAAAAAAAAQAAAAx1cmwgAAAAAQAA\n",
       "AYRzdGJsAAAAvHN0c2QAAAAAAAAAAQAAAKxhdmMxAAAAAAAAAAEAAAAAAAAAAAAAAAAAAAAAAfQB\n",
       "kABIAAAASAAAAAAAAAABAAAAAAAAAAAAAAAAAAAAAAAAAAAAAAAAAAAAAAAAAAAAGP//AAAAOmF2\n",
       "Y0MBTUAW/+EAI2dNQBaVoCAM+fwEQAAA+gAAE4g4AAAMNQAAB6Egu8uD44XUAQAEaO48gAAAABx1\n",
       "dWlka2hA8l8kT8W6OaUbzwMj8wAAAAAAAAAYc3R0cwAAAAAAAAABAAAAFAAABAAAAAAUc3RzcwAA\n",
       "AAAAAAABAAAAAQAAABxzdHNjAAAAAAAAAAEAAAABAAAAFAAAAAEAAABkc3RzegAAAAAAAAAAAAAA\n",
       "FAAAJ6cAAAt8AAAOSwAACpcAAAtvAAAKKwAACOcAAAftAAAGXwAABRUAAAN2AAACRAAAAWIAAAEM\n",
       "AAAA0AAAAN0AAADXAAAA0gAAAnoAAADiAAAAFHN0Y28AAAAAAAAAAQAAACwAAABidWR0YQAAAFpt\n",
       "ZXRhAAAAAAAAACFoZGxyAAAAAAAAAABtZGlyYXBwbAAAAAAAAAAAAAAAAC1pbHN0AAAAJal0b28A\n",
       "AAAdZGF0YQAAAAEAAAAATGF2ZjU3LjgzLjEwMA==\n",
       "\">\n",
       "  Your browser does not support the video tag.\n",
       "</video>"
      ],
      "text/plain": [
       "<matplotlib.animation.FuncAnimation at 0x7f9386491860>"
      ]
     },
     "execution_count": 18,
     "metadata": {},
     "output_type": "execute_result"
    }
   ],
   "source": [
    "fig = plt.figure(dpi=100, figsize=(5, 4))\n",
    "plt.scatter(x,y)\n",
    "line, = plt.plot(x,lin(a_guess,b_guess,x))\n",
    "plt.close()\n",
    "\n",
    "def animate(i):\n",
    "    line.set_ydata(lin(a_guess,b_guess,x))\n",
    "    for i in range(30): upd()\n",
    "    return line,\n",
    "\n",
    "ani = animation.FuncAnimation(fig, animate, np.arange(0, 20), interval=100)\n",
    "ani"
   ]
  },
  {
   "cell_type": "code",
   "execution_count": null,
   "metadata": {
    "collapsed": true
   },
   "outputs": [],
   "source": []
  }
 ],
 "metadata": {
  "kernelspec": {
   "display_name": "Python 3",
   "language": "python",
   "name": "python3"
  },
  "language_info": {
   "codemirror_mode": {
    "name": "ipython",
    "version": 3
   },
   "file_extension": ".py",
   "mimetype": "text/x-python",
   "name": "python",
   "nbconvert_exporter": "python",
   "pygments_lexer": "ipython3",
   "version": "3.6.4"
  },
  "nav_menu": {},
  "toc": {
   "nav_menu": {
    "height": "116px",
    "width": "251px"
   },
   "number_sections": true,
   "sideBar": true,
   "skip_h1_title": false,
   "toc_cell": true,
   "toc_position": {},
   "toc_section_display": "block",
   "toc_window_display": false
  },
  "widgets": {
   "state": {},
   "version": "1.1.2"
  }
 },
 "nbformat": 4,
 "nbformat_minor": 1
}
