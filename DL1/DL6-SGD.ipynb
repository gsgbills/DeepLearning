{
 "cells": [
  {
   "cell_type": "markdown",
   "metadata": {},
   "source": [
    "# Gradient Descent\n",
    "[Notebook](https://github.com/fastai/fastai/blob/master/courses/dl1/lesson6-sgd.ipynb)"
   ]
  },
  {
   "cell_type": "markdown",
   "metadata": {
    "toc": "true"
   },
   "source": [
    "<h1>Table of Contents<span class=\"tocSkip\"></span></h1>\n",
    "<div class=\"toc\" style=\"margin-top: 1em;\"><ul class=\"toc-item\"><li><span><a href=\"#Gradient-Descent\" data-toc-modified-id=\"Gradient-Descent-1\"><span class=\"toc-item-num\">1&nbsp;&nbsp;</span>Gradient Descent</a></span></li><li><span><a href=\"#Linear-Regression-problem\" data-toc-modified-id=\"Linear-Regression-problem-2\"><span class=\"toc-item-num\">2&nbsp;&nbsp;</span>Linear Regression problem</a></span></li><li><span><a href=\"#Gradient-Descent\" data-toc-modified-id=\"Gradient-Descent-3\"><span class=\"toc-item-num\">3&nbsp;&nbsp;</span>Gradient Descent</a></span></li><li><span><a href=\"#Create-random-weights-a-and-b,-and-wrap-them-in-Variables.\" data-toc-modified-id=\"Create-random-weights-a-and-b,-and-wrap-them-in-Variables.-4\"><span class=\"toc-item-num\">4&nbsp;&nbsp;</span>Create random weights a and b, and wrap them in Variables.</a></span></li><li><span><a href=\"#Gradient-Descent---Classification\" data-toc-modified-id=\"Gradient-Descent---Classification-5\"><span class=\"toc-item-num\">5&nbsp;&nbsp;</span>Gradient Descent - Classification</a></span></li><li><span><a href=\"#Gradient-descent-with-numpy\" data-toc-modified-id=\"Gradient-descent-with-numpy-6\"><span class=\"toc-item-num\">6&nbsp;&nbsp;</span>Gradient descent with numpy</a></span></li></ul></div>"
   ]
  },
  {
   "cell_type": "code",
   "execution_count": 1,
   "metadata": {},
   "outputs": [],
   "source": [
    "%matplotlib inline"
   ]
  },
  {
   "cell_type": "code",
   "execution_count": 2,
   "metadata": {},
   "outputs": [
    {
     "data": {
      "text/plain": [
       "'Tue Jul 17 14:20:37 2018'"
      ]
     },
     "execution_count": 2,
     "metadata": {},
     "output_type": "execute_result"
    }
   ],
   "source": [
    "import time\n",
    "t0 = time.clock()\n",
    "time.ctime(time.time())"
   ]
  },
  {
   "cell_type": "code",
   "execution_count": 3,
   "metadata": {},
   "outputs": [
    {
     "name": "stdout",
     "output_type": "stream",
     "text": [
      "0.4.0\n"
     ]
    }
   ],
   "source": [
    "import torch\n",
    "print(torch.__version__)\n",
    "device = torch.device(\"cuda\" if torch.cuda.is_available() else \"cpu\")"
   ]
  },
  {
   "cell_type": "markdown",
   "metadata": {},
   "source": [
    "**TODO: Convert this notebook to Pytorch 0.4**\n",
    "\n",
    "\n",
    "Review and explain Stochastic Gradient Descent (SGD), an **optimization** method commonly used in ANNs. \n",
    "We illustrate the concepts with concrete examples.\n",
    "\n",
    "- `Regression` — the target output is a real number or a whole vector of real numbers\n",
    "- `Classification` — the target output is a class label"
   ]
  },
  {
   "cell_type": "markdown",
   "metadata": {},
   "source": [
    "#  Linear Regression problem"
   ]
  },
  {
   "cell_type": "markdown",
   "metadata": {},
   "source": [
    "The goal of linear regression is to fit a line to a set of points.\n",
    "As simple as possible."
   ]
  },
  {
   "cell_type": "code",
   "execution_count": 4,
   "metadata": {},
   "outputs": [],
   "source": [
    "import numpy as np"
   ]
  },
  {
   "cell_type": "code",
   "execution_count": 5,
   "metadata": {},
   "outputs": [],
   "source": [
    "# Here we generate some fake data\n",
    "def lin(a,b,x): return a*x+b\n",
    "\n",
    "def gen_fake_data(n, a, b):\n",
    "    x = s = np.random.uniform(0,1,n) \n",
    "    y = lin(a,b,x) + 0.1 * np.random.normal(0,3,n)\n",
    "    return x, y\n",
    "\n",
    "x, y = gen_fake_data(50, 3., 8.)"
   ]
  },
  {
   "cell_type": "code",
   "execution_count": 6,
   "metadata": {},
   "outputs": [],
   "source": [
    "\n",
    "from matplotlib import pyplot as plt"
   ]
  },
  {
   "cell_type": "code",
   "execution_count": 7,
   "metadata": {},
   "outputs": [
    {
     "data": {
      "image/png": "[encoded data removed]",
      "text/plain": [
       "<Figure size 432x288 with 1 Axes>"
      ]
     },
     "metadata": {},
     "output_type": "display_data"
    }
   ],
   "source": [
    "plt.scatter(x,y, s=8); plt.xlabel(\"x\"); plt.ylabel(\"y\"); "
   ]
  },
  {
   "attachments": {},
   "cell_type": "markdown",
   "metadata": {},
   "source": [
    "We want to find **parameters** (weights) $a$ and $b$, to minimize the *error* between the points and the line $a\\cdot x + b$. \n",
    "Note that $a$ and $b$ are unknown. <br>\n",
    "For this we need a *loss function*. \n",
    "For regression, the most common *loss function* is \n",
    "**[Mean Squared Error (MSE)](https://en.wikipedia.org/wiki/Mean_squared_error)**: \n",
    "$MSE = \\frac{1}{n} \\sum(Y_i - \\hat{Y_i})^2$\n",
    "\n",
    "Below is a simple implementation of MSE."
   ]
  },
  {
   "cell_type": "code",
   "execution_count": 8,
   "metadata": {},
   "outputs": [],
   "source": [
    "def mse(y_hat, y): return ((y_hat - y) ** 2).mean()"
   ]
  },
  {
   "cell_type": "markdown",
   "metadata": {},
   "source": [
    "Suppose we believe $a = 10$ and $b = 5$.\n",
    "Then we can compute `y_hat` which is our *prediction* and then compute our error."
   ]
  },
  {
   "cell_type": "code",
   "execution_count": 9,
   "metadata": {},
   "outputs": [
    {
     "data": {
      "text/plain": [
       "4.361153285377058"
      ]
     },
     "execution_count": 9,
     "metadata": {},
     "output_type": "execute_result"
    }
   ],
   "source": [
    "y_hat = lin(10,5,x)\n",
    "mse(y_hat, y)"
   ]
  },
  {
   "cell_type": "code",
   "execution_count": 10,
   "metadata": {},
   "outputs": [],
   "source": [
    "def mse_loss(a, b, x, y): return mse(lin(a,b,x), y)   # our loss function"
   ]
  },
  {
   "cell_type": "code",
   "execution_count": 11,
   "metadata": {},
   "outputs": [
    {
     "data": {
      "text/plain": [
       "4.361153285377058"
      ]
     },
     "execution_count": 11,
     "metadata": {},
     "output_type": "execute_result"
    }
   ],
   "source": [
    "mse_loss(10, 5, x, y)"
   ]
  },
  {
   "cell_type": "markdown",
   "metadata": {},
   "source": [
    "So far we have specified the *model* (linear regression) and the *evaluation criteria* (or *loss function*). Now we need to handle *optimization*; that is, how do we find the best values for $a$ and $b$? How do we find the best *fitting* linear regression."
   ]
  },
  {
   "cell_type": "markdown",
   "metadata": {},
   "source": [
    "# Gradient Descent"
   ]
  },
  {
   "cell_type": "markdown",
   "metadata": {},
   "source": [
    "For a fixed dataset $x$ and $y$ `mse_loss(a,b)` is a function of $a$ and $b$. We would like to find the values of $a$ and $b$ that minimize that function.\n",
    "\n",
    "**Gradient descent** is an algorithm that minimizes functions. Given a function defined by a set of parameters, gradient descent starts with an initial set of parameter values and iteratively moves toward a set of parameter values that minimize the function. This iterative minimization is achieved by taking steps in the negative direction of the function gradient.\n",
    "\n",
    "Here is gradient descent implemented in [PyTorch](http://pytorch.org/)."
   ]
  },
  {
   "cell_type": "code",
   "execution_count": 12,
   "metadata": {},
   "outputs": [
    {
     "data": {
      "text/plain": [
       "((10000,), (10000,), numpy.ndarray, numpy.ndarray)"
      ]
     },
     "execution_count": 12,
     "metadata": {},
     "output_type": "execute_result"
    }
   ],
   "source": [
    "# generate some more data, 10K points\n",
    "x, y = gen_fake_data(10000, 3., 8.)\n",
    "x.shape, y.shape, type(x), type(y)"
   ]
  },
  {
   "cell_type": "code",
   "execution_count": 13,
   "metadata": {},
   "outputs": [
    {
     "data": {
      "text/plain": [
       "tensor([  9.5934,   9.1636,   9.7089,  ...,  10.7772,   7.6122,\n",
       "         10.2773], dtype=torch.float64, device='cuda:0')"
      ]
     },
     "execution_count": 13,
     "metadata": {},
     "output_type": "execute_result"
    }
   ],
   "source": [
    "x = torch.from_numpy(x) ; x.requires_grad_(True).cuda()\n",
    "y = torch.from_numpy(y) ; y.requires_grad_(True).cuda()\n",
    "#type(x), type(y)"
   ]
  },
  {
   "cell_type": "markdown",
   "metadata": {},
   "source": [
    "# Create random weights a and b, and wrap them in Variables."
   ]
  },
  {
   "cell_type": "code",
   "execution_count": 14,
   "metadata": {},
   "outputs": [
    {
     "data": {
      "text/plain": [
       "(2.5464440530878814, 0.40124852639149533)"
      ]
     },
     "execution_count": 14,
     "metadata": {},
     "output_type": "execute_result"
    }
   ],
   "source": [
    "a = torch.from_numpy(np.random.randn(1))\n",
    "a.requires_grad_(True).cuda()\n",
    "b = torch.from_numpy(np.random.randn(1))\n",
    "b.requires_grad_(True).cuda()\n",
    "a.item(),b.item()"
   ]
  },
  {
   "cell_type": "markdown",
   "metadata": {},
   "source": [
    "Now set the learning rate, and lets do the (10000 epoch) Full Gradient Descent.\n",
    "(not SGD as each epoch will look at all of the data):\n",
    "- calculate the loss (a and b are set to random initially)\n",
    "- (every 1000 epochs), print out the loss\n",
    "- loss.backward() will calculate gradients for all variables with requires_grad=True and fill in .grad property\n",
    "update a to whatever it was minus LR * grad ( .data accesses a tensor inside of a variable)\n",
    "- when there are multiple loss functions or many output layers contributing to the gradient, PyTorch will add them together. So you need to tell when to set gradients back to zero (zero_() in the _ means that the variable is changed in-place).\n",
    "- The last 4 lines of code is what is wrapped in optim.SGD.step function"
   ]
  },
  {
   "cell_type": "code",
   "execution_count": 15,
   "metadata": {},
   "outputs": [
    {
     "name": "stdout",
     "output_type": "stream",
     "text": [
      "61.37020940149267\n",
      "0.9765115985649696\n",
      "0.49294187795220584\n",
      "0.3993859426316447\n",
      "0.32888479712197377\n",
      "0.2744899770944705\n",
      "0.23251404853269272\n",
      "0.20012160431932643\n",
      "0.17512464796349322\n",
      "0.15583472272671944\n"
     ]
    }
   ],
   "source": [
    "learning_rate = 1e-3\n",
    "for t in range(10000):   \n",
    "    # Forward pass: compute predicted y using operations on Variables\n",
    "    loss = mse_loss(a,b,x,y)   # loss is also a Tensor, so we can later invoke .backward\n",
    "    if t % 1000 == 0: print(loss.item()) #  from time to time\n",
    "    \n",
    "    # Computes the gradient of loss with respect to all Variables with requires_grad=True.\n",
    "    # After this call a.grad and b.grad will be Variables holding the gradient\n",
    "    # of the loss with respect to a and b respectively\n",
    "    loss.backward()\n",
    "    \n",
    "    # Update a and b using gradient descent; a.data and b.data are Tensors inside the variable,\n",
    "    # a.grad and b.grad are Variables and a.grad.data and b.grad.data are Tensors\n",
    "    a.data -= learning_rate * a.grad.data\n",
    "    b.data -= learning_rate * b.grad.data\n",
    "    \n",
    "    # Extra step in pytorch: Zero the gradients.   \n",
    "    #The _ at the end every function to a tensor in pytorch does it in place.\n",
    "    a.grad.data.zero_()\n",
    "    b.grad.data.zero_()    "
   ]
  },
  {
   "cell_type": "markdown",
   "metadata": {},
   "source": [
    "Nearly all of deep learning is powered by one very important algorithm: **stochastic gradient descent (SGD)**. SGD can be seeing as an approximation of **gradient descent** (GD). In GD you have to run through *all* the samples in your training set to do a single itaration. In SGD you use *only one* or *a subset*  of training samples to do the update for a parameter in a particular iteration. The subset use in every iteration is called a **batch** or **minibatch**."
   ]
  },
  {
   "cell_type": "markdown",
   "metadata": {},
   "source": [
    "# Gradient Descent - Classification"
   ]
  },
  {
   "cell_type": "markdown",
   "metadata": {},
   "source": [
    "For a fixed dataset $x$ and $y$ `mse_loss(a,b)` is a function of $a$ and $b$. We would like to find the values of $a$ and $b$ that minimize that function.\n",
    "\n",
    "**Gradient descent** is an algorithm that minimizes functions. Given a function defined by a set of parameters, gradient descent starts with an initial set of parameter values and iteratively moves toward a set of parameter values that minimize the function. This iterative minimization is achieved by taking steps in the negative direction of the function gradient.\n",
    "\n",
    "Here is gradient descent implemented in [PyTorch](http://pytorch.org/)."
   ]
  },
  {
   "cell_type": "code",
   "execution_count": 16,
   "metadata": {},
   "outputs": [],
   "source": [
    "def gen_fake_data2(n, a, b):\n",
    "    x = s = np.random.uniform(0,1,n) \n",
    "    y = lin(a,b,x) + 0.1 * np.random.normal(0,3,n)\n",
    "    return x, np.where(y>10, 1, 0).astype(np.float32)"
   ]
  },
  {
   "cell_type": "code",
   "execution_count": 17,
   "metadata": {},
   "outputs": [
    {
     "data": {
      "text/plain": [
       "(tensor([ 0.0684,  0.9972,  0.0918,  ...,  0.3433,  0.7436,  0.2330], dtype=torch.float64),\n",
       " tensor([ 0.,  1.,  0.,  ...,  0.,  1.,  0.]))"
      ]
     },
     "execution_count": 17,
     "metadata": {},
     "output_type": "execute_result"
    }
   ],
   "source": [
    "x,y = gen_fake_data2(10000, 3., 8.)\n",
    "\n",
    "x = torch.from_numpy(x) ; x.requires_grad_(True).cuda()\n",
    "y = torch.from_numpy(y) ; y.requires_grad_(True).cuda()\n",
    "#type(x), type(y)\n",
    "x, y"
   ]
  },
  {
   "cell_type": "code",
   "execution_count": 18,
   "metadata": {},
   "outputs": [],
   "source": [
    "def nll(y_hat, y):\n",
    "    y_hat = torch.clamp(y_hat, 1e-5, 1-1e-5).float()   # float() added as else became double and created havoc.\n",
    "    return ( y*y_hat.log() + (1-y)*(1-y_hat).log()).mean()"
   ]
  },
  {
   "cell_type": "code",
   "execution_count": 19,
   "metadata": {},
   "outputs": [
    {
     "data": {
      "text/plain": [
       "(-0.1978940960225346, 0.8742273544173524)"
      ]
     },
     "execution_count": 19,
     "metadata": {},
     "output_type": "execute_result"
    }
   ],
   "source": [
    "a = torch.from_numpy(np.random.randn(1)); a.requires_grad_(True).cuda()\n",
    "b = torch.from_numpy(np.random.randn(1)); b.requires_grad_(True).cuda()\n",
    "a.item(), b.item()"
   ]
  },
  {
   "cell_type": "code",
   "execution_count": 20,
   "metadata": {},
   "outputs": [],
   "source": [
    "from fastai.core import to_np"
   ]
  },
  {
   "cell_type": "code",
   "execution_count": 21,
   "metadata": {},
   "outputs": [
    {
     "name": "stdout",
     "output_type": "stream",
     "text": [
      "-0.9227628707885742 0.3261\n",
      "-5.070976734161377 0.3261\n",
      "-7.7482452392578125 0.3261\n"
     ]
    }
   ],
   "source": [
    "learning_rate = 1e-2\n",
    "for t in range(3000):\n",
    "    p = (-lin(a,b,x)).exp()\n",
    "    y_hat = 1/(1+p)\n",
    "    loss = nll(y_hat,y)\n",
    "    if t % 1000 == 0:\n",
    "        print(loss.item(), np.mean(to_np(y)==(to_np(y_hat)>0.5)))\n",
    "    \n",
    "    loss.backward()\n",
    "    a.data -= learning_rate * a.grad.data\n",
    "    b.data -= learning_rate * b.grad.data\n",
    "    a.grad.data.zero_()\n",
    "    b.grad.data.zero_()    "
   ]
  },
  {
   "cell_type": "markdown",
   "metadata": {},
   "source": [
    "Nearly all DL is powered by **Stochastic Gradient Descent (SGD)**, an approximation of **Gradient Descent** (GD).<br>\n",
    "- In GD we run through *all* the samples in the training set to do a single itaration. \n",
    "- In SGD we use *only one* or *a subset*  of training samples to do the update for a parameter in a particular iteration. The subset used in every iteration is called a **batch** or **minibatch**."
   ]
  },
  {
   "cell_type": "markdown",
   "metadata": {},
   "source": [
    "# Gradient descent with numpy\n",
    "Now lets do it without Pytorch, so we do need to do the calculus..."
   ]
  },
  {
   "cell_type": "code",
   "execution_count": 22,
   "metadata": {},
   "outputs": [],
   "source": [
    "from matplotlib import rcParams, animation, rc\n",
    "from ipywidgets import interact, interactive, fixed\n",
    "from ipywidgets.widgets import *\n",
    "rc('animation', html='html5')\n",
    "rcParams['figure.figsize'] = 3, 3"
   ]
  },
  {
   "cell_type": "code",
   "execution_count": 23,
   "metadata": {},
   "outputs": [],
   "source": [
    "x, y = gen_fake_data(50, 3., 8.)"
   ]
  },
  {
   "cell_type": "code",
   "execution_count": 24,
   "metadata": {},
   "outputs": [
    {
     "data": {
      "text/plain": [
       "77.26366107715927"
      ]
     },
     "execution_count": 24,
     "metadata": {},
     "output_type": "execute_result"
    }
   ],
   "source": [
    "a_guess,b_guess = -1., 1.\n",
    "mse_loss(a_guess, b_guess, x, y)"
   ]
  },
  {
   "cell_type": "markdown",
   "metadata": {},
   "source": [
    "Create an update without pytorch.\n",
    "The prediction is linear `lin()`\n",
    "and now we need to compute the derivatives, dydb and dyda"
   ]
  },
  {
   "cell_type": "code",
   "execution_count": 25,
   "metadata": {},
   "outputs": [],
   "source": [
    "lr=0.01\n",
    "def upd():\n",
    "    global a_guess, b_guess\n",
    "    y_pred = lin(a_guess, b_guess, x)\n",
    "    dydb = 2 * (y_pred - y)\n",
    "    dyda = x*dydb\n",
    "    a_guess -= lr*dyda.mean()\n",
    "    b_guess -= lr*dydb.mean()"
   ]
  },
  {
   "cell_type": "markdown",
   "metadata": {},
   "source": [
    "Lets create an animation that shows how it works..."
   ]
  },
  {
   "cell_type": "code",
   "execution_count": 26,
   "metadata": {},
   "outputs": [
    {
     "data": {
      "text/html": [
       "<video width=\"500\" height=\"400\" controls autoplay loop>\n",
       "  <source type=\"video/mp4\" src=\"data:video/mp4;base64,AAAAHGZ0eXBNNFYgAAACAGlzb21pc28yYXZjMQAAAAhmcmVlAAA/A21kYXQAAAKtBgX//6ncRem9\n",
       "5tlIt5Ys2CDZI+7veDI2NCAtIGNvcmUgMTM4IHIyOCAwNjM1YmRmIC0gSC4yNjQvTVBFRy00IEFW\n",
       "QyBjb2RlYyAtIENvcHlsZWZ0IDIwMDMtMjAxMyAtIGh0dHA6Ly93d3cudmlkZW9sYW4ub3JnL3gy\n",
       "NjQuaHRtbCAtIG9wdGlvbnM6IGNhYmFjPTEgcmVmPTMgZGVibG9jaz0xOjA6MCBhbmFseXNlPTB4\n",
       "MzoweDExMyBtZT1oZXggc3VibWU9NyBwc3k9MSBwc3lfcmQ9MS4wMDowLjAwIG1peGVkX3JlZj0x\n",
       "IG1lX3JhbmdlPTE2IGNocm9tYV9tZT0xIHRyZWxsaXM9MSA4eDhkY3Q9MSBjcW09MCBkZWFkem9u\n",
       "ZT0yMSwxMSBmYXN0X3Bza2lwPTEgY2hyb21hX3FwX29mZnNldD0tMiB0aHJlYWRzPTE4IGxvb2th\n",
       "aGVhZF90aHJlYWRzPTMgc2xpY2VkX3RocmVhZHM9MCBucj0wIGRlY2ltYXRlPTEgaW50ZXJsYWNl\n",
       "ZD0wIGJsdXJheV9jb21wYXQ9MCBjb25zdHJhaW5lZF9pbnRyYT0wIGJmcmFtZXM9MyBiX3B5cmFt\n",
       "aWQ9MiBiX2FkYXB0PTEgYl9iaWFzPTAgZGlyZWN0PTEgd2VpZ2h0Yj0xIG9wZW5fZ29wPTAgd2Vp\n",
       "Z2h0cD0yIGtleWludD0yNTAga2V5aW50X21pbj0xMCBzY2VuZWN1dD00MCBpbnRyYV9yZWZyZXNo\n",
       "PTAgcmNfbG9va2FoZWFkPTQwIHJjPWNyZiBtYnRyZWU9MSBjcmY9MjMuMCBxY29tcD0wLjYwIHFw\n",
       "bWluPTAgcXBtYXg9NjkgcXBzdGVwPTQgaXBfcmF0aW89MS40MCBhcT0xOjEuMDAAgAAAGENliIQA\n",
       "EP/+94G/MstfIrrJcfnnfSyszzzkPHJdia640AAAAwAAAwJ0xbLud10Nph2AAAKsL/8Fkri2TTX2\n",
       "U5P9xXwqj2ijrPx6RdrNeFUIzOPs8H9pn++JqAWt2gjdrI4p0qkAsgvpvhEf/BIPRO5Zy/KCkyvc\n",
       "B+lO9UhnhVxcbXfvf4AlvoTnBH5gTIyJeitl8EulMRPOFnSBEexGckBk3GRm6rC3EGeY57wPLe6t\n",
       "YSc9l9EAUC+kthi/jFwWCPw1nSBIwmTQCLK010yIxfW1KTVaK9T1SFnFDBkBIY4IN+TykrNNgdRM\n",
       "QIxk0qr/TQqu1w4xj5kJG7L73GmaCaP8zIlA4BtNODCYuvR8/rOj3ad3UV0+ZhG5/z6q7jrHlnf3\n",
       "9ylgkO0z1OARWYmRdLrKgqkURefwq97znv7yY95UByGTwRroe7U7Az9jTFMvbvmjp2bGIoYnP7l/\n",
       "TlqrOfVRBr6aA/h22kiGgdwEPzYQSmUQJIXIbmNnbnWE/f9XaHyZhbBiA9rO+QITWnqWQW+AC8zs\n",
       "a/g3f6uDgw5q5+x7X0dFDnw6RS4LvSUZdcgYcIXsZvAP9KnxIDcU2A7GlGwAlDHl1GsWRos7ZDYz\n",
       "0/SOa3XcRWa3YjSNFApwhXTkNI1xFamNfnj2YJgBfx3h3/Gxev9Moz5qDx5nrOWvGQHIE9360Q9q\n",
       "PlR2IvJXW/R8uVaA0IbuBk4G9D//WI64PzUE8EtwJB9Enu3NBeGkrsrtBO2KqWac1WSVXLF7vi4T\n",
       "PfoE2Bs8ABN+XNsUQg83G1zCKwZbLktHwvzotB4J6gtB/z6pvH3Q3KcMJnO0bWB8Qxee595GCpza\n",
       "E3SMx1BdThd7DQNvthq2bey/xXIpiovetaE8O1XX7Ta101F1yk7IFYNI8cXDIo60Py0to3QOrvGV\n",
       "qyvhX1s5R6GVKfBSHukTLshez1XVqAsVAB4brTabj0iR4QCyFhoGbLWzmtbaCqTh2myRSp3660FK\n",
       "tYMjE1oo7DIoi7AquQmmcLyb3rB/UQTFiqe0zO/i4HAfvvgPdqnJM0IenUGFFYujcJ4RjqDaDGfb\n",
       "VEF+4eMN9Mukyrimb7wVoNCfET0WBcjYbjFCY+5n7w+8nXm3fDxgQmTk4V28ROrlhU+w42eDZp/5\n",
       "pQj8axJuiVO3lSFoAVayT66wkbvvfNpEHuy/TfoIdAs/4ZHyyJNKsluRz16Q0VRGi3DaiqxKdvvK\n",
       "fVZQO6LsqlMSOIcC4GSHtAtsvqRJ/dEqYtYC/Q3AOIBZijjAqR9hGbKDe6XlDXCs1ZkmW55f8pGv\n",
       "m0COZgjWMXVnw5o2NynZXTe5vivVw3mzW7ozEUglNeTXVC2O6cKw+cBhfyLQRarWJOwRbxk4Panf\n",
       "20q0AVB6KYcO7QVnuqaLWIk1pU9JF6IR6NGb006t3o7lLxihpxc5eZR9JODbLjrpfjWXJYx4bdpp\n",
       "hNhe/G6ZONYhIb+BatpzwDHAnHA0cY2lP2EZn9//Bt7N9c7vk/woaLMG8BC5qXGvNw0rEnjxcOv5\n",
       "7LdYa2jjWbLOaj3YS6PlCsbrDYeyQqmGzlVlEsHuER2d21F7bSfSG0vea1EEPan/2cn0qszPaXfq\n",
       "cstg48ge+F11c6zKmWufvnpVyLMtupuwZmwqqGVTkCgjNEeg5QoDiDR9yLCdGfpwKfS/AIhO2P2V\n",
       "ekWXeZgkwD7jM/vZK8C3UiTBN6GprrFC1wKwSeNsXMY99mA5OCTjnSHEH99jko82eeiwlsnP2sVE\n",
       "3ATVdi3f5vzm8mhXl4ATGJbo1vPsgEAtTsdzfBkx3/AJYYRpFomSdXVARtmYjM8cFea36t975rgk\n",
       "mbaGxh2UP+HoNdxYP33FyOyh67fE+almhP+1r4/rLgESSI4wjj7e/0jr+I6KXyva8rbsXZNif79P\n",
       "UmVR7DdXAICoqwpa84iLBF+nr1RVSTfHss5UCQQmJqDOQGjW2S8wLGzWTyfe92+jX3y7ol3wdK/q\n",
       "p845EGSxZc6ZY/O0hD/9gRHveMqY8k3W/OwQAKauPT4un8sgjbcnHbC4Kv5qTDs/friZzuw0kjtx\n",
       "VB1DcagwAB+K0ILG6/9mF0VdJdH1TgK9L1IXFqDlXPdS/UkZf747jUvPt1H6dOrXpgN0w+KL0Wu7\n",
       "R/VVE2x8dIiEoLspGTfWiI9rAHJAwxyjRwYNq2YXSv7bWt48Sd1Vunw7/NndjgRWKai6439cMbGS\n",
       "BjSJwFtsGVCbdGGQ/K5ClbAUyPWuwNIG9Qq0kvCg+/L8JPXQ5Mlx0NBfN4NLGUxJRq1eGnnbl3tg\n",
       "qQ5W/06FLluyI80uMHF+OkrzCyuLpguytTTgy50t8J2U4lvRS8v+WJflLZ0E2Mhxct7ccN5k4TkX\n",
       "VlByyWr/pfH3T1JAw0bPcTjM1Pe0kQV9RFmxmo3UOJA+MZKgXMD1zE6h2K/1WsvaQR7JMJ+pFdKX\n",
       "5afI5grVENJpIkWanZ54f+DQJc/b/cM/P3D1inFjWBiruT/63zk8xl8oWRuBDRRwOl/RGIl591AO\n",
       "K37F0A++8831XLVMbLn/ypv5HY+B7c0RvEgm7T/tBek7XPcSfSuTTm2GVmcn21BuJKuGCPmOFDJX\n",
       "e5Cad372qH8aM2bGAsvHwuiIjy9mOMBOxCBhUzVOvE5LpETGm9NGie6iF+g6yAbxd83w8Ium+0yG\n",
       "jUb+0Fa8/cXhUdpJJ5uxarR2808BXx0xYlnGEauEqeIy95W0p6HQYeg6SQJUmuiOUpE48COvSKe5\n",
       "s9unZL3wPx4CzgnJChx7vEBUITL0qacjDBxEsAyEQ/c8mvH8seH4GpaOpm6m831MHwIiREkpBxLa\n",
       "3dYyvZ8NrPgUH/R8QXCQa1xtPfZby7YdOgNBc2wuZyvZkmc/m5m8iH5Sm6Pye5GN6omL7U1+YZfn\n",
       "XWAtfDXvNbKTZcsDM9d3eFV5QvrHYu0i5qJwcyqxEJQp9J00K50nL0JdoC749A7Df9zP+Ka1zj0l\n",
       "wtUwvX/ulkCpK2tp7RJ3/UlVlixc8sNM5VLh8Ij+rT1chBYb0fvjSDXnILiROyk7b6nQPtKzzmsw\n",
       "6AETpZoiBcXcibHcZD5zDHUEwQUj57EHPb6xce2qCdLTvftBZU1u79UKsRpThatoJuieEuu41TOH\n",
       "BeVRK30NOIOUZPd+7bALBfeR2XEewlR0z8jGVHFuRhZ5+3VQLJdqjr127n08whs5Si3vGGSxShsz\n",
       "Gyu64Fnzp4kTtghBerMPuz/xto4R5aMcDvFQF8n5G7n3N/Gnx1yllYyWFcoygC7mTvvURV6eUdr+\n",
       "4Kx3ggZeyO/vkBByYoNoGnR18jX90UfPqdE+vBcgYhjpQGGxFIRQ9AZyMwznPrMZ3ZAQHfZS9pcD\n",
       "vs4L7GTWbTjtsBWtjWKb6kcm1gy0ucGvHHxQk8MzwMpj8ZQN/E/IZi4G1UVJjaNpw27wdGEqZXPf\n",
       "yryC2RiBRyK0TR+oyewhEnFpNPwZ3trY4e4F8zVK8EqRQgqcvDn32VQGPo9pcaxFIx7+tGwhH94o\n",
       "pL3ry9YhRez6guUPVeqFHUN0jfvfxZUTVfnEUaimUKxKc8/bwlEGGLEzsn9Vj1q8I1t0aQrbFhZp\n",
       "oa3vkeE3lwaUPUU1jvjVOlzqT1Mxw7d7grAe4JIKvYbeVfdPuLa5GhaZnPwIWxDj37FKSh3oLIUZ\n",
       "6nUpjM9Xl/Ec9cLVRMCdwDVSiVSUv7ZpOIKtPgi8FL9vOVY+KsvyH5helwByXoHuvxQ+zkPahoVN\n",
       "QroJR6p3pKMujsj6ZhEulHFaNlUo/SYaoMB/3SiQv7ai/Dhtvzas01ekbFdSAZj+cxSJzmgxa4Oo\n",
       "QUY7czXlWCraNSa9XT/RLkYxT7n9oHMrrsSbT+bnVgbEPBNJ/6K3ZfPNGFQcvpqTZWizQXJb2fxL\n",
       "rTufj4cJ1Xe9Zwc6LoJFxp+F175Ggi6glJcmxk45EDC7l7yaXfHIIETmA/ytJ/dJDKPx7dT93mnH\n",
       "BpuFp5AJK1r/F5/ukTK7cA2BQ+kemrnInh3IDk4+w0u7HdxZqD4kEfQCcRSJcWaDa6Fmg3ZxhD6Z\n",
       "A7R/6yiAxXs6tndbnrkXPZP9uhpBfpigay0wCoKjXxNlz/KMXzvj7u8/LryYx/w4+bN1D+JoEWZk\n",
       "MvSfmVJoX8XDJLZseGJFRHyqtJdjqk3c3t/ucMswwGfI8qV+cY60PketUXRBdc+OEue/566DGpaj\n",
       "Xqt7WLUeeBsv3RGnYVtgVh9qwlg7UdRiUm+QEgPEu6yw7bfliODA+ps9iQbIYIxI4hCN/6KKTb5X\n",
       "mACYd6q8kkCtWc2Twxe0neH5FAF/n8r+n+o/zf/nJ4ZcJarKJYocN1wq/KJK1MkmK7Yr5Mrs5+oM\n",
       "o2qxhNq5qvdM/1U/+5v1OWc0VRQXLf5MXw6LS1MDYiMldrwy+SO0/rRJuZ4PsAl9kVYG17/gMYgN\n",
       "YnFDjbDid3M5f9i8BRCtEMLj7X7Dbf4hM2txbVeh3ZYQUOphaDLo41RdOkR3a0cBdV+OTGfrXayO\n",
       "QNF+rKFKmqvePSD0WyLTG+q5ltuzPG15eW5+Ln+7iNtYUMTGfKK6VkaEj4F2AR2PRoZoqM+yxrba\n",
       "/s3dRlqXvg7ie9WRgUXrkUZqw3/REMfnoH+UTED9k5vJxxMfuQyNR/RrSqNkry+nG7SLM5TSn3iB\n",
       "c1MIQQzhBTzFau+un/dOWRp9fyx7rtF9roSREWTNhVzhJ8XBz2La5jDrJJUiz7/GJKaRumqP+Id2\n",
       "IG89rf9cBg28YkfbfOqINmuuVfSPYtw+GOVW07cpraVQnI9EAAFYlsU/uv2ydVuK4tjFsVolMkle\n",
       "P6W/mbT1p1Qez8c+ZAOskuNQD2jDPMCQjIX9iP/s2oex5gDKQpgSvzm6tEBZfSEMpZWJQPhlLwGU\n",
       "u3KtwJFZQS0unFKCODuzwXVmJyZ/EOdSynIGAP5L0u4JFrTn9BP9XYgOjcs54HoA2uOk8JeUuMXY\n",
       "ZvUlDzVrM0BByio4fz1/OIIxXM3awQAHqE8Nr/6iKqtgPwAk6+6vpF4VcL1eP/lTN1kC/kSHIAYx\n",
       "vBw52k8mnrk01978nPgwbsBOr/51iTycI7y3/W+u5TZ2Gb6NLXDHrNnUZiJnxjbwwuqnK8kzqOoA\n",
       "Np8iMmy81Oc8HJ8ym9nET2xxcJ/TRuHg5zuwWzWqPNNWi2P1tO+DzxBmYOU+JpHczevoYM5s9QQ9\n",
       "aZwQvfkAA4Gjy3L06/7PqrK6UJTMj2zDr8FA/Kmsl8onVSBPnbueqyCaMIPw0zQRVTpjAAYCgQwF\n",
       "m9w6yW844kWzDPEOjKxUzTNb4Pcu4IpCM+O/REI6Oa0LoYxFC8U7qrJbBXy4mNIURokxn+TAZy1i\n",
       "r7Lg3SEO/O6L3kbaUS3XbFkm/GmuQ5rh1ZU1A3gY48L6O82qMWgQx43uhhqjAFkBAHG95MJVjB/s\n",
       "/Llr/LOx6nQ8EyzsbR7/ORsDmJNF9gFk7wW9qgfc3jF1XS8pqBKxiWmtuftXDgP6XcaIWRLPQn3F\n",
       "H29AS6SXZWlZ9qvIoOJa0ac8tuEgX+2Fx6syVn5dxY2loO/rLic1m4o3b9dHnO0veqLV/6D6zeTt\n",
       "3B/ST6qSu9I0JRq7mtKBF6OwQBCEDd3XefILbdTUbW1mBqCaY3Af0EFG0ZeCmvM44NPnG3KmTWTF\n",
       "tQgC+bsF7i7O//poAOGKOY1dmDf/bGxv9GNhXt1KILcc+Z7WamDwSI6y0KonUNiORTDHWeacqH+S\n",
       "vISO2JZ6q/yyBg990mzQIcl2K7aHVCKGkUh+x9kP4wAdAZw0I/Vcb+AaIPh6Mbu0ciXv3+puR/5o\n",
       "/gD/zRL1rh5USnE4hGVEbP+Wef8fxkiLpgh1iUZvdBxl9ct6I9sjrSIGxRkUiVwp1E3kDNQU8U1h\n",
       "rw+YNoQTx6o1mJ3vaGRMovwkQSajskI4W1Fi0Woj0BJ1H6wEyogR6js7w5Au9QddXin5/5prUOqD\n",
       "vjoZz31sJGz0q9VUGKymLoSw3UG/35r2HDz2hDZYiIsXx2gPDaWWMqG6I81FFIf5mHO4sbv0puqR\n",
       "tNdggi+Y4B8nblWsyNxx9rpWufT1b5WtkS1RdqdgFjYw2aok7BFiyCqzKZZDM7ehl1pFDuYkNpLp\n",
       "E349NOvf7HsZweLzpBR/i58n7ke5/+Clfp90xztAmvwmR+a/5ORhuQIBeiiW45t2qA4hAI6zcQ0T\n",
       "sfWToFMHqJVMWWL1N+8IxmQ4M5ILnrer8TuyRl8m8Q2gyyy/AAykWGBHerUoZ6dg0OMjXHVfN45q\n",
       "WwHVDGXhg/ibBpYfad9YYk5zBCTSeqNZryeHQCwBMU/dbsZB7/77pkvhCx8Bdwkkl2wACz7YAADG\n",
       "FUqbofYZfQa/7ApvSDR8ajKjKFLaeXu6ZcYvoT+2UnbRbMMkgvk2hy6ClmLNzl6psPBuZp5RYF8T\n",
       "N+iaVkM4bvFTSH/UHvskCZQOnH4PlXgMXF8hYsgFopyvutcXLNsR6x5oF8SaLPWIinBrniJNjh04\n",
       "CyXBOgm0BFqXu7KTUyqKuMVtfMPIOJchm/Ol/4QJbym+NieJQSJWwdgkZCVnANEtoCZxg5xjyoxE\n",
       "v3UWY1Hn0l8ONfufQEBZUGvpxtBbrmsepUksk6tleXR71JbKFNO3PaBOyDZiI4VViTY+H5+Mou3C\n",
       "1cj9KfRp8Jmf3xldJ+0qn9hxWPhp7YdNRpyD66XXFUU6j0vwUwOhBy+8FN2sKe0oetlR6G1r7N7C\n",
       "sRR/t99XtqA1dCHVIvPMKgVQZk1VpSYe/CtDetdC/V2UtpB3C8/NlVvSh0X8+f+uQ+L9NF+MsFPX\n",
       "8/7fntvRnxLLo81iBxOml+/lMDpwcSZX0rjPInAKoL9i2mO85ZJSN1fH8PE1GCve7ZymhWbUYTyi\n",
       "MkupN5PhlEWTgLQ2zcLlYLyIUvPR6/UP8ovA+GNetUxW4aJhrri/HIcFFZrf4wJx6d2LJYszhTOY\n",
       "aYNlaJtKxPOyr4ORRxLvMR/J74z2QalCrmW7C6yHrDv1TxeU37e5ReJq+lr0luWF8y4//S4gRJEH\n",
       "7N7/1jlmhs/BjXCzS5neDnSo8KpL+q+/5hHR7b71OznGjDV4ZnWT5+qYvXIsjb5ti8OtHpeIOF5r\n",
       "g7LBlcsvEKfum8Ymo39K/kvgP8o2PKCpJcUETTgXxT1HMySQp0f0E2zT8oLJU+OIYP5B2HGfXMS3\n",
       "GgAerz8tF1VgMoDverQGmcTxKeBaDwxVV6r4vxv9uLR8FpQ1BYaQBXMxVf9vxE1jWVWhqDaLixm0\n",
       "1R89M2ZbEe+va4uwsls1adNHTFuUmivn6g3wM57VvqNIHHynyEh4yJ30ycvSNwGZ6sr0Qqu7K+VM\n",
       "J1/AZyTHTtuBxc/UYGqUXKKoyeVTkMM8J+sI+LAB/9DEX4C31n9dRLSxLKLGzvHckW45Wlp5BImj\n",
       "c9G7qolXYWk+5xNyzv+wrWrwkH8FzFoeMT/ScL/TgyNKXnh0S3m3TZGGpVgsItOAbrN2f4eQO7T2\n",
       "44JKJL9YIAay6C2Srdlag/3jmDgCdJ8P2DGfVnDgo3JOaPFM65ZvzkqBWL1g9R4H1vHKu3cQutpH\n",
       "x032w0LwtWRF4+AH74rUSs1u/UwPxc91MHU0cjtePRJvn/7aK2zpY/NkPeHBos4O6zq1SH96OnUP\n",
       "ARhIW/ZQoCBd+R1IuRdInhJYWXpPe8eUeXM8QSY84YA2Gb+rZ1A/f6meAWVlcBYiSO4Fasbw0+1l\n",
       "FOb8ZQJNYVLTsDn1YfTk7AY/AKMPGeugarbLrOBpf2ZaudHl1PcC2jAcMEmtQkKlBasAFONUuSbB\n",
       "wdrrMJHjigQhG+0vRu4o5dZ8tK6B86mBzLERMMcd5Fmut1u6s7hTC7oZZh2WJpk/4qi1JSntsHbD\n",
       "RmQLsAYHxXwsSiOHW6miNFGd8b2JLOTLDK8fHlSz0fmP4kJdnTJRu2Tj3IlI5/n0kQRUXemH2pb4\n",
       "4v4x+LstMb3GvPoLeUMWbZpDn+LReu5P8lv6S146em8RCwrhDVihVkE2HGTlUbMOf+vFn6qlmaLb\n",
       "CI+oPs3ZoXwdElzgW7DCfnyG0mTPTTUbcvlOCRXkkPwj722hqlUsdiUNrk7LZRIdxU90RIuCro41\n",
       "sDaSiG36BTqlzjUX7SjfeVh+0f1beG7DqevZUe0dpjD76mUCiTAL4yxqINVReK4B/dEx6UAkaPZq\n",
       "rj7Y6hu+pyAJhI8WQY8cFaczHaXkoWoVQ3ykMl/MUMh9i4OVSD/fiNejAVqRkV+18NvqP2iSiAuo\n",
       "wB15saFwqJgzFd/YXerQKmzrCsTFWhF4w8uUWdjkrVNcRyGN7sEteHd5fC2wPgAAMMNLAAAEF0Ga\n",
       "IWxBD/6qVQAKUThMABa9kqkifFkpf/7OhRi0g6rumMsKH6PiKgENfXFBB8UU73P+jsCTjmGnPUSB\n",
       "1Sb95RAalXV7UwVcOeCsTUby2lM3FTUTLYvlU7Vbttqed4+xkpe7x9+EcmXEWq/Teusqz0dBwiZl\n",
       "OvqUv47CV1nlkqk9i0T1m5iD8IYF1Yyovh844IQaMwE0LvZPoVa3w9kSYfdfXJJ+QOlNsB3QEcdS\n",
       "TKl3rw5ndkr3f2GnadueSu++6OY2/lYPnupWOADyptoTsDlX+3f/7u16V42NwiGz8gTK6Tb2TX9w\n",
       "VeQiBBmtNSL0ym2JIAxD0NwE3gBrWkTPLWqnfvj8JYFiIBTA0sEu19SYw0buSSyZvwJF7i9Kb+SU\n",
       "o6sJfhBJklPHkxNYEQmgVdN4fF6qThFBn4RtkEweYkZK61HrAfEvtFM9IG5FU1RYWeP2Ejd0c8Fp\n",
       "4jskerrFTLTIvCpud8jeTVSkezDH44QSaWGyuTs9M1jm2NCgwrBrJyM8LeaebZS1SW3Zo/tBsSK9\n",
       "3tUBeyfdHLqhXFJkqawk2EOLfo6B4CJ9gqUsjrSpiBmsWOKZToOxv5rwoDa6cq3n08fZoN0n8MdZ\n",
       "01RHuN3Jdjv4M3HsYu41yiFeVUBeqwic+VBkINvZPhknMMX9kWjxL0/A5Xe9L5NekT+7CbS4KKum\n",
       "GdH5uW5whMQh84fKB20d/YsOYrT76L3fYXMlAHL8ZlR5TWkBmQ8boDgQ8R/YAhib326f/iOPUpcT\n",
       "t5rRiodEwsyv6R9Yf2+pAq2C20+3XtJW/vyfeAIxj0iaiJaWq40SaGVoldwfhHkkH7b3suNQIxhv\n",
       "H6UajFjTgRubrZkDjzlwSi/AOT+bSTOfTHU7saImbfzXrhl+qNE0MrgqvVcCHjc84l15+z0bwJiJ\n",
       "xPFvv5JDzbXln8Ndp0Og4w+uakqW6Aw5O75DUILOkZ5ZrejCmfWtUYyQw17/hTzcRBPcMRfAiB0Z\n",
       "rcGnv6jbJs65qfkCj6jPISfJxUyWVm/H/wZqcRBB27AS2MUYN7yCJPjFJz1COUCeciKXVhK1ADtO\n",
       "/z7mMy6ACko34zLf0VbyXpdaWLdwLkQz4RfbDgfh+t0j6MponAQ9o51AMykaevaSjMRDLB/B6OGV\n",
       "M92/v7Jn7TJBr7ylPaGm9bJbUmvI2PO3DDeo/7ed6tKwweqLLOWzOv72J3YJ7A/Erz5egSEexdb2\n",
       "IrhcwrO80lTOFlXveErYPiwmEEl4a2CbtZf2ML2HchXlJAs+pkINhxxMGYLHXZxGyXboM7Np+/DR\n",
       "yEQkUGtuaaI6JsBq9pmraKaq2HvHLB2DobvHgAACM4cTwAAEQzwgAL/nCzNvXxbiV4JAhr+PlUy5\n",
       "fD8k8EDNfQAmPl9SD61ezME8QAAABLFBmkI8IZMphBH//rUqgAER1KZ/856bsABfNZ7FHXT7DkMQ\n",
       "dKsIjIKnHVMk12JZ2IWaf5cw1t6bq6Kifv2vRvAr4aShoK90U7ujhjEl+cuVBtGcnaWbty4gtcnm\n",
       "nagi7JKxXYgWlJAhs0BCwc/On8Rp1muQE7oNcvV6SCBiur1qDbnO3D+MYrNsnZNoaQrE7oFniklq\n",
       "q46EL+09g7mXNgI8C5cJ2RetictlKu/aMClHGcRtYlIJFloNbHZIl6r34/bP5nRmvqN1VjQTzJ4k\n",
       "5psJ8DPIrwmynJFHfysYvyX4+qQskGiyZrdyJ0TkROVgFPTPGqVHsefIuQVgvaGa5bW6mzjv98Zk\n",
       "AG+O+5qVy6rDbcxhvx5o2TdNZ2bNtD4LkJEo9U7fgiyNr8+os6kEmsCj6fv1HKYBt/m6AcQVDgy7\n",
       "R8LWU13XNfy3aq9nQiY2VLmoqLzPnAw+OSqQL5x6Z5g0Ep9/pZKk+tikE+fEyK9ErpU46e1CVt5X\n",
       "IcaNFX53MX8EKc6vjWNc4g3R7YhpV59vQlfwxnxePMKYF/84qMhhtMsjbJsuljH2veT9laMnR9PV\n",
       "tHzMOqccZbNlvGCj+BZOizKEimjIDFjjV6URDR3/kFFjUl/SP+MgPXER4jZtMRbwWVqRvZG+utw2\n",
       "ZoFN7FVbdPpoIBA2VW7GduEh+91VI9cb0hseIMiJDFS2iG5nuuR2/l2pwDmqBI+6b4P1t5V6H8QN\n",
       "6YK8zRVHaXjMWphPNtQeAYRpGqCsTSh1Zp2nJVokq//FwJGKuXhQluGYS/Pf3z0J2+gARJ3nFswt\n",
       "I50mSAJNUOLiSRCy2FLBiIcmiNIaxKMcUOWTnmquPQPO1c1zt11OfI0nrSG7//HbsfEEi8Ets1BO\n",
       "u8cN0slNv20uynfUXQP5pZaztNyPcDuZeS76Uu1Nxh8WQJuEMQ82BSFx15PjchbW4xsUMDME/wXh\n",
       "v4eVLnuzQgg74Wr7jZjMdmBMaCiLSXsbjvgX3iv61fX0l57QGvktXZeT9S2FaiZ0tuOgKLicSQT3\n",
       "QqfsX7F+ubzOQYYtJ0rqHHi8J3NW1SMjp62MZLahUZ48LPwn2/n9bIdR4rmlcJItLJMAYmkvZ6al\n",
       "hu/eFw+XwQ2mXlAXtSUyk8dGZnJVSDHSOWUDMIVOjYrV657A5NhFNW/QD99keeKLVKgIkS4uTqjK\n",
       "gnyp3RABcq4x3/wQgGgPmKtZBNgStM9ePtiJ9h0R/qjxABSqjTpuBDSvBFfY2KNyyQxYR8seXbND\n",
       "DbV4YAuQEWXBHhlBxN8XX4gImpqQmZIcO/FPpx0gpqyeP5sJe5lh7fEF18+Oq2V3XNjVmErMdb+O\n",
       "y6Nr4h0xzdueMoh74CfxTJfhP+UD2UNjq1d7jlSPOTTZPDWYlpR/Q2y4uVCjB8eMkIekueR6BjLx\n",
       "R7YPytLOL10+FAwlTlPxXfzd4AI3yGKEKpvGSKhKcgVJp/HzS0xS0/Q5oFmrQV+m/tYPdtaeAy8B\n",
       "5P+COX2aKlx1Grf8HtWGUGZGx+xoZ7klZjAeuf/8xXJ1d8RZfCgA6QgsgRnto/0lid5ZVvAIn6uv\n",
       "jR+7d+waNdw2PoBL8RwAdXtEfOAVaV8xAAwJAAAGAEGaZknhDyZTAgh//qpVAAWTx8AARleclSnb\n",
       "jMyEy1BDsI11k1T/jWW63x7W1L0zwhE7vnkW1QwiYNNw/zuDXKkxq27AttH22VqcnWOpyVWYuSiy\n",
       "QMioLvE0hVRJ95AFZeOn/vtcleZ1enpnieYbW2Oe3M0/gmMvW9ZB/adPerjEF8hcAq5aW6BEVrwv\n",
       "8im7BS8Eaahs3u+3pgfhD+ZBK40CTSttp18E4a3fNMYszAaTofpEVjJOoYC/0hrZiNDoCadAqhcb\n",
       "1MnjcKgWKoiY3AenWdVJBjScloFEY78USHUdRi4IwiyF8mjoScnUXWIHvZIPSO0nSiX+oXW24erA\n",
       "iHi3r5gP1/1ZUn0DDWEMNtI3C9PEqo18qfz12sYp8sMqWiCokhJt1pPz/41xU/xinKS8FlA6c7Hb\n",
       "VoThn1pOXpxo/3fmUMYNnUahnN+TOxbdq7iKvbg36POaAmVR5GZW5cyQLIHfH3uYbaJxiw5HUErG\n",
       "cvqHctCDyUpqwjD7VuLgVztWITQkCYAG4YYtAKxZSoIW7jygDHN7R8aEt9tXtwlhvkJhuQr5pm9F\n",
       "A/0D7mQYqH8QlmJ2qpi/dNka+tOOJO6HH/IH3Z0AMJDU4LBwkZ3pIdzk/5p2SJ9Hq4WiJyuqlEex\n",
       "VZSpKlHfMbO4it7z8tk4/0vImW6sYZ4V+jDzSJzxbhxtNwsfkaBqSDmBWMlZVLR/J6SX/L555kvK\n",
       "iOwPU3jm/pT57qzf5Jil6P7PUJeNwmO8yvfTOh4qw0XrSqAW0L8YrqT6btDzvLARvWK76vBulKiY\n",
       "omSZfg90HxN9EBKcpC0BaL5a/hnlNsJ7TBDUL9A17yBn1W5ImkX25yP6Tg4RBdD8UQn+1fRIbq0i\n",
       "bH7z5JgQUjfEskNF7u2hq/Cm+UKLfYFnwLnt0OR1d0bhwzjjMSjTvvZuRu6tHZr3jmLTTuyZidy6\n",
       "he/YXO99OOfdNjuk5oOb+AlefnQAUZZc3kViP6BsSCA6A7Ey81oLDZu3NQadu8kFaBOgGFzbfNuW\n",
       "sXWpEZX8wjyrBVKFaOLG+bH7YpfqirbLy16nLtlSbgig1k+TAXfq0HhSe9ioqwIZihJlnaA2oPMD\n",
       "5IsyIFljHUt8CdfWHBf/MqOVJRrosaGLNBxq+xhoo+O5/yf1tSAEkUV8m+kUqZpmGx0Fmz9aOJT5\n",
       "oMksBcIBGrgdZri/VnnAnFvtI/kDQs9+SipaaOcv+v+xuXxV27O6ssqX0NTxwVbHoiI4WWJW+fYa\n",
       "Xdi2iz/CxhwSCW+nsuT1uwrW5Kn/EwgOs/BvFeU8GxN6K6MlZrFk2uq5o1IaHOxcQp6iiX0CpS2k\n",
       "qyz3ulQmWMVbxLIINKSoffOhgmsp/QOuQ2ykYfgyqq77b7/QOCtSX2VojM+9ha8DexpLRNx2Qu/R\n",
       "Q6cT2JVs15ZO1gnKqM7VTTWUy90Zp7A7c6Wn5QESmThCgMNraRhQNh9ENA3ckchDAFZRh0XI0dLG\n",
       "2F5PajCQV2YIiPhHUOMQ33KDurjr+t2OmHGN0DTzV6uq3wS84VfJpEd2dTV4vL65KVW53OfGs3CU\n",
       "gUt3fa4WF579wIrsWCxt1tmmbXKrMg3Sozdv01PEKHx4EkJ1z3nQVYNKhraaG8tvxI9JslvvGcXX\n",
       "BcgB7etTkRR/NptW0p7btWrBUXcJMEL/vQsw8Cpi1BpWCxXxQBsV9eBnz13Qtjw+GqFcyVz+uURc\n",
       "ifdDQ0ShaBASof3FLTFRnCAK9o01GGd4v9I5TG238xVUOgYavPBVQVDGA0CsYg0g84yWEJBdW9vf\n",
       "/kTIOGjvX8YRzWCmfmfIkqE3lCqQXylfplSo0S3xNj4JLZdBQSuhs2pWxwZ0ibkBeaptcXaIJWI5\n",
       "re/o8JzM71pU329n1tRG8Ua93M4SCjIZxQNzxnmLdUQuK6rp9D3rSoRqjbz/LslhOkOqsHTZ8sV3\n",
       "wrVeGdTsFu/wI3Rzd/2dcJCToANEbA+k/iB+Ebp+1gUqnf/ZLDjRGeaOpAXG/Clx+//NbkR2TrAW\n",
       "htaAhsmR61GOHLJAeAgFJp9aakz16p6sgABNwAAAAp5BnoRFETw7/wAMNsEc53m9eM2qScYlAAIe\n",
       "YbEHy3h0smLXgbnuNFrdKeAXdq6uGEe/vgA35xEHIVgwSqf7HGweMxoPrbfIa2/SpLV/3+FezVH8\n",
       "TKWzI7E1iBEKnFzAmkJQ/pToR6N9QzN14N1rJqUnCF6+Gscoy0LccKd0KpAKmaS7jFjPoJ/Mp5AS\n",
       "Oz70RC/rrnWKeVYSwqnGI6G/bk035kq8Fp8HSkeCXHFGOM4QcMy+ySyc5Ya0lgH/m+L9xkH9vI2I\n",
       "jBFgNW/M3wGoXmXBAQIobiYAvNVBi9dxS0lkPU+sqHmQQqITj/D7rj9ArjlXd980iXlaNWAwmHbJ\n",
       "Ch7Qdo425SiYOfiTH/pCCaMS/KEUJG8elkprj1gy34MO26QHpEg0759B8cTMS9Rx8O0ksY8V/P7y\n",
       "YGz6vczsiA/NROWO3QXz2VGb7iPomQHMKQQaaC/+EnPctSkyI60K6YpVP+f3nrQcvt3hN7W2uZzp\n",
       "hcMf5CKHhuPGQqAB8OSRKjgfqZfxLodWp+Hp7ZXoucsGr+pn88FpgzCh/gM4iwX0x+hlhy11Gety\n",
       "cAFCS9ldOwNJQtNu+/urINitTJLGYRpblvmcjLCecHLGPxVJeKZtLAPfbcNEX1LmwnqhP11wGdBc\n",
       "l4yCIXeDjQzkgy17xsarUPSqI9xvKcNme3MzdSEeBfzbRrXNrM53z3a5IPEjaHBhEYU+D+4RB8gM\n",
       "6tJxWwpHFOxoA8eaU842D5+qi8yM3YKizjSFq4WFdRDgbwV+C9eHCAo9ZzMbfCFnigazxOCA97yR\n",
       "CiXnlm4YJZZ4EWf03HmK3y5GKKT8vGbY/M+uQIIdgF2MlX8vNgCIW/LoEP2O4bUszyC93sO6iYlQ\n",
       "ADFoNOcVO41IzSIH32/dgAk5AAACgAGeo3RDfwAOKe9rJ6oAD+PlGnkkn+uA/Vqg1VwG3Ai1W0rC\n",
       "SCgljqO5zpnDi3J1x2qEwFw/pWdvF8FgU3k8+ERz+hjzljse7JwqIchGjKOEY9Yb3sZhKzD2pYu2\n",
       "62xqwqg0rD+QmiRzyugshfs7JNWsM50VynF2NStRrx6NXU4/h/Beba6LACEIdQeMd3BEgBEq38PB\n",
       "x7NI0Ueo8yDkC988ag7TkId9ptVE/JdLroyowjMlkNwf1meRTS3Csi9IRSh7kpwbYWUbiRyQUzWX\n",
       "slD1mQZn4DTzWtPWJzR/zY3//8YFLxZzWCrxGJ314UUx6+BpVKQHJnkmIJvJMGSJf2MTmi/emjJs\n",
       "GbEsAngcIKUP3VE7e0gpsH+n2o3lL1xBlBuUTGJm/KDIwY82Yf5ziqm6PnTRvS4R+zVOvn/W1E+T\n",
       "mYXQlzRc8CO28D5SMuftq3z2t5mxbmHrXx4FQENNHwhvvqOcnkoeub2frNwOSTtd9LERvPviq+nl\n",
       "qd8HUs+5uo8FGa/sb1jwp48n8jCpR5Y49kn6Pd6LPjsW7Uo0Km6nflmEenkkxv46tQ3JOGYtS6fb\n",
       "ZvqOkPWzYZjYAmAIi1DTu902BP1dnn0TyufY6VgceHcQotF8FRWgOt+YZA3IpXMJ/ySv5XBXY5mU\n",
       "3tTxzNumYLnVrdT+s4dPXG7c0xEEHHmSPJJWD+9kGQ3Ma6TTVbO0Gikv8eKMROo7WiiNikbQZQQ+\n",
       "1DOFkI7CoidKp7/73j1yzByQmgQg8xhlYqThdkCL+/XH0HEPU9xd5KnkjXlH40Br1k6Ct7dRr9al\n",
       "5Y85MoEcYjnRYy8E4CPlaCrB3rvpdGfXzrGmuD15UcAAFBEAAAGtAZ6lakN/AA8ykmhX7kACHnwR\n",
       "uY7mS1NtOU7WDCMmfiHEpzDbHJcockmWHbJDF8q2+KLdJrn7n1HedudinRst0zbWIDdWbmdppMz1\n",
       "ntM7YGYTPMOFBPXlxq1JYpxDmK4XyQDnN+gymZA5bfesAw/KkiBm7LqJpfmZfgxLAjOx38buu6Nm\n",
       "3/NFSOvvc1KMKdlTNoNQ2E4NqbIA9PZC5BCv9eOyzSG2EU3nNwfQRK6tHWfk19tyWjPazgpzOYOC\n",
       "riZf5sG9XWgirlCBSSCWYXc0TB783s2M2fc8zCMdrPSsgMl8eI2oFgQlJinXiKyTG8aedmXDdjm3\n",
       "SzaFjIqsxBY5tcE6CqSfWfQh2ojrhX39MGmOtoozHzaTdGQ0J12nIcGXfIqYm8VGkJjluUcoSIsQ\n",
       "hiIm5WW64ipHwpB/dKlmCQipMqY9gv3Gv1xcOazmadW/07YgmNMTQ/7CRSTwjVg18r0kzmKrtTcm\n",
       "FKPDpACMymPDnXAkcOIqQoKuZdJ1t5uU/gj97YjMy+yNZN0z+Eo1wIwFAN6I4cTp+6plzHPNKWnL\n",
       "SB1wikAfgtz0wAIvAAAD4UGap0moQWiZTAgj//61KoAFdkBl0vACWrlwq1UFmzq61C5Fg+7SOTol\n",
       "kAhwBlwNmgWymG9V8FhU6L/wDy0ZlAw4elvpMXxqe/tcA1iuLtDQ68ih9VbC7qeuvmil5NHnqLX+\n",
       "37hE6XzdupInEoALmxAqv0WE4LsHn2ifHb1haUHSFmeF2UiumXx4Wep73mZoCTqceAJQFCy1KHj3\n",
       "BI5k4xUMSNE0xd1meAaKVRNupniyWyIiKqQ4W7CJxeY6a9RoMROAF9NYlu/SGgQu9PwEfzywMtEf\n",
       "pMZ0Qi5IWIjVBpnhCcwwiOkqBBVpFS42nxOOfT4MOFJ62b45IeBfc1CMdZNqpGUqQluT9lIigzRV\n",
       "M7JKDJsFjKi9pdoUINAsaOd/2dr2w6qNsq+gxH3DNuin0kRFhl1fSKSDMrNX7/fbAzcp2gQl0G4T\n",
       "y9GFiP22TvgkVEdNaHeDZxUjuTqXv5vuNDtj3Bp5+2FsKSBGRXStN/RhnvVVL6zJqPFHxLhgpj/p\n",
       "Qy6yW/+Xf8MeY8plQavCblOQj4SeSsO4FB0V6lEhzd0rrUa43VP+bPuUz7Var9p3JOI9AcO0o9D8\n",
       "9c1J2cvAW2TWzx36YxNe4PkL/VdgyzwoS47k1UzVew3gNlyLireF+QGlN8TYGhZRBYEdv0OFxKqX\n",
       "Pvthj4OdInmLBQHr0F8nFAuL+qmVdKta7P0I556T9wuaDsHFPVot3JJ7BcTHcywLsK6GURR7J3Vj\n",
       "9Zu/U91tWnLWTeF+JOlT3CN7FcIcO4PP/8c7vaFofp8TdABFk0M7/8yJT4OSQRJ8O2H0SBTqrGJo\n",
       "zd5c6UifRnt29yIPa6f94ZbglVR8tc8PQnxcum/4Jbr96l6/3kMScMPjfPLEipknQEjmGGi81Ygp\n",
       "s05U/q1If1vIY38P5BsrEOqDf6+noz3wCass+JZ4V9IY0vINtrpJ+2FnIt39JTuyQ9ROyMJFCYdN\n",
       "N0tx9cRWP7zSOYXjePoiGazUSBueACY/ej7Gsv+ulj3LZJf01kpe9K2SeQyZ9aHnye8KcYvEBo0s\n",
       "KyZuu6cdyepS3brlHlcIZgahJ0EGtXNKJ3plx3nKWQJCFSxXdCIpctDchbw4lA/KKoTEPhOdadvZ\n",
       "siUvmwzcc3ZdVSZB7njZqh1OqT7/0vk2viyShOLxCH8jDrq3mtkGj8f6R0CDKgHrdryBCYXjyqDP\n",
       "Db2kkbpjXbMlnpxRfwTVv5XWqHZiQci8Iz9WDAJTv1THIgLK/0kUTAvm32/fwo3D2wZSn8OOEqrs\n",
       "l2SRHliQBAgvG8+o7EatE+o2sAvzUkk6yd+f6jfCCgVw22ZsescQ8QAAA39BmstJ4QpSZTAgh//+\n",
       "qlUACunZ+5swALc6kXzvz6qx8axq+NdbwRhUWN2eDVuBrhYdsxZ8GMvhs2/w1pghau+VdzHng1dm\n",
       "JI/83P85ny0dEVMeZPe7oOwkKH6yy3smyfPyNyCzYc2kdM6Fsl1GkasmvchMsm+eXmyawHwNSR6/\n",
       "1XdlhFNy4aAqKUSA1D/cunO/DB2WtDqzVuLVcIOpHaFq6BbI6Cc8Z8MyFOlIG9CDxNmLohY7XVd3\n",
       "PYBRmTPLyhGVbMXwuMM7ftg3vE3s5/BbQ4VCI1x/raXA5cDoCdKqaidN3P1KMFWN/z0jPgN7ULXM\n",
       "NMAGDyVzM0r7Swsyey5h2UzfcGWsBD/8mII+QQpUlmbBh/erPF1juOqpyA2Z+fyFneyV70VHxuyA\n",
       "DRi7iSNxkKqQrlpfr/4nq4uHUig6YA+zAnmXW5YyNrJAWdaHFo5s7cRjZazru8AJS9R0XnN2IfDw\n",
       "Knl/7oY/KzrMoQaIf3BCgg1o25rtGmPNx3/NVKzrLoRnX2oxfqLCFYf52hg9DbW65ctCJ2tE6vBc\n",
       "61GDVP6fmdk7AtQs6fkX3/QdvZg+ONWQJed9xNr9oak1PrgpiGcCkVCJ19TG4mAb1LRpf3eUM2kJ\n",
       "y4ABNevqKJKRDh4iJ3rsS79mHbTdZzswXESXhwWkdbLfIPmCOeh3E0JOHUl8lSzcQ/owpHGi7yiX\n",
       "OEBUodgEbZbU6I/EUtHkIc0SzNLHcFCR9FQ7s23TwEtQfgGzLAAew7KUVCHVWNR2QJC8ACuYB+X7\n",
       "ljKEn2KcsNLc9pWMkVErPataDN4o/cdyilLnrzZWATnOdZdAhykgMXR3q3/EHR1h8mhTSAEeTFcA\n",
       "OutjGK6k6S3ZPUUAUbfq/vrek//0KwZmBtMmhf/UfIfjjwrEXNDLSKJ+BY5BIuuUBKkAC81nuk28\n",
       "U1vctfYc7C1MPY+Gd7XGAaL1Lkr9uYsjVqVnOjmxsvTyq3Q7+0oPc+P0qybmcHOIiVz2DRWJX5BS\n",
       "nCv3OeAiZFZx//FhdUw7MlWZNUg/qHw9NBCJn2zFaheoCWVUqnG2DYzhK6NEc5XT6jfSLuUQ99By\n",
       "mf7fETbiUQe+VaZfugI0f7hk0K/ykmx2wKdvjtHACWsEj90npeSYA1d9HG8OoO2Ipr69soENzoul\n",
       "uzSlY0A74qkOCaXcXiBMboja7ZQ9BLFOdSCfAAABG0Ge6UU0TDv/ABUyQ37QAf0Tlb4aVsduS5xg\n",
       "4gCBF5q05oK2yFY3UzAtwbdEIHZ2cXCyL9dEQ5wbQJOu/wCxZbJ1OA7HlFqkwUiz73em8EeL5Sk0\n",
       "8/qCHqRHocp6QMR4foryB2aLpe399rftTOql7l8LI2bptHxxSwWaksENZl5SCWtg+YN6FLdMkFke\n",
       "nb5vQTbUZ1lhRoheqCU26RIXkC7pprommIa+75M7o0kjkGHMN1i3XnDYgbQveD1e1BUJPRmt0O18\n",
       "9Nld7zvtl8FDJL1VR6crdgLUMk5112koPAv09rM+35O3iEdu95o5RIMMtDPE0TZJAs5qr2xpAyUX\n",
       "kVGgfFI/xMJo3aGP89ZaaQZe4QecFjJvB0cAAU0AAAEIAZ8IdEN/AB2sltxAAiDmk/cth7vTy7vh\n",
       "zYXeeJs9QzPsHtq9FjSlLInupxx9W69CscLAEtvZmbMh3RjMGtvd+yspb8HyfKTLwzFHdjQmFSTZ\n",
       "rg1USG6hBETGq1HdJbDDW6O4alni39jj0X9wdDqm2ssJlZnMwW6M2j5jgwkLa3CSNnyvaMSONcR/\n",
       "qqI9GKdFXF0EJDTe8BaGTHHTMaKMhdunEFGWpj/5LVaKm4ruNj2/ThdAbGKYbQX9awfkJb0dgkk1\n",
       "PtepPUe3pHWxGyPI4y42DLPxnvjQUk3RC1XklTe/LHItlzs28bz5cBh/3SltZjErm2d3YfitMnaI\n",
       "JiEVlMZBzjQIAMWBAAAASAGfCmpDfwARKMsjpBrzqAEIa9D4xx/Pxr0Pl2zITB/UzlkSr8kj0ZXN\n",
       "+GsIkfHL2JLcE9em87+kppZ8RO6mV1IlX1Dx9BABjQAAAZ5Bmw9JqEFomUwIIf/+qlUACysNxjZn\n",
       "gAE62wWgT8dPCfmOfszLFHGKrnLc4yN2/yCwCr8q2gTFCE05fzhU+9DMKhQL3TaXLBSudZRwjvgI\n",
       "xsQJu7Vjt1wqQvIs4di6Zzbfhxo+3i32a/lb+d/Y64i5P+HYsidgcQr8tAu76LIXR67FpvP7O7Ee\n",
       "fdXrMGHo9oZvUCyBTjKq1LcIwvxCk/E2oybplCFUsakIKD6oZ2Vl/aLtL5sW/lkpOggf6SGyXf1y\n",
       "wDLcwmQK59gTQma+SM2uwDFHcyOnyYU6dQUXgiWoP39pxBpsJMHpPeJBFf97DGecBlF8PMnRRkMY\n",
       "RQ3vy54IWxk+IcAMBmKL1nXgi9gdfnt4D8tH09+oe4bH3jgbPw3jrZKTaQlPAtFDaPnRqCAbZ58E\n",
       "2AIedpxE/CqBO/Afnx5eLhMGaGwPAF/9KgppzzR2GFarkMrwMIbbG5H4J5YRgyjhsSo3cruGmJtb\n",
       "wDypTzzEef6MvrQfSCPUmLwOAUYWRl9gydcRwwmd/0VjH+3BGED21g2pWBQdQxBH4O8AAAB8QZ8t\n",
       "RREsO/8ADDbAjDFWd+wAmp5ZafwvIFr9VIpAucOdK9HKf96vNTnelSs+Dtf6cy1IgbM1Sog7g1iw\n",
       "bVRZPamyXJO/Y+SxfmnZaJtFZSZbDrpcaNaBSgPH9a5yrKJ60DR3WzsvkTXuAU2soVgLczYmTiR1\n",
       "JyAADlSyoQAAACsBn0x0Q38AESjLI6LIgUlZ/3LoTjd7W0sDvceF2T+IAPFuFUmY0ABHevUhAAAA\n",
       "KgGfTmpDfwARKMsjosiBSVn7lhqnedVD8fsDvciij69LGondYdYACVFLzQAAASFBm1NJqEFsmUwI\n",
       "b//+p4QAVlm8THt2ADaTmXaYX7h6wCnGN8e7/O+F47j1ct1Z/gv8Fvq6j0V0QtswU94niBU2sG3V\n",
       "VIBCEnd7hi+F2XJWyVL9gD1YdixkVuBMVcV4e998RohWlyWKrd/Y5MA4LvoaBoLtf5bTiK5v/O4O\n",
       "7i+WiIESzzd2Y4A1gwF45+ml2z7vagDc/A+6Xyf2L3iBABTFcLx0hO8VzP/v6egt3ioeiHdG3DLU\n",
       "ugxF8DJhby5AqSuSkBpCgsCtuR3OcfmmyYHVmow2ojAcuQuzdXVgCA64fCjo+6kwTK95NIcB88nB\n",
       "iuOCe2R3SCvgwQGMvVkBm66ro4pme4ORBZMvl5xE2SrtFNSU4bzwi4OEBQwG0XK6RGB+AAAAeUGf\n",
       "cUUVLDv/AAw2wIwxaKywAmbP1jy7iKSKgzQrbRShXrdmQVv+ojXhASdRilCjBLTdB3MWXBavSd5k\n",
       "szi+gWvaYnkPTciZxFb/ZlBYoQDrmCNL2cD7HD9atAwziXgAOo/rE0JB3Jl7z5krC+//vqKy0Fq8\n",
       "gAB6AscAAAAmAZ+QdEN/ABEoyyOiyIFJWf9zhemQQyJx4aXS71ExQGcFUAD5+bMAAAAqAZ+SakN/\n",
       "ABEoyyOiyIFJWf+X1h81E4qwDHyqOsU8XZXMpmAvR3SeAAg4AAAED21vb3YAAABsbXZoZAAAAAAA\n",
       "AAAAAAAAAAAAA+gAAAfQAAEAAAEAAAAAAAAAAAAAAAABAAAAAAAAAAAAAAAAAAAAAQAAAAAAAAAA\n",
       "AAAAAAAAQAAAAAAAAAAAAAAAAAAAAAAAAAAAAAAAAAAAAAAAAAIAAAM5dHJhawAAAFx0a2hkAAAA\n",
       "AwAAAAAAAAAAAAAAAQAAAAAAAAfQAAAAAAAAAAAAAAAAAAAAAAABAAAAAAAAAAAAAAAAAAAAAQAA\n",
       "AAAAAAAAAAAAAAAAQAAAAAH0AAABkAAAAAAAJGVkdHMAAAAcZWxzdAAAAAAAAAABAAAH0AAACAAA\n",
       "AQAAAAACsW1kaWEAAAAgbWRoZAAAAAAAAAAAAAAAAAAAKAAAAFAAVcQAAAAAAC1oZGxyAAAAAAAA\n",
       "AAB2aWRlAAAAAAAAAAAAAAAAVmlkZW9IYW5kbGVyAAAAAlxtaW5mAAAAFHZtaGQAAAABAAAAAAAA\n",
       "AAAAAAAkZGluZgAAABxkcmVmAAAAAAAAAAEAAAAMdXJsIAAAAAEAAAIcc3RibAAAALRzdHNkAAAA\n",
       "AAAAAAEAAACkYXZjMQAAAAAAAAABAAAAAAAAAAAAAAAAAAAAAAH0AZAASAAAAEgAAAAAAAAAAQAA\n",
       "AAAAAAAAAAAAAAAAAAAAAAAAAAAAAAAAAAAAAAAAABj//wAAADJhdmNDAWQAFv/hABlnZAAWrNlA\n",
       "gDPn4QAAAwABAAADABQPFi2WAQAGaOvjyyLAAAAAHHV1aWRraEDyXyRPxbo5pRvPAyPzAAAAAAAA\n",
       "ABhzdHRzAAAAAAAAAAEAAAAUAAAEAAAAABRzdHNzAAAAAAAAAAEAAAABAAAAoGN0dHMAAAAAAAAA\n",
       "EgAAAAMAAAgAAAAAAQAAFAAAAAABAAAIAAAAAAEAAAAAAAAAAQAABAAAAAABAAAIAAAAAAEAABQA\n",
       "AAAAAQAACAAAAAABAAAAAAAAAAEAAAQAAAAAAQAAFAAAAAABAAAIAAAAAAEAAAAAAAAAAQAABAAA\n",
       "AAABAAAUAAAAAAEAAAgAAAAAAQAAAAAAAAABAAAEAAAAABxzdHNjAAAAAAAAAAEAAAABAAAAFAAA\n",
       "AAEAAABkc3RzegAAAAAAAAAAAAAAFAAAGvgAAAQbAAAEtQAABgQAAAKiAAAChAAAAbEAAAPlAAAD\n",
       "gwAAAR8AAAEMAAAATAAAAaIAAACAAAAALwAAAC4AAAElAAAAfQAAACoAAAAuAAAAFHN0Y28AAAAA\n",
       "AAAAAQAAACwAAABidWR0YQAAAFptZXRhAAAAAAAAACFoZGxyAAAAAAAAAABtZGlyYXBwbAAAAAAA\n",
       "AAAAAAAAAC1pbHN0AAAAJal0b28AAAAdZGF0YQAAAAEAAAAATGF2ZjU3LjU2LjEwMQ==\n",
       "\">\n",
       "  Your browser does not support the video tag.\n",
       "</video>"
      ],
      "text/plain": [
       "<matplotlib.animation.FuncAnimation at 0x7f28628b9d68>"
      ]
     },
     "execution_count": 26,
     "metadata": {},
     "output_type": "execute_result"
    }
   ],
   "source": [
    "fig = plt.figure(dpi=100, figsize=(5, 4))\n",
    "plt.scatter(x,y)\n",
    "line, = plt.plot(x,lin(a_guess,b_guess,x))\n",
    "plt.close()\n",
    "\n",
    "def animate(i):\n",
    "    line.set_ydata(lin(a_guess,b_guess,x))\n",
    "    for i in range(30): upd()\n",
    "    return line,\n",
    "\n",
    "ani = animation.FuncAnimation(fig, animate, np.arange(0, 20), interval=100)\n",
    "ani"
   ]
  },
  {
   "cell_type": "code",
   "execution_count": 27,
   "metadata": {},
   "outputs": [
    {
     "data": {
      "text/plain": [
       "('Tue Jul 17 14:20:58 2018', 145.54671299999998)"
      ]
     },
     "execution_count": 27,
     "metadata": {},
     "output_type": "execute_result"
    }
   ],
   "source": [
    "t1 = time.clock()\n",
    "time.ctime(time.time()), (t1 - t0)"
   ]
  }
 ],
 "metadata": {
  "kernelspec": {
   "display_name": "Python 3",
   "language": "python",
   "name": "python3"
  },
  "language_info": {
   "codemirror_mode": {
    "name": "ipython",
    "version": 3
   },
   "file_extension": ".py",
   "mimetype": "text/x-python",
   "name": "python",
   "nbconvert_exporter": "python",
   "pygments_lexer": "ipython3",
   "version": "3.6.5"
  },
  "nav_menu": {},
  "toc": {
   "nav_menu": {
    "height": "116px",
    "width": "251px"
   },
   "number_sections": true,
   "sideBar": true,
   "skip_h1_title": false,
   "toc_cell": true,
   "toc_position": {},
   "toc_section_display": "block",
   "toc_window_display": false
  },
  "widgets": {
   "state": {},
   "version": "1.1.2"
  }
 },
 "nbformat": 4,
 "nbformat_minor": 1
}
