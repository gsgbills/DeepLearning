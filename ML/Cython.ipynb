{
 "cells": [
  {
   "cell_type": "markdown",
   "metadata": {
    "toc": true
   },
   "source": [
    "<h1>Table of Contents<span class=\"tocSkip\"></span></h1>\n",
    "<div class=\"toc\" style=\"margin-top: 1em;\"><ul class=\"toc-item\"><li><span><a href=\"#Cython\" data-toc-modified-id=\"Cython-1\"><span class=\"toc-item-num\">1&nbsp;&nbsp;</span>Cython</a></span></li></ul></div>"
   ]
  },
  {
   "cell_type": "markdown",
   "metadata": {},
   "source": [
    "# Cython"
   ]
  },
  {
   "cell_type": "code",
   "execution_count": 4,
   "metadata": {},
   "outputs": [
    {
     "name": "stdout",
     "output_type": "stream",
     "text": [
      "Solving environment: done\n",
      "\n",
      "## Package Plan ##\n",
      "\n",
      "  environment location: /home/german/anaconda3/envs/GSGfastai\n",
      "\n",
      "  added / updated specs: \n",
      "    - cython\n",
      "\n",
      "\n",
      "The following packages will be downloaded:\n",
      "\n",
      "    package                    |            build\n",
      "    ---------------------------|-----------------\n",
      "    cython-0.28.3              |   py36h14c3975_0         3.4 MB\n",
      "    numpy-1.14.3               |   py36h28100ab_2          42 KB\n",
      "    blas-1.0                   |              mkl           6 KB\n",
      "    ------------------------------------------------------------\n",
      "                                           Total:         3.4 MB\n",
      "\n",
      "The following NEW packages will be INSTALLED:\n",
      "\n",
      "    cython:          0.28.3-py36h14c3975_0                            \n",
      "\n",
      "The following packages will be UPDATED:\n",
      "\n",
      "    certifi:         2018.4.16-py36_0                      conda-forge --> 2018.4.16-py36_0     \n",
      "    openssl:         1.0.2o-0                              conda-forge --> 1.0.2o-h20670df_0    \n",
      "\n",
      "The following packages will be DOWNGRADED:\n",
      "\n",
      "    blas:            1.1-openblas                          conda-forge --> 1.0-mkl              \n",
      "    ca-certificates: 2018.4.16-0                           conda-forge --> 2018.03.07-0         \n",
      "    numpy:           1.14.5-py36_blas_openblash24bf2e0_200 conda-forge [blas_openblas] --> 1.14.3-py36h28100ab_2\n",
      "    scipy:           1.1.0-py36_blas_openblas_200          conda-forge [blas_openblas] --> 1.1.0-py36hfc37229_0 \n",
      "\n",
      "\n",
      "Downloading and Extracting Packages\n",
      "cython-0.28.3        |  3.4 MB | ####################################### | 100% \n",
      "numpy-1.14.3         |   42 KB | ####################################### | 100% \n",
      "blas-1.0             |    6 KB | ####################################### | 100% \n",
      "Preparing transaction: done\n",
      "Verifying transaction: done\n",
      "Executing transaction: done\n"
     ]
    }
   ],
   "source": [
    "#!conda install -y cython"
   ]
  },
  {
   "cell_type": "code",
   "execution_count": 5,
   "metadata": {},
   "outputs": [],
   "source": [
    "%load_ext Cython"
   ]
  },
  {
   "cell_type": "code",
   "execution_count": 6,
   "metadata": {},
   "outputs": [],
   "source": [
    "def fib1(n):\n",
    "    a, b = 0, 1\n",
    "    while b < n:\n",
    "        a, b = b, a + b"
   ]
  },
  {
   "cell_type": "code",
   "execution_count": 8,
   "metadata": {},
   "outputs": [],
   "source": [
    "%%cython\n",
    "def fib2(n):\n",
    "    a, b = 0, 1\n",
    "    while b < n:\n",
    "        a, b = b, a + b"
   ]
  },
  {
   "cell_type": "code",
   "execution_count": 9,
   "metadata": {},
   "outputs": [],
   "source": [
    "%%cython\n",
    "def fib3(int n):\n",
    "    cdef int b = 1\n",
    "    cdef int a = 0\n",
    "    cdef int t = 0\n",
    "    while b < n:\n",
    "        t = a\n",
    "        a = b\n",
    "        b = a + b"
   ]
  },
  {
   "cell_type": "code",
   "execution_count": 10,
   "metadata": {},
   "outputs": [
    {
     "name": "stdout",
     "output_type": "stream",
     "text": [
      "579 ns ± 6.07 ns per loop (mean ± std. dev. of 7 runs, 1000000 loops each)\n"
     ]
    }
   ],
   "source": [
    "%timeit fib1(50)"
   ]
  },
  {
   "cell_type": "code",
   "execution_count": 11,
   "metadata": {},
   "outputs": [
    {
     "name": "stdout",
     "output_type": "stream",
     "text": [
      "274 ns ± 1.33 ns per loop (mean ± std. dev. of 7 runs, 1000000 loops each)\n"
     ]
    }
   ],
   "source": [
    "%timeit fib2(50)"
   ]
  },
  {
   "cell_type": "code",
   "execution_count": 12,
   "metadata": {},
   "outputs": [
    {
     "name": "stdout",
     "output_type": "stream",
     "text": [
      "59.6 ns ± 7.63 ns per loop (mean ± std. dev. of 7 runs, 10000000 loops each)\n"
     ]
    }
   ],
   "source": [
    "%timeit fib3(50)"
   ]
  },
  {
   "cell_type": "code",
   "execution_count": null,
   "metadata": {},
   "outputs": [],
   "source": []
  }
 ],
 "metadata": {
  "kernelspec": {
   "display_name": "Python 3",
   "language": "python",
   "name": "python3"
  },
  "language_info": {
   "codemirror_mode": {
    "name": "ipython",
    "version": 3
   },
   "file_extension": ".py",
   "mimetype": "text/x-python",
   "name": "python",
   "nbconvert_exporter": "python",
   "pygments_lexer": "ipython3",
   "version": "3.6.5"
  },
  "toc": {
   "nav_menu": {},
   "number_sections": true,
   "sideBar": true,
   "skip_h1_title": false,
   "toc_cell": true,
   "toc_position": {},
   "toc_section_display": "block",
   "toc_window_display": true
  }
 },
 "nbformat": 4,
 "nbformat_minor": 2
}
