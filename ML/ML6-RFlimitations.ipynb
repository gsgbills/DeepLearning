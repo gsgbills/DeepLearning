{
 "cells": [
  {
   "cell_type": "markdown",
   "metadata": {
    "collapsed": true
   },
   "source": [
    "# Limits on Random Forest"
   ]
  },
  {
   "cell_type": "markdown",
   "metadata": {},
   "source": [
    "See discussion in [Lesson6](https://www.youtube.com/watch?v=BFIYUvBRTpE&feature=youtu.be), 2nd half."
   ]
  },
  {
   "cell_type": "code",
   "execution_count": 1,
   "metadata": {},
   "outputs": [],
   "source": [
    "%matplotlib inline\n",
    "from sklearn.ensemble import RandomForestRegressor"
   ]
  },
  {
   "cell_type": "markdown",
   "metadata": {},
   "source": [
    "We create a synthetic data set that has a simple linear relationship.\n",
    "We pretend it's like a time series.\n",
    "We create some `x` values using `linspace`,\n",
    "which creates evenly spaced data between start and stop.\n",
    "By default 50 observations. "
   ]
  },
  {
   "cell_type": "code",
   "execution_count": 2,
   "metadata": {},
   "outputs": [],
   "source": [
    "import numpy as np"
   ]
  },
  {
   "cell_type": "code",
   "execution_count": 3,
   "metadata": {},
   "outputs": [
    {
     "data": {
      "text/plain": [
       "array([0.        , 0.02040816, 0.04081633, 0.06122449, 0.08163265,\n",
       "       0.10204082, 0.12244898, 0.14285714, 0.16326531, 0.18367347,\n",
       "       0.20408163, 0.2244898 , 0.24489796, 0.26530612, 0.28571429,\n",
       "       0.30612245, 0.32653061, 0.34693878, 0.36734694, 0.3877551 ,\n",
       "       0.40816327, 0.42857143, 0.44897959, 0.46938776, 0.48979592,\n",
       "       0.51020408, 0.53061224, 0.55102041, 0.57142857, 0.59183673,\n",
       "       0.6122449 , 0.63265306, 0.65306122, 0.67346939, 0.69387755,\n",
       "       0.71428571, 0.73469388, 0.75510204, 0.7755102 , 0.79591837,\n",
       "       0.81632653, 0.83673469, 0.85714286, 0.87755102, 0.89795918,\n",
       "       0.91836735, 0.93877551, 0.95918367, 0.97959184, 1.        ])"
      ]
     },
     "execution_count": 3,
     "metadata": {},
     "output_type": "execute_result"
    }
   ],
   "source": [
    "x = np.linspace(0,1); x"
   ]
  },
  {
   "cell_type": "markdown",
   "metadata": {},
   "source": [
    "We create a dependent variable `y`, let's assume there's just a linear relationship\n",
    "between `x` and `y` and let's add a little randomness to it right.\n",
    "So uniform random between low and high, add somewhere between -0.2 and 0.2 \n",
    "Next thing we need is a shape, i.e., what dimensions we want these random numbers to be.\n",
    "We want them to be in the same shape as `x.shape`."
   ]
  },
  {
   "cell_type": "code",
   "execution_count": 4,
   "metadata": {},
   "outputs": [
    {
     "data": {
      "text/plain": [
       "array([ 0.09407309,  0.18567407,  0.12436314,  0.16750698,  0.05777909,\n",
       "       -0.11997177,  0.04438375, -0.1142768 ,  0.07757325, -0.17121159,\n",
       "       -0.13227678, -0.09941014,  0.16692003, -0.16914262,  0.10544119,\n",
       "        0.17946995,  0.0433974 ,  0.00421567, -0.05924304,  0.03757223,\n",
       "       -0.18908449, -0.02685977,  0.10116278,  0.02698587,  0.19907789,\n",
       "        0.10658279,  0.06276655,  0.14283472, -0.02001296, -0.13937974,\n",
       "        0.0266366 ,  0.13030087, -0.02561303, -0.15653236, -0.17726356,\n",
       "        0.13148433,  0.08187373,  0.04267618,  0.09102226, -0.13498956,\n",
       "        0.04509929, -0.04791949, -0.06790463,  0.16203804, -0.18941155,\n",
       "       -0.17885645, -0.19080804, -0.13647422, -0.13253499,  0.02238603])"
      ]
     },
     "execution_count": 4,
     "metadata": {},
     "output_type": "execute_result"
    }
   ],
   "source": [
    "y = np.random.uniform(-0.2,0.2, x.shape); y"
   ]
  },
  {
   "cell_type": "markdown",
   "metadata": {},
   "source": [
    "Now we plot those "
   ]
  },
  {
   "cell_type": "code",
   "execution_count": 5,
   "metadata": {},
   "outputs": [
    {
     "data": {
      "text/plain": [
       "<matplotlib.collections.PathCollection at 0x7f05c65634e0>"
      ]
     },
     "execution_count": 5,
     "metadata": {},
     "output_type": "execute_result"
    },
    {
     "data": {
      "image/png": "[encoded data removed]",
      "text/plain": [
       "<matplotlib.figure.Figure at 0x7f05f5ec1278>"
      ]
     },
     "metadata": {},
     "output_type": "display_data"
    }
   ],
   "source": [
    "import matplotlib.pyplot as plt\n",
    "plt.scatter(x,y)"
   ]
  },
  {
   "cell_type": "code",
   "execution_count": 6,
   "metadata": {},
   "outputs": [
    {
     "data": {
      "text/plain": [
       "(50,)"
      ]
     },
     "execution_count": 6,
     "metadata": {},
     "output_type": "execute_result"
    }
   ],
   "source": [
    "x.shape"
   ]
  },
  {
   "cell_type": "code",
   "execution_count": 7,
   "metadata": {},
   "outputs": [
    {
     "data": {
      "text/plain": [
       "1"
      ]
     },
     "execution_count": 7,
     "metadata": {},
     "output_type": "execute_result"
    }
   ],
   "source": [
    "len(x.shape)  # notice that x rank = len(x.shape) == 1"
   ]
  },
  {
   "cell_type": "markdown",
   "metadata": {},
   "source": [
    "How do we turn a one-dimensional array into a two-dimensional array?\n",
    "There's a couple of ways we can do it.\n",
    "Here we slice it right.\n",
    "- `:` means give me everything in that axis.\n",
    "- `:, None` means give me everything in the first axis and `None` is a special indexer\n",
    "which means add a unit axis.\n",
    "So this returns the shape `(50, 1)`, i.e., rank 2."
   ]
  },
  {
   "cell_type": "code",
   "execution_count": 8,
   "metadata": {},
   "outputs": [
    {
     "data": {
      "text/plain": [
       "(50, 1)"
      ]
     },
     "execution_count": 8,
     "metadata": {},
     "output_type": "execute_result"
    }
   ],
   "source": [
    "x[:,None].shape #this is of rank 2, by adding None we introduced a new axis.  50 rows, 1 column"
   ]
  },
  {
   "cell_type": "code",
   "execution_count": 9,
   "metadata": {},
   "outputs": [
    {
     "data": {
      "text/plain": [
       "(1, 50)"
      ]
     },
     "execution_count": 9,
     "metadata": {},
     "output_type": "execute_result"
    }
   ],
   "source": [
    "x[None,:].shape  #has rank 2, with 1 row and 50 columns   (we want the other)"
   ]
  },
  {
   "cell_type": "code",
   "execution_count": 10,
   "metadata": {},
   "outputs": [
    {
     "data": {
      "text/plain": [
       "(1, 50)"
      ]
     },
     "execution_count": 10,
     "metadata": {},
     "output_type": "execute_result"
    }
   ],
   "source": [
    "x[None].shape  #equivalent to x[None,:].shape "
   ]
  },
  {
   "cell_type": "code",
   "execution_count": 11,
   "metadata": {},
   "outputs": [
    {
     "data": {
      "text/plain": [
       "(50, 1)"
      ]
     },
     "execution_count": 11,
     "metadata": {},
     "output_type": "execute_result"
    }
   ],
   "source": [
    "x[...,None].shape  # ... means as many dimensions as needed, so the new dimension is always the last one"
   ]
  },
  {
   "cell_type": "markdown",
   "metadata": {},
   "source": [
    "Below adds it in the last dimension.\n",
    "`...` means, \"as many dimensions as needed\"."
   ]
  },
  {
   "cell_type": "code",
   "execution_count": 12,
   "metadata": {},
   "outputs": [],
   "source": [
    "x1 = x[...,None]"
   ]
  },
  {
   "cell_type": "code",
   "execution_count": 13,
   "metadata": {},
   "outputs": [],
   "source": [
    "x_trn, x_val = x1[:40], x1[40:]\n",
    "y_trn, y_val = y[:40], y[40:]"
   ]
  },
  {
   "cell_type": "code",
   "execution_count": 14,
   "metadata": {},
   "outputs": [],
   "source": [
    "m = RandomForestRegressor().fit(x_trn,y_trn)"
   ]
  },
  {
   "cell_type": "code",
   "execution_count": 15,
   "metadata": {},
   "outputs": [
    {
     "data": {
      "text/plain": [
       "<matplotlib.collections.PathCollection at 0x7f05c64f5be0>"
      ]
     },
     "execution_count": 15,
     "metadata": {},
     "output_type": "execute_result"
    },
    {
     "data": {
      "image/png": "[encoded data removed]",
      "text/plain": [
       "<matplotlib.figure.Figure at 0x7f05c6583518>"
      ]
     },
     "metadata": {},
     "output_type": "display_data"
    }
   ],
   "source": [
    "plt.scatter(y_trn, m.predict(x_trn))   # should look as before, but with some randomness"
   ]
  },
  {
   "cell_type": "markdown",
   "metadata": {},
   "source": [
    "Below is just returning the average of nearby observations where nearby.\n",
    "Because RF does just that, i.e., it **can not extrapolate to the future**."
   ]
  },
  {
   "cell_type": "code",
   "execution_count": 16,
   "metadata": {},
   "outputs": [
    {
     "data": {
      "text/plain": [
       "<matplotlib.collections.PathCollection at 0x7f05c646f898>"
      ]
     },
     "execution_count": 16,
     "metadata": {},
     "output_type": "execute_result"
    },
    {
     "data": {
      "image/png": "[encoded data removed]",
      "text/plain": [
       "<matplotlib.figure.Figure at 0x7f05c650d080>"
      ]
     },
     "metadata": {},
     "output_type": "display_data"
    }
   ],
   "source": [
    "plt.scatter(y_val, m.predict(x_val))"
   ]
  },
  {
   "cell_type": "markdown",
   "metadata": {},
   "source": [
    "One way to deal with this is to use a neural net.\n",
    "Another is to fit a time series, and then D-trend it.\n",
    "We will end up with D-trended dots, and then use the RF to predict those.\n",
    "<br>\n",
    "Imagine that your RF was trying to predict data, eg 2 states, blue and red.\n",
    "If we try to use a RF it's going to do a bad job, because time is going to much more important.\n",
    "We are not gonna see the other relationships in the Rf until we have dealt and kill every tree deals\n",
    "with time.\n",
    "One way to fix this is with a Gradient Boosting Machine (GBM)\n",
    "A GBM creates a little tree and runs everything through that first little tree \n",
    "which could be like the time tree and then it calculates the residuals,\n",
    "and then the next little tree just predicts the residuals.\n",
    "So it'd be like D-trending.\n",
    "GBM can handle this.\n",
    "GBMs still can't extrapolate to the future, \n",
    "but at least they can deal with time-dependent data more conveniently."
   ]
  },
  {
   "cell_type": "code",
   "execution_count": null,
   "metadata": {},
   "outputs": [],
   "source": []
  }
 ],
 "metadata": {
  "kernelspec": {
   "display_name": "Python 3",
   "language": "python",
   "name": "python3"
  },
  "language_info": {
   "codemirror_mode": {
    "name": "ipython",
    "version": 3
   },
   "file_extension": ".py",
   "mimetype": "text/x-python",
   "name": "python",
   "nbconvert_exporter": "python",
   "pygments_lexer": "ipython3",
   "version": "3.6.4"
  },
  "toc": {
   "nav_menu": {
    "height": "512px",
    "width": "252px"
   },
   "number_sections": true,
   "sideBar": true,
   "skip_h1_title": false,
   "toc_cell": false,
   "toc_position": {},
   "toc_section_display": "block",
   "toc_window_display": false
  }
 },
 "nbformat": 4,
 "nbformat_minor": 2
}
